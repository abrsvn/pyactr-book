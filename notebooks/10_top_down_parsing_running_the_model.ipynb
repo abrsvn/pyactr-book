{
 "cells": [
  {
   "cell_type": "markdown",
   "metadata": {},
   "source": [
    "[![Open In Colab](./images/colab-badge.png)](https://colab.research.google.com/github/abrsvn/pyactr-book/blob/master/notebooks/10_top_down_parsing_running_the_model.ipynb)"
   ]
  },
  {
   "cell_type": "markdown",
   "metadata": {},
   "source": [
    "Model up to this point:"
   ]
  },
  {
   "cell_type": "code",
   "execution_count": 1,
   "metadata": {},
   "outputs": [],
   "source": [
    "import pyactr as actr"
   ]
  },
  {
   "cell_type": "code",
   "execution_count": 2,
   "metadata": {},
   "outputs": [],
   "source": [
    "actr.chunktype(\"parsing_goal\", \"stack_top stack_bottom parsed_word task\")\n",
    "actr.chunktype(\"sentence\", \"word1 word2 word3\")\n",
    "actr.chunktype(\"word\", \"form, cat\")"
   ]
  },
  {
   "cell_type": "code",
   "execution_count": 3,
   "metadata": {},
   "outputs": [],
   "source": [
    "parser = actr.ACTRModel()\n",
    "dm = parser.decmem\n",
    "g = parser.goal\n",
    "imaginal = parser.set_goal(name=\"imaginal\", delay=0.2)"
   ]
  },
  {
   "cell_type": "code",
   "execution_count": 4,
   "metadata": {},
   "outputs": [],
   "source": [
    "g.add(actr.chunkstring(string=\"\"\"\n",
    "    isa parsing_goal\n",
    "    task parsing\n",
    "    stack_top S\n",
    "\"\"\"))\n",
    "\n",
    "imaginal.add(actr.chunkstring(string=\"\"\"\n",
    "    isa sentence\n",
    "    word1 Mary\n",
    "    word2 likes\n",
    "    word3 Bill\n",
    "\"\"\"))"
   ]
  },
  {
   "cell_type": "code",
   "execution_count": 5,
   "metadata": {},
   "outputs": [],
   "source": [
    "dm.add(actr.chunkstring(string=\"\"\"\n",
    "    isa word\n",
    "    form Mary\n",
    "    cat ProperN\n",
    "\"\"\"))\n",
    "dm.add(actr.chunkstring(string=\"\"\"\n",
    "    isa word\n",
    "    form Bill\n",
    "    cat ProperN\n",
    "\"\"\"))\n",
    "dm.add(actr.chunkstring(string=\"\"\"\n",
    "    isa word\n",
    "    form likes\n",
    "    cat V\n",
    "\"\"\"))"
   ]
  },
  {
   "cell_type": "code",
   "execution_count": 6,
   "metadata": {},
   "outputs": [],
   "source": [
    "parser.productionstring(name=\"expand: S ==> NP VP\", string=\"\"\"\n",
    "    =g>\n",
    "    isa parsing_goal\n",
    "    task parsing\n",
    "    stack_top S\n",
    "    ==>\n",
    "    =g>\n",
    "    isa parsing_goal\n",
    "    stack_top NP\n",
    "    stack_bottom VP\n",
    "\"\"\")\n",
    "\n",
    "parser.productionstring(name=\"expand: NP ==> ProperN\", string=\"\"\"\n",
    "    =g>\n",
    "    isa parsing_goal\n",
    "    task parsing\n",
    "    stack_top NP\n",
    "    ==>\n",
    "    =g>\n",
    "    isa parsing_goal\n",
    "    stack_top ProperN\n",
    "\"\"\")\n",
    "\n",
    "parser.productionstring(name=\"expand: VP ==> V NP\", string=\"\"\"\n",
    "    =g>\n",
    "    isa parsing_goal\n",
    "    task parsing\n",
    "    stack_top VP\n",
    "    ==>\n",
    "    =g>\n",
    "    isa parsing_goal\n",
    "    stack_top V\n",
    "    stack_bottom NP\n",
    "\"\"\")\n",
    "\n",
    "parser.productionstring(name=\"retrieve: ProperN\", string=\"\"\"\n",
    "    =g>\n",
    "    isa parsing_goal\n",
    "    task parsing\n",
    "    stack_top ProperN\n",
    "    =imaginal>\n",
    "    isa sentence\n",
    "    word1 =w1\n",
    "    ==>\n",
    "    =g>\n",
    "    isa parsing_goal\n",
    "    task retrieving\n",
    "    +retrieval>\n",
    "    isa word\n",
    "    form =w1\n",
    "\"\"\")\n",
    "\n",
    "parser.productionstring(name=\"retrieve: V\", string=\"\"\"\n",
    "    =g>\n",
    "    isa parsing_goal\n",
    "    task parsing\n",
    "    stack_top V\n",
    "    =imaginal>\n",
    "    isa sentence\n",
    "    word1 =w1\n",
    "    ==>\n",
    "    =g>\n",
    "    isa parsing_goal\n",
    "    task retrieving\n",
    "    +retrieval>\n",
    "    isa word\n",
    "    form =w1\n",
    "\"\"\")\n",
    "\n",
    "parser.productionstring(name=\"scan: word\", string=\"\"\"\n",
    "    =g>\n",
    "    isa parsing_goal\n",
    "    task retrieving\n",
    "    stack_top =y\n",
    "    stack_bottom =x\n",
    "    =retrieval>\n",
    "    isa word\n",
    "    form =w1\n",
    "    cat =y\n",
    "    =imaginal>\n",
    "    isa sentence\n",
    "    word1 =w1\n",
    "    word2 =w2\n",
    "    word3 =w3\n",
    "    ==>\n",
    "    =g>\n",
    "    isa parsing_goal\n",
    "    task printing\n",
    "    stack_top =x\n",
    "    stack_bottom None\n",
    "    parsed_word =w1\n",
    "    =imaginal>\n",
    "    isa sentence\n",
    "    word1 =w2\n",
    "    word2 =w3\n",
    "    word3 None\n",
    "    ~retrieval>\n",
    "\"\"\")\n",
    "\n",
    "parser.productionstring(name=\"print parsed word\", string=\"\"\"\n",
    "    =g>\n",
    "    isa parsing_goal\n",
    "    task printing\n",
    "    =imaginal>\n",
    "    isa sentence\n",
    "    word1 ~None\n",
    "    ==>\n",
    "    !g>\n",
    "    show parsed_word\n",
    "    =g>\n",
    "    isa parsing_goal\n",
    "    task parsing\n",
    "    parsed_word None\n",
    "\"\"\")\n",
    "\n",
    "parser.productionstring(name=\"done\", string=\"\"\"\n",
    "    =g>\n",
    "    isa parsing_goal\n",
    "    task printing\n",
    "    =imaginal>\n",
    "    isa sentence\n",
    "    word1 None\n",
    "    ==>\n",
    "    !g>\n",
    "    show parsed_word\n",
    "    ~imaginal>\n",
    "    ~g>\n",
    "\"\"\");"
   ]
  },
  {
   "cell_type": "markdown",
   "metadata": {},
   "source": [
    "## Running the model\n",
    "\n",
    "We run the model as before: we first instantiate a simulation of the model and then run it."
   ]
  },
  {
   "cell_type": "code",
   "execution_count": 7,
   "metadata": {},
   "outputs": [
    {
     "name": "stdout",
     "output_type": "stream",
     "text": [
      "(0, 'PROCEDURAL', 'CONFLICT RESOLUTION')\n",
      "(0, 'PROCEDURAL', 'RULE SELECTED: expand: S ==> NP VP')\n",
      "(0.05, 'PROCEDURAL', 'RULE FIRED: expand: S ==> NP VP')\n",
      "(0.05, 'g', 'MODIFIED')\n",
      "(0.05, 'PROCEDURAL', 'CONFLICT RESOLUTION')\n",
      "(0.05, 'PROCEDURAL', 'RULE SELECTED: expand: NP ==> ProperN')\n",
      "(0.1, 'PROCEDURAL', 'RULE FIRED: expand: NP ==> ProperN')\n",
      "(0.1, 'g', 'MODIFIED')\n",
      "(0.1, 'PROCEDURAL', 'CONFLICT RESOLUTION')\n",
      "(0.1, 'PROCEDURAL', 'RULE SELECTED: retrieve: ProperN')\n",
      "(0.15, 'PROCEDURAL', 'RULE FIRED: retrieve: ProperN')\n",
      "(0.15, 'g', 'MODIFIED')\n",
      "(0.15, 'retrieval', 'START RETRIEVAL')\n",
      "(0.15, 'PROCEDURAL', 'CONFLICT RESOLUTION')\n",
      "(0.15, 'PROCEDURAL', 'NO RULE FOUND')\n",
      "(0.2, 'retrieval', 'CLEARED')\n",
      "(0.2, 'retrieval', 'RETRIEVED: word(cat= ProperN, form= Mary)')\n",
      "(0.2, 'PROCEDURAL', 'CONFLICT RESOLUTION')\n",
      "(0.2, 'PROCEDURAL', 'RULE SELECTED: scan: word')\n",
      "(0.25, 'PROCEDURAL', 'RULE FIRED: scan: word')\n",
      "(0.25, 'g', 'MODIFIED')\n",
      "(0.25, 'imaginal', 'MODIFIED')\n",
      "(0.25, 'retrieval', 'CLEARED')\n",
      "(0.25, 'PROCEDURAL', 'CONFLICT RESOLUTION')\n",
      "(0.25, 'PROCEDURAL', 'RULE SELECTED: print parsed word')\n",
      "(0.3, 'PROCEDURAL', 'RULE FIRED: print parsed word')\n",
      "parsed_word Mary\n",
      "(0.3, 'g', 'EXECUTED')\n",
      "(0.3, 'g', 'MODIFIED')\n",
      "(0.3, 'PROCEDURAL', 'CONFLICT RESOLUTION')\n",
      "(0.3, 'PROCEDURAL', 'RULE SELECTED: expand: VP ==> V NP')\n",
      "(0.35, 'PROCEDURAL', 'RULE FIRED: expand: VP ==> V NP')\n",
      "(0.35, 'g', 'MODIFIED')\n",
      "(0.35, 'PROCEDURAL', 'CONFLICT RESOLUTION')\n",
      "(0.35, 'PROCEDURAL', 'RULE SELECTED: retrieve: V')\n",
      "(0.4, 'PROCEDURAL', 'RULE FIRED: retrieve: V')\n",
      "(0.4, 'g', 'MODIFIED')\n",
      "(0.4, 'retrieval', 'START RETRIEVAL')\n",
      "(0.4, 'PROCEDURAL', 'CONFLICT RESOLUTION')\n",
      "(0.4, 'PROCEDURAL', 'NO RULE FOUND')\n",
      "(0.45, 'retrieval', 'CLEARED')\n",
      "(0.45, 'retrieval', 'RETRIEVED: word(cat= V, form= likes)')\n",
      "(0.45, 'PROCEDURAL', 'CONFLICT RESOLUTION')\n",
      "(0.45, 'PROCEDURAL', 'RULE SELECTED: scan: word')\n",
      "(0.5, 'PROCEDURAL', 'RULE FIRED: scan: word')\n",
      "(0.5, 'g', 'MODIFIED')\n",
      "(0.5, 'imaginal', 'MODIFIED')\n",
      "(0.5, 'retrieval', 'CLEARED')\n",
      "(0.5, 'PROCEDURAL', 'CONFLICT RESOLUTION')\n",
      "(0.5, 'PROCEDURAL', 'RULE SELECTED: print parsed word')\n",
      "(0.55, 'PROCEDURAL', 'RULE FIRED: print parsed word')\n",
      "parsed_word likes\n",
      "(0.55, 'g', 'EXECUTED')\n",
      "(0.55, 'g', 'MODIFIED')\n",
      "(0.55, 'PROCEDURAL', 'CONFLICT RESOLUTION')\n",
      "(0.55, 'PROCEDURAL', 'RULE SELECTED: expand: NP ==> ProperN')\n",
      "(0.6, 'PROCEDURAL', 'RULE FIRED: expand: NP ==> ProperN')\n",
      "(0.6, 'g', 'MODIFIED')\n",
      "(0.6, 'PROCEDURAL', 'CONFLICT RESOLUTION')\n",
      "(0.6, 'PROCEDURAL', 'RULE SELECTED: retrieve: ProperN')\n",
      "(0.65, 'PROCEDURAL', 'RULE FIRED: retrieve: ProperN')\n",
      "(0.65, 'g', 'MODIFIED')\n",
      "(0.65, 'retrieval', 'START RETRIEVAL')\n",
      "(0.65, 'PROCEDURAL', 'CONFLICT RESOLUTION')\n",
      "(0.65, 'PROCEDURAL', 'NO RULE FOUND')\n",
      "(0.7, 'retrieval', 'CLEARED')\n",
      "(0.7, 'retrieval', 'RETRIEVED: word(cat= ProperN, form= Bill)')\n",
      "(0.7, 'PROCEDURAL', 'CONFLICT RESOLUTION')\n",
      "(0.7, 'PROCEDURAL', 'RULE SELECTED: scan: word')\n",
      "(0.75, 'PROCEDURAL', 'RULE FIRED: scan: word')\n",
      "(0.75, 'g', 'MODIFIED')\n",
      "(0.75, 'imaginal', 'MODIFIED')\n",
      "(0.75, 'retrieval', 'CLEARED')\n",
      "(0.75, 'PROCEDURAL', 'CONFLICT RESOLUTION')\n",
      "(0.75, 'PROCEDURAL', 'RULE SELECTED: done')\n",
      "(0.8, 'PROCEDURAL', 'RULE FIRED: done')\n",
      "parsed_word Bill\n",
      "(0.8, 'g', 'EXECUTED')\n",
      "(0.8, 'imaginal', 'CLEARED')\n",
      "(0.8, 'g', 'CLEARED')\n",
      "(0.8, 'PROCEDURAL', 'CONFLICT RESOLUTION')\n",
      "(0.8, 'PROCEDURAL', 'NO RULE FOUND')\n"
     ]
    }
   ],
   "source": [
    "parser_sim = parser.simulation()\n",
    "parser_sim.run()"
   ]
  },
  {
   "cell_type": "markdown",
   "metadata": {},
   "source": [
    "The parser runs as expected, and we successfully parse our three-word sentence.\n",
    "\n",
    "The time course of the parsing is as follows:\n",
    "- the first word _Mary_ is parsed at the $250$ ms mark when the ```scan: word``` rule is fired for the first time (lines 22-25)\n",
    "    - the word is printed after $300$ ms of simulation time have elapsed (line 29)\n",
    "- the second word _likes_ is parsed at the $500$ ms mark when the ```scan: word``` rule is fired for the second time (lines 47-50)\n",
    "    - the word is printed after $550$ ms of total simulation time (line 54)  \n",
    "- the final word _Bill_ is parsed at the $750$ ms mark when the ```scan: word``` rule is fired for the third and final time (lines 72-75)\n",
    "    - the word is printed after $800$ ms of simulation time have passed (line 79)"
   ]
  },
  {
   "cell_type": "markdown",
   "metadata": {},
   "source": [
    "Let's examine the content of the declarative memory module at the end of the simulation. It should contain:\n",
    "- the lexical items we added at the very beginning of the simulation\n",
    "- the chunks stored in the goal and imaginal buffers right before we cleared them at the end of the parsing process\n",
    "    - **recall that clearing the buffers always moves their contents to declarative memory**"
   ]
  },
  {
   "cell_type": "code",
   "execution_count": 8,
   "metadata": {},
   "outputs": [
    {
     "data": {
      "text/plain": [
       "{word(cat= ProperN, form= Mary): array([0.  , 0.25]), word(cat= ProperN, form= Bill): array([0.  , 0.75]), word(cat= V, form= likes): array([0. , 0.5]), sentence(word1= None, word2= None, word3= None): array([0.8]), parsing_goal(parsed_word= Bill, stack_bottom= None, stack_top= None, task= printing): array([0.8])}"
      ]
     },
     "execution_count": 8,
     "metadata": {},
     "output_type": "execute_result"
    }
   ],
   "source": [
    "dm"
   ]
  },
  {
   "cell_type": "code",
   "execution_count": 9,
   "metadata": {},
   "outputs": [
    {
     "name": "stdout",
     "output_type": "stream",
     "text": [
      "1: word(cat= ProperN, form= Mary)\n",
      "2: word(cat= ProperN, form= Bill)\n",
      "3: word(cat= V, form= likes)\n",
      "4: sentence(word1= None, word2= None, word3= None)\n",
      "5: parsing_goal(parsed_word= Bill, stack_bottom= None, stack_top= None, task= printing)\n"
     ]
    }
   ],
   "source": [
    "for idx, chunk in enumerate(dm):\n",
    "    print(f\"{idx+1}: {chunk}\")"
   ]
  },
  {
   "cell_type": "markdown",
   "metadata": {},
   "source": [
    "- the goal chunk stored in declarative memory has an empty stack -- since we're at the end of the parsing process\n",
    "- the imaginal chunk has an empty sentence (no words) -- since we're at the end of the parsing process\n",
    "- both these chunks have been stored / activated in memory at the $800$ ms mark, i.e., at the end of the simulation\n",
    "\n",
    "- we also see the three lexical items _Mary_, _likes_ and _Bill_, each of which has two activation time stamps:\n",
    "    - one at $0$ ms when they were added to declarative memory before running the simulation\n",
    "    - one at $250$, $500$ and $750$ ms respectively, when they were parsed during the simulation and the retrieval buffer was cleared by the three firings of the ```scan: word``` rule\n",
    "    \n",
    "Later on when we discuss the inner workings of declarative memory, we'll see how this schedule of activations for items in memory is a crucial component of determining the relative salience of the item in memory, and therefore how easy they are to retrieve."
   ]
  },
  {
   "cell_type": "code",
   "execution_count": null,
   "metadata": {},
   "outputs": [],
   "source": []
  }
 ],
 "metadata": {
  "jupytext": {
   "cell_metadata_filter": "-all"
  },
  "kernelspec": {
   "display_name": "Python 3",
   "language": "python",
   "name": "python3"
  },
  "language_info": {
   "codemirror_mode": {
    "name": "ipython",
    "version": 3
   },
   "file_extension": ".py",
   "mimetype": "text/x-python",
   "name": "python",
   "nbconvert_exporter": "python",
   "pygments_lexer": "ipython3",
   "version": "3.8.5"
  },
  "toc": {
   "base_numbering": 1,
   "nav_menu": {},
   "number_sections": true,
   "sideBar": true,
   "skip_h1_title": false,
   "title_cell": "Table of Contents",
   "title_sidebar": "Contents",
   "toc_cell": false,
   "toc_position": {},
   "toc_section_display": true,
   "toc_window_display": false
  }
 },
 "nbformat": 4,
 "nbformat_minor": 4
}
