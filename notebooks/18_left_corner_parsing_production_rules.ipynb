{
 "cells": [
  {
   "cell_type": "markdown",
   "metadata": {},
   "source": [
    "[![Open In Colab](./images/colab-badge.png)](https://colab.research.google.com/github/abrsvn/pyactr-book/blob/master/notebooks/18_left_corner_parsing_production_rules.ipynb)"
   ]
  },
  {
   "cell_type": "markdown",
   "metadata": {},
   "source": [
    "The left-corner parsing model so far:"
   ]
  },
  {
   "cell_type": "code",
   "execution_count": 1,
   "metadata": {},
   "outputs": [],
   "source": [
    "import pyactr as actr\n",
    "\n",
    "environment = actr.Environment(focus_position=(320, 180))\n",
    "\n",
    "actr.chunktype(\"parsing_goal\", \"task stack_top stack_bottom\\\n",
    "                                parsed_word right_frontier\")\n",
    "actr.chunktype(\"parse_state\", \"node_cat mother daughter1\\\n",
    "                               daughter2 lex_head\")\n",
    "actr.chunktype(\"word\", \"form cat\")\n",
    "\n",
    "parser = actr.ACTRModel(environment, motor_prepared=True)\n",
    "\n",
    "dm = parser.decmem\n",
    "g = parser.goal\n",
    "imaginal = parser.set_goal(name=\"imaginal\", delay=0)\n",
    "\n",
    "dm.add(actr.chunkstring(string=\"\"\"\n",
    "    isa  word\n",
    "    form Mary\n",
    "    cat  ProperN\n",
    "\"\"\"))\n",
    "dm.add(actr.chunkstring(string=\"\"\"\n",
    "    isa  word\n",
    "    form Bill\n",
    "    cat  ProperN\n",
    "\"\"\"))\n",
    "dm.add(actr.chunkstring(string=\"\"\"\n",
    "    isa  word\n",
    "    form likes\n",
    "    cat  V\n",
    "\"\"\"))\n",
    "\n",
    "g.add(actr.chunkstring(string=\"\"\"\n",
    "    isa             parsing_goal\n",
    "    task            read_word\n",
    "    stack_top       S\n",
    "    right_frontier  S\n",
    "\"\"\"))"
   ]
  },
  {
   "cell_type": "markdown",
   "metadata": {
    "lines_to_next_cell": 0
   },
   "source": [
    "## The production rules for the left-corner parser\n",
    "\n",
    "With the lexicon in place, we can start specifying the production rules.\n",
    "\n",
    "Our first rule is the ```\"press spacebar\"``` rule below. This rule initializes the actions needed to read a word:\n",
    "- if:\n",
    "    - the task is ```read_word``` (line 4)\n",
    "    - the top of the stack is not empty (line 5), that is, we have some parsing goals left to accomplish\n",
    "    - the motor module is ```free``` (available)\n",
    "- then:\n",
    "    - we should press the space bar to display the next word"
   ]
  },
  {
   "cell_type": "code",
   "execution_count": 2,
   "metadata": {},
   "outputs": [
    {
     "data": {
      "text/plain": [
       "{'=g': parsing_goal(parsed_word= , right_frontier= , stack_bottom= , stack_top= ~None, task= read_word), '?manual': {'state': 'free'}}\n",
       "==>\n",
       "{'=g': parsing_goal(parsed_word= , right_frontier= , stack_bottom= , stack_top= , task= encode_word), '+manual': _manual(cmd= press_key, key= space)}"
      ]
     },
     "execution_count": 2,
     "metadata": {},
     "output_type": "execute_result"
    }
   ],
   "source": [
    "parser.productionstring(name=\"press spacebar\", string=\"\"\"\n",
    "    =g>\n",
    "    isa             parsing_goal\n",
    "    task            read_word\n",
    "    stack_top       ~None\n",
    "    ?manual>\n",
    "    state           free\n",
    "    ==>\n",
    "    =g>\n",
    "    isa             parsing_goal\n",
    "    task            encode_word\n",
    "    +manual>\n",
    "    isa             _manual\n",
    "    cmd             'press_key'\n",
    "    key             'space'\n",
    "\"\"\")"
   ]
  },
  {
   "cell_type": "markdown",
   "metadata": {},
   "source": [
    "Assuming the next word has been displayed and the visual module has retrieved its form, we trigger the ```\"encode word\"``` rule below, which:\n",
    "\n",
    "- gets the current value stored in the ```visual``` buffer, and\n",
    "- initializes a new ```get_word_cat``` task"
   ]
  },
  {
   "cell_type": "code",
   "execution_count": 3,
   "metadata": {},
   "outputs": [
    {
     "data": {
      "text/plain": [
       "{'=g': parsing_goal(parsed_word= , right_frontier= , stack_bottom= , stack_top= , task= encode_word), '=visual': _visual(cmd= , color= , screen_pos= , value= =val)}\n",
       "==>\n",
       "{'=g': parsing_goal(parsed_word= =val, right_frontier= , stack_bottom= , stack_top= , task= get_word_cat), '~visual': None}"
      ]
     },
     "execution_count": 3,
     "metadata": {},
     "output_type": "execute_result"
    }
   ],
   "source": [
    "parser.productionstring(name=\"encode word\", string=\"\"\"\n",
    "    =g>\n",
    "    isa             parsing_goal\n",
    "    task            encode_word\n",
    "    =visual>\n",
    "    isa             _visual\n",
    "    value           =val\n",
    "    ==>\n",
    "    =g>\n",
    "    isa             parsing_goal\n",
    "    task            get_word_cat\n",
    "    parsed_word    =val\n",
    "    ~visual>\n",
    "\"\"\")"
   ]
  },
  {
   "cell_type": "markdown",
   "metadata": {},
   "source": [
    "The ```get_word_cat``` task consists of placing a retrieval request for a lexical item stored in declarative memory.\n",
    "\n",
    "As the rule ```\"retrieve category\"``` below shows, the retrieval cue consists of the form/value we got from the ```visual``` buffer.\n",
    "- while we wait for the result of this retrieval request, we enter a new ```retrieving_word``` task"
   ]
  },
  {
   "cell_type": "code",
   "execution_count": 4,
   "metadata": {},
   "outputs": [
    {
     "data": {
      "text/plain": [
       "{'=g': parsing_goal(parsed_word= =w, right_frontier= , stack_bottom= , stack_top= , task= get_word_cat)}\n",
       "==>\n",
       "{'+retrieval': word(cat= , form= =w), '=g': parsing_goal(parsed_word= , right_frontier= , stack_bottom= , stack_top= , task= retrieving_word)}"
      ]
     },
     "execution_count": 4,
     "metadata": {},
     "output_type": "execute_result"
    }
   ],
   "source": [
    "parser.productionstring(name=\"retrieve category\", string=\"\"\"\n",
    "    =g>\n",
    "    isa             parsing_goal\n",
    "    task            get_word_cat\n",
    "    parsed_word     =w\n",
    "    ==>\n",
    "    +retrieval>\n",
    "    isa             word\n",
    "    form            =w\n",
    "    =g>\n",
    "    isa             parsing_goal\n",
    "    task            retrieving_word\n",
    "\"\"\")"
   ]
  },
  {
   "cell_type": "markdown",
   "metadata": {},
   "source": [
    "If we are in a ```retrieving_word``` task and the declarative memory retrieval was successfully completed, which we know because the retrieved word is in the ```retrieval``` buffer, we can start building some syntactic structure, i.e., we can _sensu stricto_ parse."
   ]
  },
  {
   "cell_type": "markdown",
   "metadata": {},
   "source": [
    "The first parsing action is the ```\"shift and project word\"``` rule below.\n",
    "\n",
    "- the syntactic category of the retrieved word is pushed onto the top of the stack (pushing whatever was previously on top to the bottom of the stack)\n",
    "- we store a new ```parse_state``` in the ```imaginal``` buffer\n",
    "- the parse state is a unary branching tree with the syntactic category of the retrieved word as the mother/root node and the phonological form of the word as the only daughter\n",
    "- we also enter a new ```parsing``` task in which we see if we can trigger any other parsing, i.e., syntactic structure building, rules"
   ]
  },
  {
   "cell_type": "code",
   "execution_count": 5,
   "metadata": {},
   "outputs": [
    {
     "data": {
      "text/plain": [
       "{'=g': parsing_goal(parsed_word= , right_frontier= , stack_bottom= None, stack_top= =t, task= retrieving_word), '=retrieval': word(cat= =c, form= =w)}\n",
       "==>\n",
       "{'=g': parsing_goal(parsed_word= , right_frontier= , stack_bottom= =t, stack_top= =c, task= parsing), '+imaginal': parse_state(daughter1= =w, daughter2= , lex_head= , mother= , node_cat= =c), '~retrieval': None}"
      ]
     },
     "execution_count": 5,
     "metadata": {},
     "output_type": "execute_result"
    }
   ],
   "source": [
    "parser.productionstring(name=\"shift and project word\", string=\"\"\"\n",
    "    =g>\n",
    "    isa             parsing_goal\n",
    "    task            retrieving_word\n",
    "    stack_top       =t\n",
    "    stack_bottom    None\n",
    "    =retrieval>\n",
    "    isa             word\n",
    "    form            =w\n",
    "    cat             =c\n",
    "    ==>\n",
    "    =g>\n",
    "    isa             parsing_goal\n",
    "    task            parsing\n",
    "    stack_top       =c\n",
    "    stack_bottom    =t\n",
    "    +imaginal>\n",
    "    isa             parse_state\n",
    "    node_cat        =c\n",
    "    daughter1       =w\n",
    "    ~retrieval>\n",
    "\"\"\")"
   ]
  },
  {
   "cell_type": "markdown",
   "metadata": {},
   "source": [
    "We now reached the point in our parser specification where we simply encode all the grammar rules into parsing rules.\n",
    "\n",
    "The first two rules, listed below, project an NP node on top of a ProperN node.\n",
    "- NP projection comes in two flavors, depending on whether we are expecting an NP at the time we try to project one or not\n",
    "\n",
    "If we do not expect an NP, we fire the ```\"project: NP ==> ProperN\"``` rule below:\n",
    "- this rule is triggered if:\n",
    "    - the top of our stack is a ProperN, and\n",
    "    - the bottom of our stack is not an NP, that is, we do not expect an NP at this time (```~NP``` on line 5 below)\n",
    "- then:\n",
    "    - we pop the ProperN category off the top of our stack\n",
    "    - we replace it with an NP category, and\n",
    "    - we add the newly built structure to the ```imaginal``` buffer\n",
    "- this newly built structure is a unary branching NP node with ProperN as its only daughter\n",
    "- in turn the NP node:\n",
    "    - is attached to whatever the current right frontier ```=rf``` is\n",
    "    - is indexed with the lexical head that projected the ProperN node in a previous parsing step"
   ]
  },
  {
   "cell_type": "code",
   "execution_count": 6,
   "metadata": {},
   "outputs": [
    {
     "data": {
      "text/plain": [
       "{'=g': parsing_goal(parsed_word= =w, right_frontier= =rf, stack_bottom= ~NP, stack_top= ProperN, task= )}\n",
       "==>\n",
       "{'=g': parsing_goal(parsed_word= , right_frontier= , stack_bottom= , stack_top= NP, task= ), '+imaginal': parse_state(daughter1= ProperN, daughter2= , lex_head= =w, mother= =rf, node_cat= NP)}"
      ]
     },
     "execution_count": 6,
     "metadata": {},
     "output_type": "execute_result"
    }
   ],
   "source": [
    "parser.productionstring(name=\"project: NP ==> ProperN\", string=\"\"\"\n",
    "    =g>\n",
    "    isa             parsing_goal\n",
    "    stack_top       ProperN\n",
    "    stack_bottom    ~NP\n",
    "    right_frontier  =rf\n",
    "    parsed_word     =w\n",
    "    ==>\n",
    "    =g>\n",
    "    isa             parsing_goal\n",
    "    stack_top       NP\n",
    "    +imaginal>\n",
    "    isa             parse_state\n",
    "    node_cat        NP\n",
    "    daughter1       ProperN\n",
    "    mother          =rf\n",
    "    lex_head        =w\n",
    "\"\"\")"
   ]
  },
  {
   "cell_type": "markdown",
   "metadata": {},
   "source": [
    "The second case we consider is an NP projection on top of a ProperN when an NP node is actually expected, as shown in rule ```\"project and complete: NP ==> ProperN\"``` below:\n",
    "\n",
    "- if:\n",
    "    - the current parsing goal has a ProperN at the top of the stack\n",
    "    - and there is an NP right below it (at the bottom of the stack), that is, we are expecting an NP\n",
    "- then:\n",
    "    - we pop both the ProperN and the NP category off the stack (lines 14-15)\n",
    "    - we add the relevant unary-branching NP structure to the ```imaginal``` buffer\n",
    "    - we reenter a ```read_word``` task"
   ]
  },
  {
   "cell_type": "code",
   "execution_count": 7,
   "metadata": {},
   "outputs": [
    {
     "data": {
      "text/plain": [
       "{'=g': parsing_goal(parsed_word= =w, right_frontier= =rf, stack_bottom= NP, stack_top= ProperN, task= )}\n",
       "==>\n",
       "{'=g': parsing_goal(parsed_word= , right_frontier= , stack_bottom= None, stack_top= None, task= read_word), '+imaginal': parse_state(daughter1= ProperN, daughter2= , lex_head= =w, mother= =rf, node_cat= NP)}"
      ]
     },
     "execution_count": 7,
     "metadata": {},
     "output_type": "execute_result"
    }
   ],
   "source": [
    "parser.productionstring(\n",
    "    name=\"project and complete: NP ==> ProperN\",\n",
    "    string=\"\"\"\n",
    "        =g>\n",
    "        isa             parsing_goal\n",
    "        stack_top       ProperN\n",
    "        stack_bottom    NP\n",
    "        right_frontier  =rf\n",
    "        parsed_word     =w\n",
    "        ==>\n",
    "        =g>\n",
    "        isa             parsing_goal\n",
    "        task            read_word\n",
    "        stack_top       None\n",
    "        stack_bottom    None\n",
    "        +imaginal>\n",
    "        isa             parse_state\n",
    "        node_cat        NP\n",
    "        daughter1       ProperN\n",
    "        mother          =rf\n",
    "        lex_head        =w\n",
    "\"\"\")"
   ]
  },
  {
   "cell_type": "markdown",
   "metadata": {},
   "source": [
    "Now that we implemented the NP projection rules, we can turn to the S and VP grammar rules, implemented below.\n",
    "\n",
    "- both of these rules are project-and-complete rules because in both cases we have an expectation for the mother node:\n",
    "    - we expect an S because that is the default starting goal of all parsing-model runs, and\n",
    "    - we expect a VP because the ```\"project and complete: S ==> NP VP\"``` rule always adds a VP expectation to the stack"
   ]
  },
  {
   "cell_type": "markdown",
   "metadata": {},
   "source": [
    "The project-and-complete S rule is triggered after:\n",
    "\n",
    "- we have already parsed the subject NP, which is sitting at the top of the stack (line 6),\n",
    "- we have an S expectation right below the NP.\n",
    "\n",
    "If that is the case, then:\n",
    "- we pop both categories off the stack and add an expectation for a VP at the top of the stack (lines 12-13)\n",
    "- we reenter the ```read_word``` task (line 11)\n",
    "- we introduce the expected VP node as the current right frontier that the object NP will attach to (line 14)\n",
    "- finally, we add the newly built syntactic structure to the ```imaginal``` buffer:\n",
    "    - this is a binary-branching structure with S as the mother/root node and NP and VP as the daughters (in that order; lines 17-19)"
   ]
  },
  {
   "cell_type": "code",
   "execution_count": 8,
   "metadata": {},
   "outputs": [
    {
     "data": {
      "text/plain": [
       "{'=g': parsing_goal(parsed_word= , right_frontier= , stack_bottom= S, stack_top= NP, task= )}\n",
       "==>\n",
       "{'=g': parsing_goal(parsed_word= , right_frontier= VP, stack_bottom= None, stack_top= VP, task= read_word), '+imaginal': parse_state(daughter1= NP, daughter2= VP, lex_head= , mother= , node_cat= S)}"
      ]
     },
     "execution_count": 8,
     "metadata": {},
     "output_type": "execute_result"
    }
   ],
   "source": [
    "parser.productionstring(\n",
    "    name=\"project and complete: S ==> NP VP\",\n",
    "    string=\"\"\"\n",
    "        =g>\n",
    "        isa             parsing_goal\n",
    "        stack_top       NP\n",
    "        stack_bottom    S\n",
    "        ==>\n",
    "        =g>\n",
    "        isa             parsing_goal\n",
    "        task            read_word\n",
    "        stack_top       VP\n",
    "        stack_bottom    None\n",
    "        right_frontier  VP\n",
    "        +imaginal>\n",
    "        isa             parse_state\n",
    "        node_cat        S\n",
    "        daughter1       NP\n",
    "        daughter2       VP\n",
    "\"\"\")"
   ]
  },
  {
   "cell_type": "markdown",
   "metadata": {},
   "source": [
    "The ```\"project and complete: VP ==> V NP\"``` rule is very similar to the project-and-complete S rule.\n",
    "\n",
    "This rule is triggered if:\n",
    "- we have just parsed a verb V, which is sitting at the top of the stack (line 7)\n",
    "- we have an expectation for a VP right below it (line 8)\n",
    "\n",
    "If that is the case, then:\n",
    "- we pop both categories off the stack\n",
    "- we introduce a new expectation for the object NP at the top of the stack (lines 13-14)\n",
    "- we reenter the ```read_word``` task (line 12)\n",
    "- we store the newly built binary-branching VP structure in the ```imaginal``` buffer (lines 17-19)"
   ]
  },
  {
   "cell_type": "code",
   "execution_count": 9,
   "metadata": {},
   "outputs": [
    {
     "data": {
      "text/plain": [
       "{'=g': parsing_goal(parsed_word= , right_frontier= , stack_bottom= VP, stack_top= V, task= parsing)}\n",
       "==>\n",
       "{'=g': parsing_goal(parsed_word= , right_frontier= , stack_bottom= None, stack_top= NP, task= read_word), '+imaginal': parse_state(daughter1= V, daughter2= NP, lex_head= , mother= , node_cat= VP)}"
      ]
     },
     "execution_count": 9,
     "metadata": {},
     "output_type": "execute_result"
    }
   ],
   "source": [
    "parser.productionstring(\n",
    "    name=\"project and complete: VP ==> V NP\",\n",
    "    string=\"\"\"\n",
    "        =g>\n",
    "        isa             parsing_goal\n",
    "        task            parsing\n",
    "        stack_top       V\n",
    "        stack_bottom    VP\n",
    "        ==>\n",
    "        =g>\n",
    "        isa             parsing_goal\n",
    "        task            read_word\n",
    "        stack_top       NP\n",
    "        stack_bottom    None\n",
    "        +imaginal>\n",
    "        isa             parse_state\n",
    "        node_cat        VP\n",
    "        daughter1       V\n",
    "        daughter2       NP\n",
    "\"\"\")"
   ]
  },
  {
   "cell_type": "markdown",
   "metadata": {},
   "source": [
    "We have now implemented all parsing rules corresponding to our grammar rules.\n",
    "\n",
    "The final rule we need is a wrap-up rule that ends the parsing process.\n",
    "\n",
    "- if:\n",
    "    - our to-parse stack is empty, i.e., we have no categories to parse at the top of the stack (line 5 below)\n",
    "- then:\n",
    "    - we simply flush the ```g``` (goal) and ```imaginal``` buffers, which empties their contents into declarative memory"
   ]
  },
  {
   "cell_type": "code",
   "execution_count": 10,
   "metadata": {},
   "outputs": [
    {
     "data": {
      "text/plain": [
       "{'=g': parsing_goal(parsed_word= , right_frontier= , stack_bottom= , stack_top= None, task= read_word)}\n",
       "==>\n",
       "{'~g': None, '~imaginal': None}"
      ]
     },
     "execution_count": 10,
     "metadata": {},
     "output_type": "execute_result"
    }
   ],
   "source": [
    "parser.productionstring(name=\"finished\", string=\"\"\"\n",
    "    =g>\n",
    "    isa             parsing_goal\n",
    "    task            read_word\n",
    "    stack_top       None\n",
    "    ==>\n",
    "    ~g>\n",
    "    ~imaginal>\n",
    "\"\"\")"
   ]
  },
  {
   "cell_type": "code",
   "execution_count": null,
   "metadata": {},
   "outputs": [],
   "source": []
  }
 ],
 "metadata": {
  "jupytext": {
   "cell_metadata_filter": "-all"
  },
  "kernelspec": {
   "display_name": "Python 3",
   "language": "python",
   "name": "python3"
  },
  "language_info": {
   "codemirror_mode": {
    "name": "ipython",
    "version": 3
   },
   "file_extension": ".py",
   "mimetype": "text/x-python",
   "name": "python",
   "nbconvert_exporter": "python",
   "pygments_lexer": "ipython3",
   "version": "3.8.5"
  },
  "toc": {
   "base_numbering": 1,
   "nav_menu": {},
   "number_sections": true,
   "sideBar": true,
   "skip_h1_title": false,
   "title_cell": "Table of Contents",
   "title_sidebar": "Contents",
   "toc_cell": false,
   "toc_position": {},
   "toc_section_display": true,
   "toc_window_display": false
  }
 },
 "nbformat": 4,
 "nbformat_minor": 4
}
