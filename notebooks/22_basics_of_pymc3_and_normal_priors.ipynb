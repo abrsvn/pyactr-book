{
 "cells": [
  {
   "cell_type": "markdown",
   "metadata": {},
   "source": [
    "[![Open In Colab](./images/colab-badge.png)](https://colab.research.google.com/github/abrsvn/pyactr-book/blob/master/notebooks/22_basics_of_pymc3_and_normal_priors.ipynb)"
   ]
  },
  {
   "cell_type": "markdown",
   "metadata": {},
   "source": [
    "The code so far:"
   ]
  },
  {
   "cell_type": "code",
   "execution_count": 1,
   "metadata": {},
   "outputs": [],
   "source": [
    "# uncomment the lines below to install the correct version of pymc3 and dependencies\n",
    "# !pip3 install --upgrade 'arviz==0.11.1'\n",
    "# !pip3 install --upgrade 'pymc3==3.9.3'"
   ]
  },
  {
   "cell_type": "code",
   "execution_count": 2,
   "metadata": {},
   "outputs": [],
   "source": [
    "import numpy as np\n",
    "\n",
    "%matplotlib inline\n",
    "import matplotlib.pyplot as plt\n",
    "plt.style.use('seaborn')\n",
    "import seaborn as sns\n",
    "\n",
    "import pandas as pd\n",
    "import pymc3 as pm"
   ]
  },
  {
   "cell_type": "code",
   "execution_count": 3,
   "metadata": {},
   "outputs": [
    {
     "data": {
      "text/plain": [
       "(347, 2)"
      ]
     },
     "execution_count": 3,
     "metadata": {},
     "output_type": "execute_result"
    }
   ],
   "source": [
    "url = 'https://github.com/abrsvn/pyactr-book/blob/master/data/every_each.csv?raw=true'\n",
    "every_each = pd.read_csv(url)\n",
    "every_each[\"quant\"] = every_each[\"quant\"].astype('category')\n",
    "every_each.shape"
   ]
  },
  {
   "cell_type": "code",
   "execution_count": 4,
   "metadata": {},
   "outputs": [
    {
     "data": {
      "text/html": [
       "<div>\n",
       "<style scoped>\n",
       "    .dataframe tbody tr th:only-of-type {\n",
       "        vertical-align: middle;\n",
       "    }\n",
       "\n",
       "    .dataframe tbody tr th {\n",
       "        vertical-align: top;\n",
       "    }\n",
       "\n",
       "    .dataframe thead th {\n",
       "        text-align: right;\n",
       "    }\n",
       "</style>\n",
       "<table border=\"1\" class=\"dataframe\">\n",
       "  <thead>\n",
       "    <tr style=\"text-align: right;\">\n",
       "      <th></th>\n",
       "      <th>logRTresid</th>\n",
       "      <th>quant</th>\n",
       "    </tr>\n",
       "  </thead>\n",
       "  <tbody>\n",
       "    <tr>\n",
       "      <th>0</th>\n",
       "      <td>0.056128</td>\n",
       "      <td>each</td>\n",
       "    </tr>\n",
       "    <tr>\n",
       "      <th>1</th>\n",
       "      <td>0.241384</td>\n",
       "      <td>each</td>\n",
       "    </tr>\n",
       "    <tr>\n",
       "      <th>2</th>\n",
       "      <td>0.056128</td>\n",
       "      <td>every</td>\n",
       "    </tr>\n",
       "  </tbody>\n",
       "</table>\n",
       "</div>"
      ],
      "text/plain": [
       "   logRTresid  quant\n",
       "0    0.056128   each\n",
       "1    0.241384   each\n",
       "2    0.056128  every"
      ]
     },
     "execution_count": 4,
     "metadata": {},
     "output_type": "execute_result"
    }
   ],
   "source": [
    "every_each.head(n=3)"
   ]
  },
  {
   "cell_type": "code",
   "execution_count": 5,
   "metadata": {},
   "outputs": [
    {
     "data": {
      "text/html": [
       "<div>\n",
       "<style scoped>\n",
       "    .dataframe tbody tr th:only-of-type {\n",
       "        vertical-align: middle;\n",
       "    }\n",
       "\n",
       "    .dataframe tbody tr th {\n",
       "        vertical-align: top;\n",
       "    }\n",
       "\n",
       "    .dataframe thead th {\n",
       "        text-align: right;\n",
       "    }\n",
       "</style>\n",
       "<table border=\"1\" class=\"dataframe\">\n",
       "  <thead>\n",
       "    <tr style=\"text-align: right;\">\n",
       "      <th></th>\n",
       "      <th>logRTresid</th>\n",
       "      <th>quant</th>\n",
       "    </tr>\n",
       "  </thead>\n",
       "  <tbody>\n",
       "    <tr>\n",
       "      <th>0</th>\n",
       "      <td>0.056128</td>\n",
       "      <td>each</td>\n",
       "    </tr>\n",
       "    <tr>\n",
       "      <th>8</th>\n",
       "      <td>0.869077</td>\n",
       "      <td>every</td>\n",
       "    </tr>\n",
       "    <tr>\n",
       "      <th>18</th>\n",
       "      <td>-0.073706</td>\n",
       "      <td>every</td>\n",
       "    </tr>\n",
       "    <tr>\n",
       "      <th>31</th>\n",
       "      <td>-0.187536</td>\n",
       "      <td>each</td>\n",
       "    </tr>\n",
       "  </tbody>\n",
       "</table>\n",
       "</div>"
      ],
      "text/plain": [
       "    logRTresid  quant\n",
       "0     0.056128   each\n",
       "8     0.869077  every\n",
       "18   -0.073706  every\n",
       "31   -0.187536   each"
      ]
     },
     "execution_count": 5,
     "metadata": {},
     "output_type": "execute_result"
    }
   ],
   "source": [
    "every_each.iloc[[0, 8, 18, 31], :]"
   ]
  },
  {
   "cell_type": "code",
   "execution_count": 6,
   "metadata": {},
   "outputs": [
    {
     "data": {
      "text/plain": [
       "(-0.678407840683957, 1.19278354190761)"
      ]
     },
     "execution_count": 6,
     "metadata": {},
     "output_type": "execute_result"
    }
   ],
   "source": [
    "np.min(every_each[\"logRTresid\"]), np.max(every_each[\"logRTresid\"])"
   ]
  },
  {
   "cell_type": "markdown",
   "metadata": {},
   "source": [
    "## Prior beliefs and the basics of `pymc3`"
   ]
  },
  {
   "cell_type": "markdown",
   "metadata": {},
   "source": [
    "The way Bayesian estimation works is as follows.\n",
    "\n",
    "- we start with a prior belief about the quantities of interest, in our case:\n",
    "    - the mean RT for _every_\n",
    "    - the mean difference in RTs between _each_ and _every_\n",
    "- 'prior' beliefs means that these are our beliefs before we see that data\n",
    "- these beliefs take the form of full probability distributions:\n",
    "    - we say what values are possible for the quantities of interest\n",
    "    - we also say which of the possible values are plausible (_before_ we see the data)\n",
    "\n",
    "- we then update these prior beliefs with the data stored in the `\"logRTresid\"` and `\"quant\"` columns in our data set\n",
    "- upon exposure to the data, we shift/update our prior beliefs in the direction of the data\n",
    "- the result of this update consists of two _posterior_ probability distributions:\n",
    "    - one for the mean RTs for _every_\n",
    "    - the other for the difference in RTs between the two quantifiers\n",
    "    \n",
    "- the posterior beliefs/probability distributions are a weighted average of the prior beliefs and the data:\n",
    "    - if our prior beliefs are very strong (not the case here; see below), the posterior beliefs will reflect the data to a smaller extent\n",
    "    - if we have a lot of data, and the data has low variability, the posterior beliefs will reflect the data to a larger, or even overwhelming, extent"
   ]
  },
  {
   "cell_type": "markdown",
   "metadata": {},
   "source": [
    "We have very weak prior beliefs about the quantities of interest. \n",
    "\n",
    "- we know that residualized log RTs, or RTs for short, are very roughly between $-3$ and $3$\n",
    "- one way to formalize this is to take our prior belief for the mean RTs for _every_ to be a normal (Gaussian) distribution centered at $0$ and with a standard deviation (which is a measure of dispersion) of $10$\n",
    "- this prior belief effectively says that the mean (residualized log) RTs for _every_ are, as far as we are concerned and before seeing the data, anywhere between about $-30$ and $30$ ($+/-$ 3 standard deviations from the mean)\n",
    "    - most likely somewhere between $-20$ and $20$\n",
    "    - values below $-30$ or above $30$ are possible, but really unlikely\n",
    "- this is a very low information and very weakly constraining prior, given our knowledge about what our data transformations (log + residualization by word length and word position) do to self-paced reading RTs\n",
    "    - self-paced reading RTs are usually between 300 and 600 ms (participants read about 3 words per second)\n",
    "    - after log-transforming and residualizing these RTs, we get very small values clustered around 0 and spanning the $[-2, 2]$ interval most of the time\n",
    "    - in our prior, we very liberally allow for values in the $[-30, 30]$ interval"
   ]
  },
  {
   "cell_type": "markdown",
   "metadata": {},
   "source": [
    "Let's plot a normal distribution with a standard deviation of $10$. We'll take this opportunity to introduce the basics of ```pymc3``` models.\n",
    "\n",
    "- below, we first create a model ```every_each_model``` using the ```pm.Model()``` method (line 1)\n",
    "- then, we start specifying the model components; in our case, we are simply interested in a normally distributed variable called ```'normal_density'```\n",
    "- we create this variable with the corresponding ```pymc3``` probability density function (line 3)\n",
    "- when we call this function, we need to redundantly specify the name of the variable (not really redundantly, but let's not worry about that), and then provide the parameters for the probability density function:\n",
    "    - the mean of the normal is set to $0$\n",
    "    - the standard deviation is set to $10$."
   ]
  },
  {
   "cell_type": "code",
   "execution_count": 7,
   "metadata": {},
   "outputs": [],
   "source": [
    "every_each_model = pm.Model()\n",
    "\n",
    "with every_each_model:\n",
    "    normal_density = pm.Normal('normal_density', mu=0, sd=10)"
   ]
  },
  {
   "cell_type": "markdown",
   "metadata": {},
   "source": [
    "We then ask ```pymc3``` to sample $5000$ draws from each of these two distributions using some advanced sampling magic that we won't worry about.\n",
    "\n",
    "- if you're really curious, take a look at this blog post: [http://twiecki.github.io/blog/2015/11/10/mcmc-sampling/](http://twiecki.github.io/blog/2015/11/10/mcmc-sampling/)"
   ]
  },
  {
   "cell_type": "code",
   "execution_count": 8,
   "metadata": {},
   "outputs": [
    {
     "name": "stderr",
     "output_type": "stream",
     "text": [
      "Auto-assigning NUTS sampler...\n",
      "Initializing NUTS using jitter+adapt_diag...\n",
      "Multiprocess sampling (4 chains in 4 jobs)\n",
      "NUTS: [normal_density]\n"
     ]
    },
    {
     "data": {
      "text/html": [
       "\n",
       "    <div>\n",
       "        <style>\n",
       "            /* Turns off some styling */\n",
       "            progress {\n",
       "                /* gets rid of default border in Firefox and Opera. */\n",
       "                border: none;\n",
       "                /* Needs to be in here for Safari polyfill so background images work as expected. */\n",
       "                background-size: auto;\n",
       "            }\n",
       "            .progress-bar-interrupted, .progress-bar-interrupted::-webkit-progress-bar {\n",
       "                background: #F44336;\n",
       "            }\n",
       "        </style>\n",
       "      <progress value='22000' class='' max='22000' style='width:300px; height:20px; vertical-align: middle;'></progress>\n",
       "      100.00% [22000/22000 00:02<00:00 Sampling 4 chains, 0 divergences]\n",
       "    </div>\n",
       "    "
      ],
      "text/plain": [
       "<IPython.core.display.HTML object>"
      ]
     },
     "metadata": {},
     "output_type": "display_data"
    },
    {
     "name": "stderr",
     "output_type": "stream",
     "text": [
      "Sampling 4 chains for 500 tune and 5_000 draw iterations (2_000 + 20_000 draws total) took 2 seconds.\n"
     ]
    }
   ],
   "source": [
    "from pymc3.backends import Text\n",
    "from pymc3.backends.text import load\n",
    "\n",
    "with every_each_model:\n",
    "    trace = pm.sample(draws=5000, tune=500, cores=4)"
   ]
  },
  {
   "cell_type": "markdown",
   "metadata": {},
   "source": [
    "- the sampling procedure is supposed to self-tune for $500$ iterations"
   ]
  },
  {
   "cell_type": "markdown",
   "metadata": {},
   "source": [
    "We plot the results below:\n",
    "\n",
    "- we initialize the figure by indicating that we will have one plot, or 'axis system', which we call ```ax```\n",
    "- this plot will be displayed in a grid consisting of 1 column and 1 row (```ncols=1, nrows=1```); this specification is superfluous here, but it is useful when we have more than one plot to display\n",
    "- the total figure size is set to $5.5$ by $3.5$ inches\n",
    "- lines 3-5 plot the histogram of the normal samples and label the plot accordingly\n",
    "- line 6 tightens up / suitably shrinks all the blank spaces in the figure"
   ]
  },
  {
   "cell_type": "code",
   "execution_count": 9,
   "metadata": {},
   "outputs": [
    {
     "data": {
      "image/png": "[encoded data removed]",
      "text/plain": [
       "<Figure size 396x252 with 1 Axes>"
      ]
     },
     "metadata": {},
     "output_type": "display_data"
    }
   ],
   "source": [
    "fig, ax = plt.subplots(ncols=1, nrows=1)\n",
    "fig.set_size_inches(5.5, 3.5)\n",
    "sns.histplot(trace['normal_density'], element='step',\n",
    "             kde=True, ax=ax)\n",
    "ax.set_xlabel('Normal density, mean = 0, standard deviation = 10')\n",
    "plt.tight_layout(pad=0.5, w_pad=0.2, h_pad=0.7)"
   ]
  },
  {
   "cell_type": "markdown",
   "metadata": {},
   "source": [
    "As expected for a normal density centered at $0$ and with a standard deviation of $10$:\n",
    "\n",
    "- most of the probability mass (area under the curve) is spread over the $(-30, 30)$ interval, i.e., within +/- 3 standard deviations of the mean\n",
    "\n",
    "We will use this normal density as our prior for the mean RT for _every_, which is a very weak, noncommittal prior."
   ]
  },
  {
   "cell_type": "markdown",
   "metadata": {},
   "source": [
    "## The prior for the difference in RTs"
   ]
  },
  {
   "cell_type": "markdown",
   "metadata": {},
   "source": [
    "We can now turn to specifying the prior for the difference in RTs between _every_ and _each_.  This difference could be:\n",
    "\n",
    "- positive: the mean RT for _each_ is greater than the one for _every_\n",
    "- negative: the mean RT for _each_ is less than the one for _every_\n",
    "- $0$: the mean RTs for _each_ and _every_ RTs are the same\n",
    "\n",
    "Whether $0$, negative or positive, this difference cannot be larger than $6$ in absolute value:\n",
    "\n",
    "- we know that log RT residual values are roughly between $-3$ and $3$ (and are usually very close to $0$)\n",
    "- in the unlikely event that the mean RT for _each_ happens to be $3$ and the one for _every_ happens to be $-3$, we'll get a difference of $6$ (or $-6$ if the two values are flipped)\n",
    "- this is already very unlikely, and the _a priori_ probability of more extreme values for the difference is practically $0$\n",
    "- tt is therefore reasonable to once again specify our prior for the difference in RTs as a normal distribution with a mean of $0$ and a standard deviation of $10$"
   ]
  },
  {
   "cell_type": "markdown",
   "metadata": {},
   "source": [
    "## A closer look at the plot of the normal prior"
   ]
  },
  {
   "cell_type": "markdown",
   "metadata": {},
   "source": [
    "- the shaded area under the dark-blue curve is probability mass\n",
    "- the curve itself plots probability _density_\n",
    "    - that is, for any point on the $x$-axis, the height of the curve at that point (i.e., the corresponding value on the $y$-axis) does _not_ plot the probability of that $x$-axis value\n",
    "    - the height of the curve does _not_ provide the probability mass associated with that $x$-axis value\n",
    "    \n",
    "- technically, there is $0$ probability mass associated with any single point on the $x$-axis\n",
    "    - just as single points on the real line do not have length, i.e., they have $0$ length, single points on the real line have $0$ probability associated with them\n",
    "    - only intervals on the real line can have length; similarly, only intervals can have a non-$0$ amount of probability mass associated with them"
   ]
  },
  {
   "cell_type": "markdown",
   "metadata": {},
   "source": [
    "Therefore, the height of the curve at an $x$ value does not indicate the probability mass at that value, but the probability density in an infinitesimal interval around that value. That is:\n",
    "\n",
    "- we take an infinitesimal interval around the $x$ value\n",
    "- we measure the probability mass sitting on top of that interval\n",
    "- we divide that mass by the length of the interval\n",
    "\n",
    "In the limit, i.e., as the length of the infinitesimal interval around the $x$ value goes to $0$, this ratio, i.e., probability mass per unit of interval length, gives us the probability _density_ at that point.\n",
    "\n",
    "- this is what is plotted by the dark-blue curve"
   ]
  },
  {
   "cell_type": "markdown",
   "metadata": {},
   "source": [
    "We call this ratio a probability _density_ because of its direct analogy to the physical notion of density.\n",
    "\n",
    "- density is mass per unit of volume:\n",
    "    - if we take a sponge and squish it into a tiny ball, we do not change its mass, we simply increase its density by increasing how tightly the matter is packed per unit of physical space, i.e., per unit of volume\n",
    "    - volume is a 3-dimensional notion; in 2 dimensions, the counterpart of volume is area, and in 1 dimension, the counterpart of volume is length\n",
    "- for any $x$ value, the dark-blue density curve in the normal-prior figure plots how tightly the probability mass is packed in an interval of infinitesimal length around that $x$ value\n",
    "- the higher the density, the more probability mass is packed around that point $x$, which makes infinitesimal intervals around $x$ more probable"
   ]
  },
  {
   "cell_type": "markdown",
   "metadata": {},
   "source": [
    "Thus, although the curves in the normal-prior figure are density curves, they informally indicate which $x$ values are more probable than others.\n",
    "\n",
    "- we should remember, however, that they are density curves (ratios: mass per unit of volume)\n",
    "- as such, their values can exceed $1$\n",
    "    - we will in fact see such a case when we estimate posterior probabilities for our _every/each_ model\n",
    "- in contrast, probabilities, i.e., probability masses, can never exceed 1"
   ]
  },
  {
   "cell_type": "code",
   "execution_count": null,
   "metadata": {},
   "outputs": [],
   "source": []
  }
 ],
 "metadata": {
  "jupytext": {
   "cell_metadata_filter": "-all"
  },
  "kernelspec": {
   "display_name": "Python 3",
   "language": "python",
   "name": "python3"
  },
  "language_info": {
   "codemirror_mode": {
    "name": "ipython",
    "version": 3
   },
   "file_extension": ".py",
   "mimetype": "text/x-python",
   "name": "python",
   "nbconvert_exporter": "python",
   "pygments_lexer": "ipython3",
   "version": "3.8.5"
  },
  "toc": {
   "base_numbering": 1,
   "nav_menu": {},
   "number_sections": true,
   "sideBar": true,
   "skip_h1_title": false,
   "title_cell": "Table of Contents",
   "title_sidebar": "Contents",
   "toc_cell": false,
   "toc_position": {},
   "toc_section_display": true,
   "toc_window_display": false
  }
 },
 "nbformat": 4,
 "nbformat_minor": 4
}
