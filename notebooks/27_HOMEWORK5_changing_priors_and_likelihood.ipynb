{
 "cells": [
  {
   "cell_type": "markdown",
   "metadata": {},
   "source": [
    "[![Open In Colab](./images/colab-badge.png)](https://colab.research.google.com/github/abrsvn/pyactr-book/blob/master/notebooks/27_HOMEWORK5_changing_priors_and_likelihood.ipynb)"
   ]
  },
  {
   "cell_type": "markdown",
   "metadata": {},
   "source": [
    "## Homework 4\n",
    "\n",
    "### Part 1: Changing the priors of the model\n",
    "\n",
    "Change the standard deviation in all our priors to $3$ (rather than $10$). Compute the posteriors with `pymc3` and compare them with the posteriors we got when we had priors with a standard deviation of $10$.\n",
    "\n",
    "What do you notice?\n",
    "\n",
    "### Part 2: Changing the likelihood of the model\n",
    "\n",
    "Revert the priors back to the original values (standard deviations of $10$). Now, change the likelihood function of the model such that we estimate the mean RT for _each_ and the difference in RTs between _every_ and _each_ rather than what we have now (the mean RT for _every_ and the difference in RTs between _each_ and _every_).\n",
    "\n",
    "Why are the new posterior means different? That is, how are they mathematically related to the posterior means we estimated in the original version of the model?\n",
    "\n",
    "As far as the theoretical question is concerned, does this new model suggest a different answer to the theoretical question? (Hint: no, the answer the same. Why?)"
   ]
  },
  {
   "cell_type": "code",
   "execution_count": null,
   "metadata": {},
   "outputs": [],
   "source": []
  }
 ],
 "metadata": {
  "jupytext": {
   "cell_metadata_filter": "-all"
  },
  "kernelspec": {
   "display_name": "Python 3",
   "language": "python",
   "name": "python3"
  },
  "language_info": {
   "codemirror_mode": {
    "name": "ipython",
    "version": 3
   },
   "file_extension": ".py",
   "mimetype": "text/x-python",
   "name": "python",
   "nbconvert_exporter": "python",
   "pygments_lexer": "ipython3",
   "version": "3.8.5"
  },
  "toc": {
   "base_numbering": 1,
   "nav_menu": {},
   "number_sections": true,
   "sideBar": true,
   "skip_h1_title": false,
   "title_cell": "Table of Contents",
   "title_sidebar": "Contents",
   "toc_cell": false,
   "toc_position": {},
   "toc_section_display": true,
   "toc_window_display": false
  }
 },
 "nbformat": 4,
 "nbformat_minor": 4
}
