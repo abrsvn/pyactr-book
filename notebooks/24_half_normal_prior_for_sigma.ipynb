{
 "cells": [
  {
   "cell_type": "markdown",
   "metadata": {},
   "source": [
    "[![Open In Colab](./images/colab-badge.png)](https://colab.research.google.com/github/abrsvn/pyactr-book/blob/master/notebooks/24_half_normal_prior_for_sigma.ipynb)"
   ]
  },
  {
   "cell_type": "markdown",
   "metadata": {},
   "source": [
    "The code so far:"
   ]
  },
  {
   "cell_type": "code",
   "execution_count": 1,
   "metadata": {},
   "outputs": [],
   "source": [
    "# uncomment the lines below to install the correct version of pymc3 and dependencies\n",
    "# !pip3 install --upgrade 'arviz==0.11.1'\n",
    "# !pip3 install --upgrade 'pymc3==3.9.3'"
   ]
  },
  {
   "cell_type": "code",
   "execution_count": 2,
   "metadata": {},
   "outputs": [],
   "source": [
    "import numpy as np\n",
    "\n",
    "%matplotlib inline\n",
    "import matplotlib.pyplot as plt\n",
    "plt.style.use('seaborn')\n",
    "import seaborn as sns\n",
    "\n",
    "import pandas as pd\n",
    "import pymc3 as pm"
   ]
  },
  {
   "cell_type": "code",
   "execution_count": 3,
   "metadata": {},
   "outputs": [
    {
     "data": {
      "text/plain": [
       "(347, 2)"
      ]
     },
     "execution_count": 3,
     "metadata": {},
     "output_type": "execute_result"
    }
   ],
   "source": [
    "url = 'https://github.com/abrsvn/pyactr-book/blob/master/data/every_each.csv?raw=true'\n",
    "every_each = pd.read_csv(url)\n",
    "every_each[\"quant\"] = every_each[\"quant\"].astype('category')\n",
    "every_each.shape"
   ]
  },
  {
   "cell_type": "code",
   "execution_count": 4,
   "metadata": {},
   "outputs": [],
   "source": [
    "every_each[\"dummy_quant\"] = (every_each[\"quant\"]==\"each\").astype(\"int\")"
   ]
  },
  {
   "cell_type": "code",
   "execution_count": 5,
   "metadata": {
    "scrolled": true
   },
   "outputs": [
    {
     "data": {
      "text/plain": [
       "array([ 0.05,  0.05, -0.05,  0.05, -0.05, -0.05,  0.05,  0.05, -0.05,\n",
       "        0.05, -0.05,  0.05,  0.05, -0.05, -0.05])"
      ]
     },
     "execution_count": 5,
     "metadata": {},
     "output_type": "execute_result"
    }
   ],
   "source": [
    "mean_every = -0.05\n",
    "mean_difference = 0.1\n",
    "quant = np.array(every_each[\"dummy_quant\"])\n",
    "\n",
    "synthetic_RT_means = mean_every + quant * mean_difference\n",
    "synthetic_RT_means[:15]"
   ]
  },
  {
   "cell_type": "code",
   "execution_count": 6,
   "metadata": {
    "scrolled": true
   },
   "outputs": [
    {
     "data": {
      "text/plain": [
       "array([-0.16,  0.02, -0.47, -0.15,  0.21, -0.39,  0.02, -0.18,  0.1 ,\n",
       "        0.16, -0.36,  0.2 ,  0.31,  0.04, -0.34, -0.19, -0.54,  0.52,\n",
       "       -0.01, -0.12, -0.04,  0.18, -0.03,  0.4 ,  0.36])"
      ]
     },
     "execution_count": 6,
     "metadata": {},
     "output_type": "execute_result"
    }
   ],
   "source": [
    "sigma = 0.25\n",
    "synthetic_RTs = np.random.normal(synthetic_RT_means, sigma)\n",
    "synthetic_RTs.round(2)[:25]"
   ]
  },
  {
   "cell_type": "markdown",
   "metadata": {},
   "source": [
    "## Prior for the noise $\\sigma$"
   ]
  },
  {
   "cell_type": "markdown",
   "metadata": {},
   "source": [
    "Now that we understand that the likelihood function has to incorporate some noise, which will need to be estimated from the data, we need to set up a prior for this noise.\n",
    "\n",
    "Reasoning again from our prior knowledge about residualized log RTs, we know that this noise / variability in data cannot really be larger than maybe about $3$. This can be justified as follows.\n",
    "\n",
    "- we know that residualized log RTs are between about $-3$ and $3$\n",
    "- now, if we think of them as being generated from a normal distribution centered somewhere in the interval $[-3, 3]$, a standard deviation (i.e., a noise setting) of about $3$ for this normal distribution covers the interval $[-3, 3]$ easily enough\n",
    "- this is because a normal distribution spreads probability mass, i.e., predicts likely values to be, within +/- 3 standard deviations from its mean"
   ]
  },
  {
   "cell_type": "markdown",
   "metadata": {},
   "source": [
    "Therefore, a very weak and non-committal prior for residualized log RT noise would be a half-normal distribution, which is a normal (Gaussian) distribution centered at 0 and 'folded over' so that all the probability mass over negative values gets transferred to the corresponding positive values.\n",
    "\n",
    "- half-normal distributions correctly require noise / dispersion to be positive\n",
    "- if we set the standard deviation of this half-normal prior for noise to $10$, we place practically no constraints on the actual value of the noise before we see the data\n",
    "    - as far as we _a priori_ expect, the noise can be anywhere between $0$ and about $30$, a very diffuse interval that allows for much larger values than $3$\n",
    "    - however, since this prior assigns higher probabilities to lower values than to larger values, as we can see in the plot below, we do expect that the noise should be smaller rather than larger\n",
    "    - this makes sense: even though values larger than $3$ are possible as residualized log RT noise, such values are unlikely and they are more and more unlikely as we increase them"
   ]
  },
  {
   "cell_type": "markdown",
   "metadata": {},
   "source": [
    "To plot a half-normal prior, we can simulate draws from it in the same way we did for the normal priors for the mean RT for _every_ and the mean difference in RT between _each_ and _every_. We do this below, and plot the results."
   ]
  },
  {
   "cell_type": "code",
   "execution_count": 7,
   "metadata": {},
   "outputs": [
    {
     "name": "stderr",
     "output_type": "stream",
     "text": [
      "Auto-assigning NUTS sampler...\n",
      "Initializing NUTS using jitter+adapt_diag...\n",
      "Multiprocess sampling (4 chains in 4 jobs)\n",
      "NUTS: [half_normal_density]\n"
     ]
    },
    {
     "data": {
      "text/html": [
       "\n",
       "    <div>\n",
       "        <style>\n",
       "            /* Turns off some styling */\n",
       "            progress {\n",
       "                /* gets rid of default border in Firefox and Opera. */\n",
       "                border: none;\n",
       "                /* Needs to be in here for Safari polyfill so background images work as expected. */\n",
       "                background-size: auto;\n",
       "            }\n",
       "            .progress-bar-interrupted, .progress-bar-interrupted::-webkit-progress-bar {\n",
       "                background: #F44336;\n",
       "            }\n",
       "        </style>\n",
       "      <progress value='24000' class='' max='24000' style='width:300px; height:20px; vertical-align: middle;'></progress>\n",
       "      100.00% [24000/24000 00:02<00:00 Sampling 4 chains, 314 divergences]\n",
       "    </div>\n",
       "    "
      ],
      "text/plain": [
       "<IPython.core.display.HTML object>"
      ]
     },
     "metadata": {},
     "output_type": "display_data"
    },
    {
     "name": "stderr",
     "output_type": "stream",
     "text": [
      "Sampling 4 chains for 1_000 tune and 5_000 draw iterations (4_000 + 20_000 draws total) took 3 seconds.\n",
      "There were 37 divergences after tuning. Increase `target_accept` or reparameterize.\n",
      "There were 25 divergences after tuning. Increase `target_accept` or reparameterize.\n",
      "There were 204 divergences after tuning. Increase `target_accept` or reparameterize.\n",
      "There were 48 divergences after tuning. Increase `target_accept` or reparameterize.\n",
      "The number of effective samples is smaller than 25% for some parameters.\n"
     ]
    }
   ],
   "source": [
    "every_each_model = pm.Model()\n",
    "\n",
    "with every_each_model:\n",
    "    half_normal_density = pm.HalfNormal('half_normal_density', sd=10)\n",
    "\n",
    "with every_each_model:\n",
    "    trace = pm.sample(draws=5000, tune=1000, cores=4)"
   ]
  },
  {
   "cell_type": "code",
   "execution_count": 8,
   "metadata": {},
   "outputs": [
    {
     "data": {
      "image/png": "[encoded data removed]",
      "text/plain": [
       "<Figure size 396x252 with 1 Axes>"
      ]
     },
     "metadata": {},
     "output_type": "display_data"
    }
   ],
   "source": [
    "fig, ax = plt.subplots(ncols=1, nrows=1)\n",
    "fig.set_size_inches(5.5, 3.5)\n",
    "sns.histplot(trace['half_normal_density'], kde=True,\n",
    "             element='step', ax=ax)\n",
    "ax.set_xlabel('Half-normal density, standard deviation = 10')\n",
    "plt.tight_layout(pad=0.5, w_pad=0.2, h_pad=0.7)"
   ]
  },
  {
   "cell_type": "code",
   "execution_count": null,
   "metadata": {},
   "outputs": [],
   "source": []
  }
 ],
 "metadata": {
  "jupytext": {
   "cell_metadata_filter": "-all"
  },
  "kernelspec": {
   "display_name": "Python 3",
   "language": "python",
   "name": "python3"
  },
  "language_info": {
   "codemirror_mode": {
    "name": "ipython",
    "version": 3
   },
   "file_extension": ".py",
   "mimetype": "text/x-python",
   "name": "python",
   "nbconvert_exporter": "python",
   "pygments_lexer": "ipython3",
   "version": "3.8.5"
  },
  "toc": {
   "base_numbering": 1,
   "nav_menu": {},
   "number_sections": true,
   "sideBar": true,
   "skip_h1_title": false,
   "title_cell": "Table of Contents",
   "title_sidebar": "Contents",
   "toc_cell": false,
   "toc_position": {},
   "toc_section_display": true,
   "toc_window_display": false
  }
 },
 "nbformat": 4,
 "nbformat_minor": 4
}
