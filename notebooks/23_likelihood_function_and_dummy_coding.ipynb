{
 "cells": [
  {
   "cell_type": "markdown",
   "metadata": {},
   "source": [
    "[![Open In Colab](./images/colab-badge.png)](https://colab.research.google.com/github/abrsvn/pyactr-book/blob/master/notebooks/23_likelihood_function_and_dummy_coding.ipynb)"
   ]
  },
  {
   "cell_type": "markdown",
   "metadata": {},
   "source": [
    "The code so far:"
   ]
  },
  {
   "cell_type": "code",
   "execution_count": 1,
   "metadata": {},
   "outputs": [],
   "source": [
    "# uncomment the lines below to install the correct version of pymc3 and dependencies\n",
    "# !pip3 install --upgrade 'arviz==0.11.1'\n",
    "# !pip3 install --upgrade 'pymc3==3.9.3'"
   ]
  },
  {
   "cell_type": "code",
   "execution_count": 2,
   "metadata": {},
   "outputs": [],
   "source": [
    "import numpy as np\n",
    "\n",
    "%matplotlib inline\n",
    "import matplotlib.pyplot as plt\n",
    "plt.style.use('seaborn')\n",
    "import seaborn as sns\n",
    "\n",
    "import pandas as pd\n",
    "import pymc3 as pm"
   ]
  },
  {
   "cell_type": "code",
   "execution_count": 3,
   "metadata": {},
   "outputs": [
    {
     "data": {
      "text/plain": [
       "(347, 2)"
      ]
     },
     "execution_count": 3,
     "metadata": {},
     "output_type": "execute_result"
    }
   ],
   "source": [
    "url = 'https://github.com/abrsvn/pyactr-book/blob/master/data/every_each.csv?raw=true'\n",
    "every_each = pd.read_csv(url)\n",
    "every_each[\"quant\"] = every_each[\"quant\"].astype('category')\n",
    "every_each.shape"
   ]
  },
  {
   "cell_type": "code",
   "execution_count": 4,
   "metadata": {},
   "outputs": [
    {
     "data": {
      "text/html": [
       "<div>\n",
       "<style scoped>\n",
       "    .dataframe tbody tr th:only-of-type {\n",
       "        vertical-align: middle;\n",
       "    }\n",
       "\n",
       "    .dataframe tbody tr th {\n",
       "        vertical-align: top;\n",
       "    }\n",
       "\n",
       "    .dataframe thead th {\n",
       "        text-align: right;\n",
       "    }\n",
       "</style>\n",
       "<table border=\"1\" class=\"dataframe\">\n",
       "  <thead>\n",
       "    <tr style=\"text-align: right;\">\n",
       "      <th></th>\n",
       "      <th>logRTresid</th>\n",
       "      <th>quant</th>\n",
       "    </tr>\n",
       "  </thead>\n",
       "  <tbody>\n",
       "    <tr>\n",
       "      <th>0</th>\n",
       "      <td>0.056128</td>\n",
       "      <td>each</td>\n",
       "    </tr>\n",
       "    <tr>\n",
       "      <th>1</th>\n",
       "      <td>0.241384</td>\n",
       "      <td>each</td>\n",
       "    </tr>\n",
       "    <tr>\n",
       "      <th>2</th>\n",
       "      <td>0.056128</td>\n",
       "      <td>every</td>\n",
       "    </tr>\n",
       "  </tbody>\n",
       "</table>\n",
       "</div>"
      ],
      "text/plain": [
       "   logRTresid  quant\n",
       "0    0.056128   each\n",
       "1    0.241384   each\n",
       "2    0.056128  every"
      ]
     },
     "execution_count": 4,
     "metadata": {},
     "output_type": "execute_result"
    }
   ],
   "source": [
    "every_each.head(n=3)"
   ]
  },
  {
   "cell_type": "code",
   "execution_count": 5,
   "metadata": {},
   "outputs": [
    {
     "data": {
      "text/html": [
       "<div>\n",
       "<style scoped>\n",
       "    .dataframe tbody tr th:only-of-type {\n",
       "        vertical-align: middle;\n",
       "    }\n",
       "\n",
       "    .dataframe tbody tr th {\n",
       "        vertical-align: top;\n",
       "    }\n",
       "\n",
       "    .dataframe thead th {\n",
       "        text-align: right;\n",
       "    }\n",
       "</style>\n",
       "<table border=\"1\" class=\"dataframe\">\n",
       "  <thead>\n",
       "    <tr style=\"text-align: right;\">\n",
       "      <th></th>\n",
       "      <th>logRTresid</th>\n",
       "      <th>quant</th>\n",
       "    </tr>\n",
       "  </thead>\n",
       "  <tbody>\n",
       "    <tr>\n",
       "      <th>0</th>\n",
       "      <td>0.056128</td>\n",
       "      <td>each</td>\n",
       "    </tr>\n",
       "    <tr>\n",
       "      <th>8</th>\n",
       "      <td>0.869077</td>\n",
       "      <td>every</td>\n",
       "    </tr>\n",
       "    <tr>\n",
       "      <th>18</th>\n",
       "      <td>-0.073706</td>\n",
       "      <td>every</td>\n",
       "    </tr>\n",
       "    <tr>\n",
       "      <th>31</th>\n",
       "      <td>-0.187536</td>\n",
       "      <td>each</td>\n",
       "    </tr>\n",
       "  </tbody>\n",
       "</table>\n",
       "</div>"
      ],
      "text/plain": [
       "    logRTresid  quant\n",
       "0     0.056128   each\n",
       "8     0.869077  every\n",
       "18   -0.073706  every\n",
       "31   -0.187536   each"
      ]
     },
     "execution_count": 5,
     "metadata": {},
     "output_type": "execute_result"
    }
   ],
   "source": [
    "every_each.iloc[[0, 8, 18, 31], :]"
   ]
  },
  {
   "cell_type": "code",
   "execution_count": 6,
   "metadata": {},
   "outputs": [
    {
     "data": {
      "text/plain": [
       "(-0.678407840683957, 1.19278354190761)"
      ]
     },
     "execution_count": 6,
     "metadata": {},
     "output_type": "execute_result"
    }
   ],
   "source": [
    "np.min(every_each[\"logRTresid\"]), np.max(every_each[\"logRTresid\"])"
   ]
  },
  {
   "cell_type": "code",
   "execution_count": 7,
   "metadata": {},
   "outputs": [],
   "source": [
    "every_each_model = pm.Model()\n",
    "\n",
    "with every_each_model:\n",
    "    normal_density = pm.Normal('normal_density', mu=0, sd=10)"
   ]
  },
  {
   "cell_type": "code",
   "execution_count": 8,
   "metadata": {},
   "outputs": [
    {
     "name": "stderr",
     "output_type": "stream",
     "text": [
      "Auto-assigning NUTS sampler...\n",
      "Initializing NUTS using jitter+adapt_diag...\n",
      "Multiprocess sampling (4 chains in 4 jobs)\n",
      "NUTS: [normal_density]\n"
     ]
    },
    {
     "data": {
      "text/html": [
       "\n",
       "    <div>\n",
       "        <style>\n",
       "            /* Turns off some styling */\n",
       "            progress {\n",
       "                /* gets rid of default border in Firefox and Opera. */\n",
       "                border: none;\n",
       "                /* Needs to be in here for Safari polyfill so background images work as expected. */\n",
       "                background-size: auto;\n",
       "            }\n",
       "            .progress-bar-interrupted, .progress-bar-interrupted::-webkit-progress-bar {\n",
       "                background: #F44336;\n",
       "            }\n",
       "        </style>\n",
       "      <progress value='22000' class='' max='22000' style='width:300px; height:20px; vertical-align: middle;'></progress>\n",
       "      100.00% [22000/22000 00:02<00:00 Sampling 4 chains, 0 divergences]\n",
       "    </div>\n",
       "    "
      ],
      "text/plain": [
       "<IPython.core.display.HTML object>"
      ]
     },
     "metadata": {},
     "output_type": "display_data"
    },
    {
     "name": "stderr",
     "output_type": "stream",
     "text": [
      "Sampling 4 chains for 500 tune and 5_000 draw iterations (2_000 + 20_000 draws total) took 3 seconds.\n"
     ]
    }
   ],
   "source": [
    "from pymc3.backends import Text\n",
    "from pymc3.backends.text import load\n",
    "\n",
    "with every_each_model:\n",
    "    trace = pm.sample(draws=5000, tune=500, cores=4)"
   ]
  },
  {
   "cell_type": "code",
   "execution_count": 9,
   "metadata": {},
   "outputs": [
    {
     "data": {
      "image/png": "[encoded data removed]",
      "text/plain": [
       "<Figure size 396x252 with 1 Axes>"
      ]
     },
     "metadata": {},
     "output_type": "display_data"
    }
   ],
   "source": [
    "fig, ax = plt.subplots(ncols=1, nrows=1)\n",
    "fig.set_size_inches(5.5, 3.5)\n",
    "sns.histplot(trace['normal_density'], element='step',\n",
    "             kde=True, ax=ax)\n",
    "ax.set_xlabel('Normal density, mean = 0, standard deviation = 10')\n",
    "plt.tight_layout(pad=0.5, w_pad=0.2, h_pad=0.7)"
   ]
  },
  {
   "cell_type": "markdown",
   "metadata": {},
   "source": [
    "## Our model for generating the data (the likelihood)"
   ]
  },
  {
   "cell_type": "markdown",
   "metadata": {},
   "source": [
    "Now that we specified our priors, we can go ahead and specify the model for how (we think) nature generated the data.\n",
    "\n",
    "- we need to mathematically specify how RT is a function of quantifier"
   ]
  },
  {
   "cell_type": "markdown",
   "metadata": {},
   "source": [
    "Recall that we have about $170$ observations for each quantifier:"
   ]
  },
  {
   "cell_type": "code",
   "execution_count": 10,
   "metadata": {},
   "outputs": [
    {
     "data": {
      "text/plain": [
       "each     174\n",
       "every    173\n",
       "Name: quant, dtype: int64"
      ]
     },
     "execution_count": 10,
     "metadata": {},
     "output_type": "execute_result"
    }
   ],
   "source": [
    "every_each[\"quant\"].value_counts()"
   ]
  },
  {
   "cell_type": "markdown",
   "metadata": {},
   "source": [
    "What we conjecture as our model for the data, a.k.a. our _likelihood_ function, is that we have two mean RTs for the two quantifiers _every_ and _each_.\n",
    "\n",
    "- for each of the two quantifiers, the RTs we observed are imperfect reflections of the mean RT for that quantifier\n",
    "    - they are somewhere around the mean for that quantifier\n",
    "- specifically, the observed RTs for a quantifier are composed of the mean RT for that quantifier + some error\n",
    "    - the error is due to our imperfect measurement, natural variability in the data source (e.g., a participant was faster pressing the space bar on one occasion than another) etc."
   ]
  },
  {
   "cell_type": "markdown",
   "metadata": {},
   "source": [
    "Plotting the RTs by quantifier will make this clearer:"
   ]
  },
  {
   "cell_type": "code",
   "execution_count": 11,
   "metadata": {},
   "outputs": [
    {
     "data": {
      "image/png": "[encoded data removed]",
      "text/plain": [
       "<Figure size 396x252 with 1 Axes>"
      ]
     },
     "metadata": {},
     "output_type": "display_data"
    }
   ],
   "source": [
    "fig, ax = plt.subplots(ncols=1, nrows=1)\n",
    "fig.set_size_inches(5.5, 3.5)\n",
    "g = sns.stripplot(x=\"quant\", y=\"logRTresid\", data=every_each,\n",
    "                  jitter=True)\n",
    "g.set_xlabel(\"Quantifier\")\n",
    "g.set_ylabel(\"Residualized log RTs\")\n",
    "plt.tight_layout(pad=0.5, w_pad=0.2, h_pad=0.7)"
   ]
  },
  {
   "cell_type": "markdown",
   "metadata": {},
   "source": [
    "The plot shos that:\n",
    "\n",
    "- the 170+ observations collected for _each_ are centered somewhere around $0.05$ ms\n",
    "- the 170+ observations collected for _every_ are centered a little lower, around $-0.05$ ms\n",
    "\n",
    "The observations are jittered (```jitter=True``` on line 4 above):\n",
    "\n",
    "- they are not plotted on a straight line, so that we can distinguish overlapping points in the plot"
   ]
  },
  {
   "cell_type": "markdown",
   "metadata": {},
   "source": [
    "Our likelihood function is as follows:\n",
    "\n",
    "- the observations for _each_ are generated from the mean RT for _each_ (which is, say, around $0.05$) plus some error / noise around that mean RT\n",
    "    - the noise is pretty substantial, with observed RTs spread between about $-0.75$ and $0.75$\n",
    "- similarly, the observations for _every_ are generated from the mean RT for _every_ (which seems to be around $-0.05$ ms) plus some error / noise around that mean RT\n",
    "    - once again, the noise is substantial, spreading the observed values mostly between $-0.75$ and $0.75$."
   ]
  },
  {
   "cell_type": "markdown",
   "metadata": {},
   "source": [
    "Our job right now is to write this story up in a single formula that will describe how the 347 RTs depend on quantifier."
   ]
  },
  {
   "cell_type": "markdown",
   "metadata": {},
   "source": [
    "Furthermore, recall that we are interested in the _difference_ between the two quantifiers:\n",
    "\n",
    "- we want to estimate it so that we can determine whether this difference is likely different from $0$, i.e., whether the mean RT for _each_ is different from the mean RT for _every_, as Tunstall's differentiation condition would predict\n",
    "\n",
    "To this end, we will estimate two quantities:\n",
    "\n",
    "- the mean RT for _every_: $\\textit{RT}_{\\textit{every}}$\n",
    "- the mean difference in RT between _each_ and _every_: $\\textit{RT}_{\\textit{each}-\\textit{every}}$\n",
    "\n",
    "With these two quantities in hand, we can obtain the mean RT for _each_ by summing them:\n",
    "\n",
    "- $\\textit{RT}_{\\textit{each}} = \\textit{RT}_{\\textit{every}} + \\textit{RT}_{\\textit{each}-\\textit{every}}$"
   ]
  },
  {
   "cell_type": "markdown",
   "metadata": {},
   "source": [
    "We will now use a simple reformulation of the _quant_ variable (called `dummy coding' of the categorical predictor variable ```every_each[\"quant\"]```) to be able to write a _single_ formula describing how all 347 RTs are a function of the quantifier they are associated with.\n",
    "\n",
    "- we'll rewrite the _quant_ variable as taking either a value of $0$ or a value of $1$, depending on whether the RTs are associated with _every_ or _each_\n",
    "- we then multiply this rewritten / dummy-coded _quant_ variable with the $\\textit{RTs}_{\\textit{each}-\\textit{every}}$ difference"
   ]
  },
  {
   "cell_type": "markdown",
   "metadata": {},
   "source": [
    "**Formula for RT as a function of quantifier**:\n",
    "\n",
    "$\\boxed{\\textit{RT} = \\textit{RT}_{\\textit{every}} + \\textit{quant} \\cdot \\textit{RT}_{\\textit{each}-\\textit{every}} + \\textit{noise}}$\n",
    "\n",
    "- if _RT_ is associated _every_, our dummy-coding for _quant_ says that $\\textit{quant} = 0$\n",
    "    - therefore, the _RT_ is generated from the mean RT for _every_ plus some noise\n",
    "    - $\\textit{RT} = \\textit{RT}_{\\textit{every}} + 0 \\cdot \\textit{RT}_{\\textit{each}-\\textit{every}} + \\textit{noise} = \\textit{RT}_{\\textit{every}} + \\textit{noise}$\n",
    "- if _RT_ is associated with _each_, our dummy-coding for _quant_ says that $\\textit{quant} = 1$\n",
    "    - therefore, the _RT_ is generated from the mean RT for _each_ plus some noise\n",
    "    - $\\textit{RT} = \\textit{RT}_{\\textit{every}} + 1 \\cdot \\textit{RT}_{\\textit{each}-\\textit{every}} + \\textit{noise} = \\textit{RT}_{\\textit{each}} + \\textit{noise}$"
   ]
  },
  {
   "cell_type": "markdown",
   "metadata": {},
   "source": [
    "The code for the dummy coding of the _quant_ variable is a one-liner (line 1 below)\n",
    "\n",
    "- this takes advantage of the vectorial nature of both data and operations in ```numpy``` / ```pandas```\n",
    "- the resulting ```\"dummy_quant\"``` variable recodes _each_ as 1 and _every_ as 0, as expected"
   ]
  },
  {
   "cell_type": "code",
   "execution_count": 12,
   "metadata": {},
   "outputs": [
    {
     "data": {
      "text/html": [
       "<div>\n",
       "<style scoped>\n",
       "    .dataframe tbody tr th:only-of-type {\n",
       "        vertical-align: middle;\n",
       "    }\n",
       "\n",
       "    .dataframe tbody tr th {\n",
       "        vertical-align: top;\n",
       "    }\n",
       "\n",
       "    .dataframe thead th {\n",
       "        text-align: right;\n",
       "    }\n",
       "</style>\n",
       "<table border=\"1\" class=\"dataframe\">\n",
       "  <thead>\n",
       "    <tr style=\"text-align: right;\">\n",
       "      <th></th>\n",
       "      <th>logRTresid</th>\n",
       "      <th>quant</th>\n",
       "      <th>dummy_quant</th>\n",
       "    </tr>\n",
       "  </thead>\n",
       "  <tbody>\n",
       "    <tr>\n",
       "      <th>0</th>\n",
       "      <td>0.056128</td>\n",
       "      <td>each</td>\n",
       "      <td>1</td>\n",
       "    </tr>\n",
       "    <tr>\n",
       "      <th>1</th>\n",
       "      <td>0.241384</td>\n",
       "      <td>each</td>\n",
       "      <td>1</td>\n",
       "    </tr>\n",
       "    <tr>\n",
       "      <th>2</th>\n",
       "      <td>0.056128</td>\n",
       "      <td>every</td>\n",
       "      <td>0</td>\n",
       "    </tr>\n",
       "    <tr>\n",
       "      <th>3</th>\n",
       "      <td>0.037743</td>\n",
       "      <td>each</td>\n",
       "      <td>1</td>\n",
       "    </tr>\n",
       "    <tr>\n",
       "      <th>4</th>\n",
       "      <td>-0.208206</td>\n",
       "      <td>every</td>\n",
       "      <td>0</td>\n",
       "    </tr>\n",
       "    <tr>\n",
       "      <th>5</th>\n",
       "      <td>-0.113990</td>\n",
       "      <td>every</td>\n",
       "      <td>0</td>\n",
       "    </tr>\n",
       "  </tbody>\n",
       "</table>\n",
       "</div>"
      ],
      "text/plain": [
       "   logRTresid  quant  dummy_quant\n",
       "0    0.056128   each            1\n",
       "1    0.241384   each            1\n",
       "2    0.056128  every            0\n",
       "3    0.037743   each            1\n",
       "4   -0.208206  every            0\n",
       "5   -0.113990  every            0"
      ]
     },
     "execution_count": 12,
     "metadata": {},
     "output_type": "execute_result"
    }
   ],
   "source": [
    "every_each[\"dummy_quant\"] = (every_each[\"quant\"]==\"each\").astype(\"int\")\n",
    "\n",
    "every_each.head(n=6)"
   ]
  },
  {
   "cell_type": "markdown",
   "metadata": {},
   "source": [
    "We can now use the variable ```every_each[\"dummy_quant\"]``` and the model, a.k.a. likelihood function above, to generate synthetic datasets.\n",
    "\n",
    "- below, we set our mean RT for _every_ to $-0.05$ and our mean difference in RT to $0.1$ (lines 1-2)\n",
    "- this will result in a mean RT of $0.05$ for _each_\n",
    "- for convenience, we extract the dummy-coded ```dummy_quant``` variable and store it separately (line 3)\n",
    "- we then assemble the means for the 347 synthetic observations we want to generate:\n",
    "    - line 5 directly implements the likelihood function\n",
    "- we can then look at the first 15 means thus assembled"
   ]
  },
  {
   "cell_type": "code",
   "execution_count": 13,
   "metadata": {
    "scrolled": true
   },
   "outputs": [
    {
     "data": {
      "text/plain": [
       "array([ 0.05,  0.05, -0.05,  0.05, -0.05, -0.05,  0.05,  0.05, -0.05,\n",
       "        0.05, -0.05,  0.05,  0.05, -0.05, -0.05])"
      ]
     },
     "execution_count": 13,
     "metadata": {},
     "output_type": "execute_result"
    }
   ],
   "source": [
    "mean_every = -0.05\n",
    "mean_difference = 0.1\n",
    "quant = np.array(every_each[\"dummy_quant\"])\n",
    "\n",
    "synthetic_RT_means = mean_every + quant * mean_difference\n",
    "synthetic_RT_means[:15]"
   ]
  },
  {
   "cell_type": "markdown",
   "metadata": {},
   "source": [
    "Note how the means match the quantifier:\n",
    "\n",
    "- the first two are mean RTs associated with _each_, since the first two observations in our original data set are associated with _each_\n",
    "    - their mean RT is therefore $0.05$\n",
    "\n",
    "- the third observation is associated with _every_ since the third observation in our original data set was associated with _every_\n",
    "     - its mean RT is therefore $-0.05$\n",
    "\n",
    "- and so on"
   ]
  },
  {
   "cell_type": "code",
   "execution_count": 14,
   "metadata": {},
   "outputs": [
    {
     "data": {
      "text/html": [
       "<div>\n",
       "<style scoped>\n",
       "    .dataframe tbody tr th:only-of-type {\n",
       "        vertical-align: middle;\n",
       "    }\n",
       "\n",
       "    .dataframe tbody tr th {\n",
       "        vertical-align: top;\n",
       "    }\n",
       "\n",
       "    .dataframe thead th {\n",
       "        text-align: right;\n",
       "    }\n",
       "</style>\n",
       "<table border=\"1\" class=\"dataframe\">\n",
       "  <thead>\n",
       "    <tr style=\"text-align: right;\">\n",
       "      <th></th>\n",
       "      <th>logRTresid</th>\n",
       "      <th>quant</th>\n",
       "      <th>dummy_quant</th>\n",
       "    </tr>\n",
       "  </thead>\n",
       "  <tbody>\n",
       "    <tr>\n",
       "      <th>0</th>\n",
       "      <td>0.056128</td>\n",
       "      <td>each</td>\n",
       "      <td>1</td>\n",
       "    </tr>\n",
       "    <tr>\n",
       "      <th>1</th>\n",
       "      <td>0.241384</td>\n",
       "      <td>each</td>\n",
       "      <td>1</td>\n",
       "    </tr>\n",
       "    <tr>\n",
       "      <th>2</th>\n",
       "      <td>0.056128</td>\n",
       "      <td>every</td>\n",
       "      <td>0</td>\n",
       "    </tr>\n",
       "    <tr>\n",
       "      <th>3</th>\n",
       "      <td>0.037743</td>\n",
       "      <td>each</td>\n",
       "      <td>1</td>\n",
       "    </tr>\n",
       "    <tr>\n",
       "      <th>4</th>\n",
       "      <td>-0.208206</td>\n",
       "      <td>every</td>\n",
       "      <td>0</td>\n",
       "    </tr>\n",
       "    <tr>\n",
       "      <th>5</th>\n",
       "      <td>-0.113990</td>\n",
       "      <td>every</td>\n",
       "      <td>0</td>\n",
       "    </tr>\n",
       "    <tr>\n",
       "      <th>6</th>\n",
       "      <td>-0.041183</td>\n",
       "      <td>each</td>\n",
       "      <td>1</td>\n",
       "    </tr>\n",
       "    <tr>\n",
       "      <th>7</th>\n",
       "      <td>0.019087</td>\n",
       "      <td>each</td>\n",
       "      <td>1</td>\n",
       "    </tr>\n",
       "    <tr>\n",
       "      <th>8</th>\n",
       "      <td>0.869077</td>\n",
       "      <td>every</td>\n",
       "      <td>0</td>\n",
       "    </tr>\n",
       "    <tr>\n",
       "      <th>9</th>\n",
       "      <td>0.040079</td>\n",
       "      <td>each</td>\n",
       "      <td>1</td>\n",
       "    </tr>\n",
       "    <tr>\n",
       "      <th>10</th>\n",
       "      <td>0.090530</td>\n",
       "      <td>every</td>\n",
       "      <td>0</td>\n",
       "    </tr>\n",
       "    <tr>\n",
       "      <th>11</th>\n",
       "      <td>-0.019101</td>\n",
       "      <td>each</td>\n",
       "      <td>1</td>\n",
       "    </tr>\n",
       "    <tr>\n",
       "      <th>12</th>\n",
       "      <td>0.181284</td>\n",
       "      <td>each</td>\n",
       "      <td>1</td>\n",
       "    </tr>\n",
       "    <tr>\n",
       "      <th>13</th>\n",
       "      <td>-0.489288</td>\n",
       "      <td>every</td>\n",
       "      <td>0</td>\n",
       "    </tr>\n",
       "    <tr>\n",
       "      <th>14</th>\n",
       "      <td>-0.042091</td>\n",
       "      <td>every</td>\n",
       "      <td>0</td>\n",
       "    </tr>\n",
       "  </tbody>\n",
       "</table>\n",
       "</div>"
      ],
      "text/plain": [
       "    logRTresid  quant  dummy_quant\n",
       "0     0.056128   each            1\n",
       "1     0.241384   each            1\n",
       "2     0.056128  every            0\n",
       "3     0.037743   each            1\n",
       "4    -0.208206  every            0\n",
       "5    -0.113990  every            0\n",
       "6    -0.041183   each            1\n",
       "7     0.019087   each            1\n",
       "8     0.869077  every            0\n",
       "9     0.040079   each            1\n",
       "10    0.090530  every            0\n",
       "11   -0.019101   each            1\n",
       "12    0.181284   each            1\n",
       "13   -0.489288  every            0\n",
       "14   -0.042091  every            0"
      ]
     },
     "execution_count": 14,
     "metadata": {},
     "output_type": "execute_result"
    }
   ],
   "source": [
    "every_each.head(n=15)"
   ]
  },
  {
   "cell_type": "markdown",
   "metadata": {},
   "source": [
    "The likelihood function has one final component: the noise.\n",
    "\n",
    "- RTs from a specific quantifier are only imperfect, noisy reflections of the mean RT for that quantifier\n",
    "- the noise comes from variations in the measuring equipment (keyboard etc.), or variations in the way the participants press the space bar at different times, or any other factor that we are not controlling for\n",
    "- we generate noisy observations by drawing random numbers from a normal distribution: we use the ```numpy``` function ```random.normal``` for this purpose (line 2 below)\n",
    "- the mean of the normal distribution is the mean RT for one quantifier or the other, and the standard deviation is set to $0.25$, which generates noise of about $+/- 0.75$\n",
    "- the resulting RTs are randomly generated real numbers"
   ]
  },
  {
   "cell_type": "code",
   "execution_count": 15,
   "metadata": {},
   "outputs": [
    {
     "data": {
      "text/plain": [
       "array([-0.18, -0.04, -0.23, -0.18, -0.77,  0.11, -0.13, -0.25, -0.06,\n",
       "        0.36, -0.22, -0.19, -0.51, -0.19, -0.45,  0.34,  0.52,  0.35,\n",
       "        0.06, -0.04, -0.07, -0.25,  0.4 , -0.23,  0.31])"
      ]
     },
     "execution_count": 15,
     "metadata": {},
     "output_type": "execute_result"
    }
   ],
   "source": [
    "sigma = 0.25\n",
    "synthetic_RTs = np.random.normal(synthetic_RT_means, sigma)\n",
    "synthetic_RTs.round(2)[:25]"
   ]
  },
  {
   "cell_type": "markdown",
   "metadata": {},
   "source": [
    "We can compare these synthetic RTs to the actual RTs:\n",
    "\n",
    "- we extract and store them in an independent variable ```RTs``` (line 2 below)\n",
    "- we see that the range of variation in the synthetic data is pretty similar to the actual data"
   ]
  },
  {
   "cell_type": "code",
   "execution_count": 16,
   "metadata": {
    "scrolled": true
   },
   "outputs": [
    {
     "data": {
      "text/plain": [
       "array([ 0.06,  0.24,  0.06,  0.04, -0.21, -0.11, -0.04,  0.02,  0.87,\n",
       "        0.04,  0.09, -0.02,  0.18, -0.49, -0.04,  0.17, -0.28, -0.16,\n",
       "       -0.07, -0.18, -0.13, -0.27,  0.14, -0.34,  0.08])"
      ]
     },
     "execution_count": 16,
     "metadata": {},
     "output_type": "execute_result"
    }
   ],
   "source": [
    "# compare to the actual RTs in our dataset\n",
    "RTs = np.array(every_each[\"logRTresid\"])\n",
    "RTs.round(2)[:25]"
   ]
  },
  {
   "cell_type": "markdown",
   "metadata": {},
   "source": [
    "Finally, if we want to synthesize more RT datasets that are similar to our actual dataset, we can simply do another set of draws from a normal distribution:\n",
    "\n",
    "- centered at $-0.05$ or $0.05$ (depending on the quantifier)\n",
    "- with a standard deviation of $0.25$"
   ]
  },
  {
   "cell_type": "code",
   "execution_count": 17,
   "metadata": {
    "scrolled": true
   },
   "outputs": [
    {
     "data": {
      "text/plain": [
       "array([ 0.32,  0.55, -0.23,  0.1 ,  0.1 ,  0.18, -0.24, -0.1 , -0.25,\n",
       "       -0.01,  0.33, -0.39, -0.26,  0.22,  0.1 ,  0.29,  0.16, -0.06,\n",
       "       -0.12,  0.03,  0.13,  0.07, -0.03, -0.19,  0.04])"
      ]
     },
     "execution_count": 17,
     "metadata": {},
     "output_type": "execute_result"
    }
   ],
   "source": [
    "# repeat to generate a different sample of synthetic RTs\n",
    "synthetic_RTs = np.random.normal(synthetic_RT_means, sigma)\n",
    "synthetic_RTs.round(2)[:25]"
   ]
  },
  {
   "cell_type": "code",
   "execution_count": null,
   "metadata": {},
   "outputs": [],
   "source": []
  }
 ],
 "metadata": {
  "jupytext": {
   "cell_metadata_filter": "-all"
  },
  "kernelspec": {
   "display_name": "Python 3",
   "language": "python",
   "name": "python3"
  },
  "language_info": {
   "codemirror_mode": {
    "name": "ipython",
    "version": 3
   },
   "file_extension": ".py",
   "mimetype": "text/x-python",
   "name": "python",
   "nbconvert_exporter": "python",
   "pygments_lexer": "ipython3",
   "version": "3.8.5"
  },
  "toc": {
   "base_numbering": 1,
   "nav_menu": {},
   "number_sections": true,
   "sideBar": true,
   "skip_h1_title": false,
   "title_cell": "Table of Contents",
   "title_sidebar": "Contents",
   "toc_cell": false,
   "toc_position": {},
   "toc_section_display": true,
   "toc_window_display": false
  }
 },
 "nbformat": 4,
 "nbformat_minor": 4
}
