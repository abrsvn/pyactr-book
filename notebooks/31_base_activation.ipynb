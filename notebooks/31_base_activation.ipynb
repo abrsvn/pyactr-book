{
 "cells": [
  {
   "cell_type": "markdown",
   "metadata": {},
   "source": [
    "[![Open In Colab](./images/colab-badge.png)](https://colab.research.google.com/github/abrsvn/pyactr-book/blob/master/notebooks/31_base_activation.ipynb)"
   ]
  },
  {
   "cell_type": "code",
   "execution_count": 1,
   "metadata": {},
   "outputs": [],
   "source": [
    "import matplotlib as mpl\n",
    "mpl.rcParams['figure.dpi'] = 400\n",
    "import matplotlib.pyplot as plt\n",
    "plt.style.use('seaborn')\n",
    "import seaborn as sns\n",
    "\n",
    "import numpy as np"
   ]
  },
  {
   "cell_type": "markdown",
   "metadata": {
    "lines_to_next_cell": 0
   },
   "source": [
    "## The base activation equation"
   ]
  },
  {
   "cell_type": "markdown",
   "metadata": {
    "lines_to_next_cell": 0
   },
   "source": [
    "The ACT-R base activation equation below directly reflects the power law of forgetting:\n",
    "\n",
    "- ACT-R base activation: $\\boxed{B_{i} = \\log \\left( \\sum\\limits_{k=1}^{n} t_{k}^{-d} \\right)}$.\n",
    "- Equivalently (exponentiating both sides): $e^{B_{i}} = \\sum\\limits_{k=1}^{n} t_{k}^{-d} = t_{1}^{-d} + t_{2}^{-d} + \\dots + t_{n}^{-d}$"
   ]
  },
  {
   "cell_type": "markdown",
   "metadata": {
    "lines_to_next_cell": 0
   },
   "source": [
    "- the base activation $B_{i}$ of a chunk $i$ in declarative memory is a log-transformed measure of performance.\n",
    "- the actual measure of performance is $e^{B_{i}}$, and $e^{B_{i}}$ is a power function of the times $t_{k}$ since the chunk was presented\n",
    "- 'presentation' in ACT-R really means two things:\n",
    "    - the chunk was created for the first time, for example, because the human (or the model) was confronted with a new fact\n",
    "    - the chunk was re-created; re-creating most often happens when the human (or the model) correctly recalls a chunk, after which the chunk is stored again in memory"
   ]
  },
  {
   "cell_type": "markdown",
   "metadata": {
    "lines_to_next_cell": 0
   },
   "source": [
    "Memory-related performance $e^{B_{i}}$ on a specific chunk $i$ at a specific time of retrieval from memory $t_{\\textit{now}}$ is:\n",
    "- the sum of $t_{k}^{-d}$\n",
    "    - for all $k$ presentations of the chunk, where $k$ varies from $1$ to the total number of chunk presentations $n$\n",
    "- for each presentation $k$, $t_{k}$ is the period of time elapsed between the time of presentation $k$ and the time of retrieval $t_{\\textit{now}}$\n",
    "    - that is, $t_{k}$ the same as the _delay_ variable in the Ebbinghaus data\n",
    "- the negative exponent $-d$ (decay) is the equivalent of the $-\\beta$ slope parameter in our log-log (power-law) model of the Ebbinghaus data"
   ]
  },
  {
   "cell_type": "markdown",
   "metadata": {
    "lines_to_next_cell": 0
   },
   "source": [
    "The basic intuition behind the base activation equation above is that\n",
    "\n",
    "> ''at any point in time, memories vary in how likely they are to be needed and the memory system tries to make available those memories that are most likely to be useful. The memory system can use the past history of use of a memory to estimate whether the memory is likely to be needed now. This view sees human memory in some sense as making a statistical inference. However, it does not imply that memory is explicitly engaged in statistical computations. Rather, the claim is that whatever memory is doing parallels a correct statistical inference.'' (Anderson and Schooler 1991, p. 400)"
   ]
  },
  {
   "cell_type": "markdown",
   "metadata": {
    "lines_to_next_cell": 0
   },
   "source": [
    "What memory is inferring is _activation_, which reflects ''need probability'':\n",
    "\n",
    "- the probability that we will need a particular chunk now\n",
    "\n",
    "The basic assumption, already developed in Anderson 1990 (_The adaptive character of thought_. Hillsdale, NJ: Lawrence Erlbaum Associates), is that:\n",
    "\n",
    "- chunks (facts in the declarative memory) are considered in order of their need probabilities\n",
    "- until the need probability of a chunk is so low that it is not worth trying to retrieve that chunk anymore\n",
    "    - i.e., the chunk's activation is below a retrieval threshold\n",
    "    \n",
    "This description of what declarative memory does when it retrieves a chunks is serial, but the actual retrieval process is actually formalized as a **parallel process** in which chunks are simultaneously accessed and the one with the highest activation is retrieved (if the activation exceeds the threshold)."
   ]
  },
  {
   "cell_type": "markdown",
   "metadata": {
    "lines_to_next_cell": 0
   },
   "source": [
    "This theory of declarative memory derives specific predictions about the relationship between:\n",
    "\n",
    "- activation, which is an unobserved quantity reflecting need probability\n",
    "- observable / measurable quantities:\n",
    "    - recall latency (how long retrieving a fact takes)\n",
    "    - recall accuracy (what is the probability of a successful retrieval)\n",
    "\n",
    "The key to understanding the connection between activation on one hand, and recall latency and accuracy on the other hand, is to understand the specific way in which activation reflects need probability:\n",
    "\n",
    "- Activation $B_{i}$ is the logit (log-odds) transformation of need probability:\n",
    "    - $B_{i} = \\log(o_{i})$\n",
    "- thus, exponentiated activation $e^{B_{i}}$, which is the actual measure of performance, is the need-odds $o_i$ of chunk $i$:\n",
    "    - $\\boxed{e^{B_{i}}\\mbox{ is the odds that chunk }i\\mbox{ is needed}}$\n",
    "    - recall that odds are a deterministic function of probability: $o_i = \\frac{p_i}{1-p_i}$\n",
    "        - where $p_i$ is the 'need probability' of chunk $i$, i.e., the probability that chunk $i$ is needed at the retrieval time $t_{\\textit{now}}$"
   ]
  },
  {
   "cell_type": "markdown",
   "metadata": {
    "lines_to_next_cell": 0
   },
   "source": [
    "Summarizing, the base-level activation equation says that:\n",
    "\n",
    "- exponentiated activation $e^{B_{i}}$, which encodes the 'need odds' of chunk $i$ (the odds that chunk $i$ is needed at the time of retrieval $t_{\\textit{now}}$), is a power function of time\n",
    "- this power function has two components, $\\sum\\limits_{k=1}^{n}$ and $t_{k}^{-d}$, which formalize the following:\n",
    "    - $\\sum\\limits_{k=1}^{n}$: individual presentations $1$ through $n$ of a chunk $i$ have a strengthening impact on the need odds of chunk $i$\n",
    "        - a presentation $k$ additively increases the previous need odds for chunk $i$\n",
    "        - these impacts are summed up to produce a total strength / total need odds for chunk $i$;\n",
    "    - $t_{k}^{-d}$: the strengthening impact of a presentation $k$ on the total need odds for chunk $i$ is a power function of time $t_{k}^{-d}$, where $t_{k}$ is the time elapsed since presentation $k$\n",
    "        - that is, $t_{k}$ is the delay: the period of time elapsed between the time of presentation $k$ and the time of retrieval $t_{now}$\n",
    "        - raising the delay $t_{k}$ to the $-d$ power (the decay) produces the power law of forgetting"
   ]
  },
  {
   "cell_type": "markdown",
   "metadata": {
    "lines_to_next_cell": 0
   },
   "source": [
    "The parameter $d$ in the base activation equation is usually set to $\\frac{1}{2}$, so the equation simplifies to:\n",
    "\n",
    "- Base-level learning equation (simplified: $d=0.5$): $B_{i} = \\log \\left( \\sum\\limits_{k=1}^{n} t_{k}^{-\\frac{1}{2}} \\right) = \\log \\left( \\sum\\limits_{k=1}^{n} \\frac{1}{\\sqrt{t_k}} \\right)$"
   ]
  },
  {
   "cell_type": "markdown",
   "metadata": {},
   "source": [
    "## An example"
   ]
  },
  {
   "cell_type": "markdown",
   "metadata": {
    "lines_to_next_cell": 0
   },
   "source": [
    "Let's work through an example. Assume we have the following chunk of type ```word``` in declarative memory, repeated from the first model (the 'agreement' model) we discussed:\n",
    "\n",
    "![Car chunk in graph form](figures/car_graph.jpg)\n",
    "\n",
    "![Car chunk in avm form](figures/car_avm.jpg)"
   ]
  },
  {
   "cell_type": "markdown",
   "metadata": {
    "lines_to_next_cell": 0
   },
   "source": [
    "Assume this chunk is presented $5$ times, once every $1.25$ s, starting at time $0$ s. We want to plot its base-level activation for the first $10$ s."
   ]
  },
  {
   "cell_type": "markdown",
   "metadata": {
    "lines_to_next_cell": 0
   },
   "source": [
    "Below, we define a ```base_activation``` function. Its inputs are:\n",
    "\n",
    "- the vector of presentation times for the chunk: ```pres_times```, the first argument of the function\n",
    "- the vector consisting of the moments of time at which to obtain activation: ```moments```, the second argument of the function\n",
    "    - you can think of these ```moments``` of time as potential retrieval times\n",
    "\n",
    "The output of the ```base_activation``` function is the vector ```base_act``` of base-activation values at the corresponding ```moments``` of time."
   ]
  },
  {
   "cell_type": "code",
   "execution_count": 2,
   "metadata": {},
   "outputs": [],
   "source": [
    "def base_activation(pres_times, moments):\n",
    "    base_act = np.zeros(len(moments))\n",
    "    for idx in range(len(moments)):\n",
    "        past_pres_times = pres_times[pres_times<moments[idx]]\n",
    "        base_act[idx] = \\\n",
    "            np.sum(1/np.sqrt(moments[idx] - past_pres_times))\n",
    "    non_zero_activations = np.not_equal(base_act, 0)\n",
    "    base_act[non_zero_activations] = \\\n",
    "        np.log(base_act[np.not_equal(base_act, 0)])\n",
    "    \n",
    "    return base_act"
   ]
  },
  {
   "cell_type": "markdown",
   "metadata": {
    "lines_to_next_cell": 0
   },
   "source": [
    "- line 2: we initialize the base activation ```base_act```: we set it to be a long vector of $0$s, as long as the number of moments we want to compute the activation for\n",
    "- line 3: the ```for``` loop on lines 3-6 computes the actual activation: for every point ```idx``` (short for `index') at which we want to compute the activation, we do several things, discussed below;\n",
    "- line 4: we identify the moment in time at which we should compute the activation, namely ```moments[idx]```; we identify the presentation times that precede this moment, namely ```pres_times<moments[idx]```, since they are the only presentations contributing to base activation at this moment in time; we retrieve these presentation times and store them in the variable ```past_pres_times```;\n",
    "- lines 5-6: with these past presentation times in hand, we compute base level activation following the base level equation; first, we compute the time intervals since those past presentations: ```moments[idx] - past_pres_times```; then we take the square root of these intervals ```np.sqrt(...)``` and then, the reciprocal of those square roots ```1/np.sqrt(...)```; finally, we sum all those reciprocals ```np.sum(...)```;\n",
    "- lines 7-9: now, the vector ```base_act``` stores exponentiated activations; to get to the actual activations, we need to take the log of the quantities currently stored in ```base_act```; since $\\log(0)$ is undefined, we identify the non-$0$ quantities in ```base_act``` (line 7), take the log of those quantities and replace them with their logs (lines 8-9)."
   ]
  },
  {
   "cell_type": "markdown",
   "metadata": {},
   "source": [
    "Let's generate a vector of 5 presentation times evenly spaced between $0$ and $5000$ ms.\n",
    "- as shown below, these presentation times are at $0$ s, $1.25$ s, $2.5$ s, $3.75$ s and $5$ s."
   ]
  },
  {
   "cell_type": "code",
   "execution_count": 3,
   "metadata": {},
   "outputs": [
    {
     "data": {
      "text/plain": [
       "array([0.  , 1.25, 2.5 , 3.75, 5.  ])"
      ]
     },
     "execution_count": 3,
     "metadata": {},
     "output_type": "execute_result"
    }
   ],
   "source": [
    "pres_times = np.linspace(0, 5000, 5)/1000\n",
    "pres_times"
   ]
  },
  {
   "cell_type": "markdown",
   "metadata": {},
   "source": [
    "We generate a vector of the moments in time at which we want to compute the activation:\n",
    "\n",
    "- we want to see the ebbs and flows of activation for the first ten seconds\n",
    "- we want to see this every ms\n",
    "- so we generate a vector with $10000$ numbers, from $1$ to $10000$ ms"
   ]
  },
  {
   "cell_type": "code",
   "execution_count": 4,
   "metadata": {
    "scrolled": true
   },
   "outputs": [
    {
     "data": {
      "text/plain": [
       "array([0.000e+00, 1.000e-03, 2.000e-03, ..., 9.997e+00, 9.998e+00,\n",
       "       9.999e+00])"
      ]
     },
     "execution_count": 4,
     "metadata": {},
     "output_type": "execute_result"
    }
   ],
   "source": [
    "moments = np.arange(10000)/1000\n",
    "moments"
   ]
  },
  {
   "cell_type": "markdown",
   "metadata": {},
   "source": [
    "Finally, we compute the base activation relative to these moments and presentation times using our ```base_activation``` function:"
   ]
  },
  {
   "cell_type": "code",
   "execution_count": 5,
   "metadata": {},
   "outputs": [
    {
     "data": {
      "text/plain": [
       "array([0.        , 3.45387764, 3.10730405, ..., 0.62436509, 0.6242921 ,\n",
       "       0.62421912])"
      ]
     },
     "execution_count": 5,
     "metadata": {},
     "output_type": "execute_result"
    }
   ],
   "source": [
    "base_act = base_activation(pres_times, moments)\n",
    "base_act"
   ]
  },
  {
   "cell_type": "markdown",
   "metadata": {},
   "source": [
    "We can now plot the result: the code for the plot is provided below, as well as the resulting plot:"
   ]
  },
  {
   "cell_type": "code",
   "execution_count": 6,
   "metadata": {},
   "outputs": [
    {
     "data": {
      "image/png": "[encoded data removed]",
      "text/plain": [
       "<Figure size 396x216 with 1 Axes>"
      ]
     },
     "metadata": {},
     "output_type": "display_data"
    }
   ],
   "source": [
    "fig, ax = plt.subplots(ncols=1, nrows=1)\n",
    "fig.set_size_inches(5.5, 3)\n",
    "ax.plot(moments, base_act, linestyle='-')\n",
    "ax.plot(pres_times, np.ones(5) * -0.3, 'ro')\n",
    "ax.set_title('Base activation (blue) and 5 presentations (red)')\n",
    "ax.set_xlabel('Time (s)')\n",
    "ax.xaxis.set_major_locator(mpl.ticker.MultipleLocator(1))\n",
    "ax.set_ylabel('Base activation (logits)')\n",
    "#plt.xticks(rotation=45)\n",
    "plt.tight_layout(pad=0.5, w_pad=0.2, h_pad=0.7)"
   ]
  },
  {
   "cell_type": "markdown",
   "metadata": {},
   "source": [
    "- the activation of the chunk spikes after each presentation and then drops as a power function of time until the next presentation / spike\n",
    "- the maximum activation (the height of the spikes) slowly increases with each presentation, just as the decay of activation becomes more and more mild\n",
    "- after the fifth presentation, the activation of the chunk decreases pretty slowly\n",
    "- even in the long term (at $10$ s), its activation is higher than the activation it had shortly after the first presentation (e.g., at $500$ ms)\n",
    "- thus, after repeated presentations, we can say that the chunk has been retained in 'long-term' memory"
   ]
  },
  {
   "cell_type": "markdown",
   "metadata": {},
   "source": [
    "The base action figure shows is that forgetting + rehearsal is an essential part of remembering.\n",
    "\n",
    "- the model captures the common observation that cramming for an exam never works long term\n",
    "- the activation of the newly learned facts decreases very steeply after the first presentation\n",
    "- in constrast, properly spaced rehearsals or practice lead to long-term retention"
   ]
  },
  {
   "cell_type": "markdown",
   "metadata": {},
   "source": [
    "To conclude this notebook, note that ACT-R does not distinguish between short-term and long-term memory.\n",
    "\n",
    "Both of them are distinct from working memory, or focus of attention if you will, which can be thought as the state of the buffers at any given time.\n",
    "\n",
    "Modeling memory as a power-function of time generates the proper short-term memory behavior (after one presentation), as well the proper long-term memory behavior (after a series of presentations)."
   ]
  },
  {
   "cell_type": "code",
   "execution_count": null,
   "metadata": {},
   "outputs": [],
   "source": []
  }
 ],
 "metadata": {
  "jupytext": {
   "cell_metadata_filter": "-all"
  },
  "kernelspec": {
   "display_name": "Python 3",
   "language": "python",
   "name": "python3"
  },
  "language_info": {
   "codemirror_mode": {
    "name": "ipython",
    "version": 3
   },
   "file_extension": ".py",
   "mimetype": "text/x-python",
   "name": "python",
   "nbconvert_exporter": "python",
   "pygments_lexer": "ipython3",
   "version": "3.8.5"
  },
  "toc": {
   "base_numbering": 1,
   "nav_menu": {},
   "number_sections": true,
   "sideBar": true,
   "skip_h1_title": false,
   "title_cell": "Table of Contents",
   "title_sidebar": "Contents",
   "toc_cell": false,
   "toc_position": {},
   "toc_section_display": true,
   "toc_window_display": false
  }
 },
 "nbformat": 4,
 "nbformat_minor": 4
}
