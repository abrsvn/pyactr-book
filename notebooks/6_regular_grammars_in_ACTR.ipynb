{
 "cells": [
  {
   "cell_type": "markdown",
   "metadata": {},
   "source": [
    "[![Open In Colab](./images/colab-badge.png)](https://colab.research.google.com/github/abrsvn/pyactr-book/blob/master/notebooks/6_regular_grammars_in_ACTR.ipynb)"
   ]
  },
  {
   "cell_type": "markdown",
   "metadata": {},
   "source": [
    "# Regular grammars in ACTR/```pyactr```"
   ]
  },
  {
   "cell_type": "code",
   "execution_count": 1,
   "metadata": {},
   "outputs": [],
   "source": [
    "# uncomment the line below to install pyactr\n",
    "# !pip3 install pyactr\n",
    "\n",
    "import pyactr as actr"
   ]
  },
  {
   "cell_type": "markdown",
   "metadata": {},
   "source": [
    "Regular grammars can be classified into right-regular and left-regular grammars. Right-regular grammars are grammars whose rules are of the following form:\n",
    "\n",
    "- X $\\rightarrow$ a Y (where a is a terminal and X, Y are non-terminals)\n",
    "- X $\\rightarrow$ a (where a is a terminal and X is a non-terminal)\n",
    "- X $\\rightarrow$ $\\epsilon$ (where $\\epsilon$ is the empty string and X is a non-terminal)\n",
    "\n",
    "That is, the right-hand side of all production rules is constrained so that non-terminal symbols can only occur in the second position / on the right. Right-regular grammars are famously not expressive enough for natural languages (**Chomsky, Noam. 1956. Three models for the description of language. _IEEE Transactions on\n",
    "information theory_ 2:113–124**), but they make for a good introductory example of modeling basic linguistic patterns in ACT-R.\n",
    "\n",
    "Let us implement a right-regular grammar in ACT-R, which will generate NP (noun phrase) constituents consisting of indefinitely long strings of nouns. We will represent nouns with the terminal symbol 'N'. We effectively restrict ourselves to one rule. This rule is of the form NP $\\rightarrow$ N NP. That is, every run of the model will generate an NP consisting of a potentially infinite number of Ns.\n",
    "\n",
    "We need only one chunk type -- ```goal_chunk``` on line 2 below -- encoding the rule NP (```mother```) $\\rightarrow$ N (```daughter1```) NP (```daughter2```). In addition to these three slots, this chunk type has a fourth slot ```state```, which will enable us to toggle between printing the value of ```daughter1``` and applying the `NP $\\rightarrow$ N NP' rule recursively to the NP in the ```daughter2``` slot."
   ]
  },
  {
   "cell_type": "code",
   "execution_count": 2,
   "metadata": {},
   "outputs": [],
   "source": [
    "regular_grammar = actr.ACTRModel()\n",
    "actr.chunktype(\"goal_chunk\", \"mother daughter1 daughter2 state\")"
   ]
  },
  {
   "cell_type": "markdown",
   "metadata": {},
   "source": [
    "We initialize the goal buffer to an NP ```mother``` node. The value of ```state``` will be ```rule```, which will simply signal that the rewrite rule should be triggered."
   ]
  },
  {
   "cell_type": "code",
   "execution_count": 3,
   "metadata": {},
   "outputs": [],
   "source": [
    "regular_grammar.goal.add(actr.chunkstring(string=\"\"\"\n",
    "    isa         goal_chunk\n",
    "    mother      NP\n",
    "    state       rule\n",
    "\"\"\"))"
   ]
  },
  {
   "cell_type": "markdown",
   "metadata": {},
   "source": [
    "We need only three rules:\n",
    "\n",
    "   - one which implements our `NP $\\rightarrow$ N NP' rule: we rewrite the NP mother node as the daughters N and NP (in that order);\n",
    "   - another rule that prints the first daughter, i.e., the terminal node N;\n",
    "   - a final rule that sets the second daughter, which is the non-terminal NP, as the current node so that the rewrite rule can apply again;\n",
    "\n",
    "The ```\"NP ==> N NP\"``` rule is triggered if our ```goal_chunk``` has NP as the mother node, no daughters, and is in a state expecting the rule to be applied. If these preconditions are satisfied, we generate the daughter nodes and we enter a ```show``` state in which the first daughter will be printed."
   ]
  },
  {
   "cell_type": "code",
   "execution_count": 4,
   "metadata": {},
   "outputs": [
    {
     "data": {
      "text/plain": [
       "{'=g': goal_chunk(daughter1= None, daughter2= None, mother= NP, state= rule)}\n",
       "==>\n",
       "{'=g': goal_chunk(daughter1= N, daughter2= NP, mother= , state= show)}"
      ]
     },
     "execution_count": 4,
     "metadata": {},
     "output_type": "execute_result"
    }
   ],
   "source": [
    "regular_grammar.productionstring(name=\"NP ==> N NP\", string=\"\"\"\n",
    "    =g>\n",
    "    isa         goal_chunk\n",
    "    mother      NP\n",
    "    daughter1   None\n",
    "    daughter2   None\n",
    "    state       rule\n",
    "    ==>\n",
    "    =g>\n",
    "    isa         goal_chunk\n",
    "    daughter1   N\n",
    "    daughter2   NP\n",
    "    state       show\n",
    "\"\"\")"
   ]
  },
  {
   "cell_type": "markdown",
   "metadata": {},
   "source": [
    "The ```\"print N\"``` rule below is triggered only when the ```goal_chunk``` is in a ```show``` state. In that case, the value of the ```daughter1``` slot is printed and the ```state``` is switched back to a ```rule``` application state. Printing is done by specifying that a buffer should execute an action (that is what ```!``` encodes; see line 6, and then specifying the action. In this particular case, the command ```show``` on line 7 prints the value of the slot ```daughter1```."
   ]
  },
  {
   "cell_type": "code",
   "execution_count": 5,
   "metadata": {},
   "outputs": [
    {
     "data": {
      "text/plain": [
       "{'=g': goal_chunk(daughter1= , daughter2= , mother= , state= show)}\n",
       "==>\n",
       "{'!g': ([(['show', 'daughter1'], {})], {}), '=g': goal_chunk(daughter1= , daughter2= , mother= , state= rule)}"
      ]
     },
     "execution_count": 5,
     "metadata": {},
     "output_type": "execute_result"
    }
   ],
   "source": [
    "regular_grammar.productionstring(name=\"print N\", string=\"\"\"\n",
    "    =g>\n",
    "    isa         goal_chunk\n",
    "    state       show\n",
    "    ==>\n",
    "    !g>\n",
    "    show        daughter1\n",
    "    =g>\n",
    "    isa         goal_chunk\n",
    "    state       rule\n",
    "\"\"\")"
   ]
  },
  {
   "cell_type": "markdown",
   "metadata": {},
   "source": [
    "The final rule ```\"get new mother\"``` sets the value of the ```daughter2``` slot as the new mother node (assuming this value is not ```None```), preparing the ground for a new application of the ```\"NP ==> N NP\"``` rule. It also erases the current values of the ```daughter1``` and ```daughter2``` slots, so that the ```\"get new mother\"``` rule cannot apply to its own output. This way, only the ```\"NP ==> N NP\"``` rule can be selected after the ```\"get new mother\"``` rule fires."
   ]
  },
  {
   "cell_type": "code",
   "execution_count": 6,
   "metadata": {},
   "outputs": [
    {
     "data": {
      "text/plain": [
       "{'=g': goal_chunk(daughter1= , daughter2= =x~None, mother= , state= rule)}\n",
       "==>\n",
       "{'=g': goal_chunk(daughter1= None, daughter2= None, mother= =x, state= )}"
      ]
     },
     "execution_count": 6,
     "metadata": {},
     "output_type": "execute_result"
    }
   ],
   "source": [
    "regular_grammar.productionstring(name=\"get new mother\", string=\"\"\"\n",
    "    =g>\n",
    "    isa         goal_chunk\n",
    "    daughter2   =x\n",
    "    daughter2   ~None\n",
    "    state       rule\n",
    "    ==>\n",
    "    =g>\n",
    "    isa         goal_chunk\n",
    "    mother      =x\n",
    "    daughter1   None\n",
    "    daughter2   None\n",
    "\"\"\")"
   ]
  },
  {
   "cell_type": "markdown",
   "metadata": {},
   "source": [
    "We can now run the simulation for different amounts of time and, depending on that, we will get NPs rewritten as N sequences of varying lengths. To see only the sequence of Ns, we suppress all other output by turning off the temporal trace for the simulation -- see ```trace=False``` below."
   ]
  },
  {
   "cell_type": "code",
   "execution_count": 7,
   "metadata": {},
   "outputs": [
    {
     "name": "stdout",
     "output_type": "stream",
     "text": [
      "daughter1 N\n",
      "daughter1 N\n",
      "daughter1 N\n",
      "daughter1 N\n",
      "daughter1 N\n",
      "daughter1 N\n",
      "daughter1 N\n",
      "daughter1 N\n",
      "daughter1 N\n"
     ]
    }
   ],
   "source": [
    "regular_grammar_sim = regular_grammar.simulation(trace=False)\n",
    "regular_grammar_sim.run(0.5)\n",
    "regular_grammar_sim = regular_grammar.simulation(trace=False)\n",
    "regular_grammar_sim.run(1)"
   ]
  },
  {
   "cell_type": "markdown",
   "metadata": {},
   "source": [
    "If we want to examine the full trace of the model, we can run it with the ```trace``` turned on (which is the default setting, so we do not normally needed to explicitly specify it). We see that the model runs in repeated cycles: first, the ```\"NP ==> N NP\"``` rule fires, then the ```\"print N\"``` rule fires, then the ```\"get new mother\"``` rule fires, after which this three-rule cycle begins again."
   ]
  },
  {
   "cell_type": "code",
   "execution_count": 8,
   "metadata": {},
   "outputs": [
    {
     "name": "stdout",
     "output_type": "stream",
     "text": [
      "(0, 'PROCEDURAL', 'CONFLICT RESOLUTION')\n",
      "(0, 'PROCEDURAL', 'RULE SELECTED: print N')\n",
      "(0.05, 'PROCEDURAL', 'RULE FIRED: print N')\n",
      "daughter1 N\n",
      "(0.05, 'g', 'EXECUTED')\n",
      "(0.05, 'g', 'MODIFIED')\n",
      "(0.05, 'PROCEDURAL', 'CONFLICT RESOLUTION')\n",
      "(0.05, 'PROCEDURAL', 'RULE SELECTED: get new mother')\n",
      "(0.1, 'PROCEDURAL', 'RULE FIRED: get new mother')\n",
      "(0.1, 'g', 'MODIFIED')\n",
      "(0.1, 'PROCEDURAL', 'CONFLICT RESOLUTION')\n",
      "(0.1, 'PROCEDURAL', 'RULE SELECTED: NP ==> N NP')\n",
      "(0.15, 'PROCEDURAL', 'RULE FIRED: NP ==> N NP')\n",
      "(0.15, 'g', 'MODIFIED')\n",
      "(0.15, 'PROCEDURAL', 'CONFLICT RESOLUTION')\n",
      "(0.15, 'PROCEDURAL', 'RULE SELECTED: print N')\n",
      "(0.2, 'PROCEDURAL', 'RULE FIRED: print N')\n",
      "daughter1 N\n",
      "(0.2, 'g', 'EXECUTED')\n",
      "(0.2, 'g', 'MODIFIED')\n",
      "(0.2, 'PROCEDURAL', 'CONFLICT RESOLUTION')\n",
      "(0.2, 'PROCEDURAL', 'RULE SELECTED: get new mother')\n",
      "(0.25, 'PROCEDURAL', 'RULE FIRED: get new mother')\n",
      "(0.25, 'g', 'MODIFIED')\n",
      "(0.25, 'PROCEDURAL', 'CONFLICT RESOLUTION')\n",
      "(0.25, 'PROCEDURAL', 'RULE SELECTED: NP ==> N NP')\n",
      "(0.3, 'PROCEDURAL', 'RULE FIRED: NP ==> N NP')\n",
      "(0.3, 'g', 'MODIFIED')\n",
      "(0.3, 'PROCEDURAL', 'CONFLICT RESOLUTION')\n",
      "(0.3, 'PROCEDURAL', 'RULE SELECTED: print N')\n",
      "(0.35, 'PROCEDURAL', 'RULE FIRED: print N')\n",
      "daughter1 N\n",
      "(0.35, 'g', 'EXECUTED')\n",
      "(0.35, 'g', 'MODIFIED')\n",
      "(0.35, 'PROCEDURAL', 'CONFLICT RESOLUTION')\n",
      "(0.35, 'PROCEDURAL', 'RULE SELECTED: get new mother')\n",
      "(0.4, 'PROCEDURAL', 'RULE FIRED: get new mother')\n",
      "(0.4, 'g', 'MODIFIED')\n",
      "(0.4, 'PROCEDURAL', 'CONFLICT RESOLUTION')\n",
      "(0.4, 'PROCEDURAL', 'RULE SELECTED: NP ==> N NP')\n",
      "(0.45, 'PROCEDURAL', 'RULE FIRED: NP ==> N NP')\n",
      "(0.45, 'g', 'MODIFIED')\n",
      "(0.45, 'PROCEDURAL', 'CONFLICT RESOLUTION')\n",
      "(0.45, 'PROCEDURAL', 'RULE SELECTED: print N')\n"
     ]
    }
   ],
   "source": [
    "regular_grammar_sim = regular_grammar.simulation(trace=True)\n",
    "regular_grammar_sim.run(0.5)"
   ]
  }
 ],
 "metadata": {
  "jupytext": {
   "cell_metadata_filter": "-all"
  },
  "kernelspec": {
   "display_name": "Python 3",
   "language": "python",
   "name": "python3"
  },
  "language_info": {
   "codemirror_mode": {
    "name": "ipython",
    "version": 3
   },
   "file_extension": ".py",
   "mimetype": "text/x-python",
   "name": "python",
   "nbconvert_exporter": "python",
   "pygments_lexer": "ipython3",
   "version": "3.8.5"
  },
  "toc": {
   "base_numbering": 1,
   "nav_menu": {},
   "number_sections": true,
   "sideBar": true,
   "skip_h1_title": false,
   "title_cell": "Table of Contents",
   "title_sidebar": "Contents",
   "toc_cell": false,
   "toc_position": {},
   "toc_section_display": true,
   "toc_window_display": false
  }
 },
 "nbformat": 4,
 "nbformat_minor": 4
}
