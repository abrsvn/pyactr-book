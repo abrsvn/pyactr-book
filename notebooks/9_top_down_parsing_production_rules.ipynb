{
 "cells": [
  {
   "cell_type": "markdown",
   "metadata": {},
   "source": [
    "[![Open In Colab](./images/colab-badge.png)](https://colab.research.google.com/github/abrsvn/pyactr-book/blob/master/notebooks/9_top_down_parsing_production_rules.ipynb)"
   ]
  },
  {
   "cell_type": "markdown",
   "metadata": {},
   "source": [
    "## Building a top-down parser in ```pyactr``` [Part 2]\n",
    "\n",
    "Model up to this point:"
   ]
  },
  {
   "cell_type": "code",
   "execution_count": 1,
   "metadata": {},
   "outputs": [],
   "source": [
    "import pyactr as actr"
   ]
  },
  {
   "cell_type": "code",
   "execution_count": 2,
   "metadata": {},
   "outputs": [],
   "source": [
    "actr.chunktype(\"parsing_goal\", \"stack_top stack_bottom parsed_word task\")\n",
    "actr.chunktype(\"sentence\", \"word1 word2 word3\")\n",
    "actr.chunktype(\"word\", \"form, cat\")"
   ]
  },
  {
   "cell_type": "code",
   "execution_count": 3,
   "metadata": {},
   "outputs": [],
   "source": [
    "parser = actr.ACTRModel()\n",
    "dm = parser.decmem\n",
    "g = parser.goal\n",
    "imaginal = parser.set_goal(name=\"imaginal\", delay=0.2)"
   ]
  },
  {
   "cell_type": "code",
   "execution_count": 4,
   "metadata": {},
   "outputs": [],
   "source": [
    "g.add(actr.chunkstring(string=\"\"\"\n",
    "    isa parsing_goal\n",
    "    task parsing\n",
    "    stack_top S\n",
    "\"\"\"))\n",
    "\n",
    "imaginal.add(actr.chunkstring(string=\"\"\"\n",
    "    isa sentence\n",
    "    word1 Mary\n",
    "    word2 likes\n",
    "    word3 Bill\n",
    "\"\"\"))"
   ]
  },
  {
   "cell_type": "code",
   "execution_count": 5,
   "metadata": {},
   "outputs": [],
   "source": [
    "dm.add(actr.chunkstring(string=\"\"\"\n",
    "    isa word\n",
    "    form Mary\n",
    "    cat ProperN\n",
    "\"\"\"))\n",
    "dm.add(actr.chunkstring(string=\"\"\"\n",
    "    isa word\n",
    "    form Bill\n",
    "    cat ProperN\n",
    "\"\"\"))\n",
    "dm.add(actr.chunkstring(string=\"\"\"\n",
    "    isa word\n",
    "    form likes\n",
    "    cat V\n",
    "\"\"\"))"
   ]
  },
  {
   "cell_type": "markdown",
   "metadata": {},
   "source": [
    "### Production rules\n",
    "\n",
    "We now turn to the production rules that encode both our context-free grammar rules and the top-down parsing strategy represented in the ```expand``` and ```scan``` rules.\n",
    "\n",
    "The first rule is an expanding rule, encoding the first phrase structure rule of our grammar: we expand S into NP and VP, in that order."
   ]
  },
  {
   "cell_type": "code",
   "execution_count": 6,
   "metadata": {},
   "outputs": [
    {
     "data": {
      "text/plain": [
       "{'=g': parsing_goal(parsed_word= , stack_bottom= , stack_top= S, task= parsing)}\n",
       "==>\n",
       "{'=g': parsing_goal(parsed_word= , stack_bottom= VP, stack_top= NP, task= )}"
      ]
     },
     "execution_count": 6,
     "metadata": {},
     "output_type": "execute_result"
    }
   ],
   "source": [
    "parser.productionstring(name=\"expand: S ==> NP VP\", string=\"\"\"\n",
    "    =g>\n",
    "    isa parsing_goal\n",
    "    task parsing\n",
    "    stack_top S\n",
    "    ==>\n",
    "    =g>\n",
    "    isa parsing_goal\n",
    "    stack_top NP\n",
    "    stack_bottom VP\n",
    "\"\"\")"
   ]
  },
  {
   "cell_type": "markdown",
   "metadata": {},
   "source": [
    "- the rule pops the ```S``` goal off the stack and replaces it with two subgoals ```NP``` and ```VP```, in that order\n",
    "- we do not modify the current ```task```, which should remain in an active ```parsing``` state, so we omit it from the specification of the action:\n",
    "    - the chunk in the consequent / right-hand side of the production rule only specifies the slots whose values should be updated, namely ```stack_top``` and ```stack_bottom```"
   ]
  },
  {
   "cell_type": "markdown",
   "metadata": {},
   "source": [
    "The second rule is once again an expanding rule: NP is expanded into ProperN."
   ]
  },
  {
   "cell_type": "code",
   "execution_count": 7,
   "metadata": {},
   "outputs": [
    {
     "data": {
      "text/plain": [
       "{'=g': parsing_goal(parsed_word= , stack_bottom= , stack_top= NP, task= parsing)}\n",
       "==>\n",
       "{'=g': parsing_goal(parsed_word= , stack_bottom= , stack_top= ProperN, task= )}"
      ]
     },
     "execution_count": 7,
     "metadata": {},
     "output_type": "execute_result"
    }
   ],
   "source": [
    "parser.productionstring(name=\"expand: NP ==> ProperN\", string=\"\"\"\n",
    "    =g>\n",
    "    isa parsing_goal\n",
    "    task parsing\n",
    "    stack_top NP\n",
    "    ==>\n",
    "    =g>\n",
    "    isa parsing_goal\n",
    "    stack_top ProperN\n",
    "\"\"\")"
   ]
  },
  {
   "cell_type": "markdown",
   "metadata": {},
   "source": [
    "- the rule only updates the top of the stack\n",
    "- the bottom of the stack is left unmodified, so it is omitted throughout the rule"
   ]
  },
  {
   "cell_type": "markdown",
   "metadata": {},
   "source": [
    "The third production rule expands VP into V and NP:"
   ]
  },
  {
   "cell_type": "code",
   "execution_count": 8,
   "metadata": {},
   "outputs": [
    {
     "data": {
      "text/plain": [
       "{'=g': parsing_goal(parsed_word= , stack_bottom= , stack_top= VP, task= parsing)}\n",
       "==>\n",
       "{'=g': parsing_goal(parsed_word= , stack_bottom= NP, stack_top= V, task= )}"
      ]
     },
     "execution_count": 8,
     "metadata": {},
     "output_type": "execute_result"
    }
   ],
   "source": [
    "parser.productionstring(name=\"expand: VP ==> V NP\", string=\"\"\"\n",
    "    =g>\n",
    "    isa parsing_goal\n",
    "    task parsing\n",
    "    stack_top VP\n",
    "    ==>\n",
    "    =g>\n",
    "    isa parsing_goal\n",
    "    stack_top V\n",
    "    stack_bottom NP\n",
    "\"\"\")"
   ]
  },
  {
   "cell_type": "markdown",
   "metadata": {},
   "source": [
    "- this rule is almost identical to the first rule, we only changed the syntactic category symbols\n",
    "- the rule is triggered only when the 'parse a VP' goal is at the _top_ of the stack\n",
    "    - to trigger this third rule, something must happen after the successive application of the first and second rules ```\"expand: S ==> NP VP\"``` and ```\"expand: NP ==> ProperN\"``` that will promote the VP goal from the bottom of the stack to the top of the stack"
   ]
  },
  {
   "cell_type": "markdown",
   "metadata": {},
   "source": [
    "- goals at the bottom of the stack can be promoted to the top when the top goal is popped off the stack and is not replaced by another goal\n",
    "- this is what happens in a _scan_ step\n",
    "- in our case, a ```scan``` rule needs to pop the ```ProperN``` goal off the top of the stack\n",
    "    - at the same time, the rule scans the first word ```Mary``` of our target sentence\n",
    "    \n",
    "- that is, once we have a terminal (e.g, ProperN or V) at the top of our stack, we have to check that the terminal matches the category of the word to be parsed\n",
    "    - if it does, the word is parsed"
   ]
  },
  {
   "cell_type": "markdown",
   "metadata": {},
   "source": [
    "We achieve this by means of three rules.\n",
    "\n",
    "First, we place a retrieval request for a lexical item stored in declarative memory whose form is the current word to be parsed.\n",
    "\n",
    "If a lexical item is successfully retrieved and the syntactic category of that lexical item is the same as the terminal at the top of our stack:\n",
    "- the current word is scanned, and\n",
    "- the top symbol on our stack is popped"
   ]
  },
  {
   "cell_type": "markdown",
   "metadata": {},
   "source": [
    "The two retrieval rules for our two terminal symbols (ProperN, V) are provided below.\n",
    "\n",
    "- in both cases, we place a retrieval request based on the form of the first word in the sentence to be parsed (```=w1```), and\n",
    "- we change the state of the parsing goal to ```retrieving``` (rather than ```parsing```)"
   ]
  },
  {
   "cell_type": "code",
   "execution_count": 9,
   "metadata": {},
   "outputs": [
    {
     "data": {
      "text/plain": [
       "{'=g': parsing_goal(parsed_word= , stack_bottom= , stack_top= ProperN, task= parsing), '=imaginal': sentence(word1= =w1, word2= , word3= )}\n",
       "==>\n",
       "{'=g': parsing_goal(parsed_word= , stack_bottom= , stack_top= , task= retrieving), '+retrieval': word(cat= , form= =w1)}"
      ]
     },
     "execution_count": 9,
     "metadata": {},
     "output_type": "execute_result"
    }
   ],
   "source": [
    "parser.productionstring(name=\"retrieve: ProperN\", string=\"\"\"\n",
    "    =g>\n",
    "    isa parsing_goal\n",
    "    task parsing\n",
    "    stack_top ProperN\n",
    "    =imaginal>\n",
    "    isa sentence\n",
    "    word1 =w1\n",
    "    ==>\n",
    "    =g>\n",
    "    isa parsing_goal\n",
    "    task retrieving\n",
    "    +retrieval>\n",
    "    isa word\n",
    "    form =w1\n",
    "\"\"\")"
   ]
  },
  {
   "cell_type": "code",
   "execution_count": 10,
   "metadata": {},
   "outputs": [
    {
     "data": {
      "text/plain": [
       "{'=g': parsing_goal(parsed_word= , stack_bottom= , stack_top= V, task= parsing), '=imaginal': sentence(word1= =w1, word2= , word3= )}\n",
       "==>\n",
       "{'=g': parsing_goal(parsed_word= , stack_bottom= , stack_top= , task= retrieving), '+retrieval': word(cat= , form= =w1)}"
      ]
     },
     "execution_count": 10,
     "metadata": {},
     "output_type": "execute_result"
    }
   ],
   "source": [
    "parser.productionstring(name=\"retrieve: V\", string=\"\"\"\n",
    "    =g>\n",
    "    isa parsing_goal\n",
    "    task parsing\n",
    "    stack_top V\n",
    "    =imaginal>\n",
    "    isa sentence\n",
    "    word1 =w1\n",
    "    ==>\n",
    "    =g>\n",
    "    isa parsing_goal\n",
    "    task retrieving\n",
    "    +retrieval>\n",
    "    isa word\n",
    "    form =w1\n",
    "\"\"\")"
   ]
  },
  {
   "cell_type": "markdown",
   "metadata": {},
   "source": [
    "The third rule is the actual scan rule: if the retrieved lexical item matches the top of our stack in syntactic category, then:\n",
    "\n",
    "- we parse the word\n",
    "- we pop the top symbol off the stack\n",
    "- we move to the next word in our sentence\n",
    "    - that is, we promote ```word2``` in our sentence to ```word1```, and ```word3``` to ```word2```"
   ]
  },
  {
   "cell_type": "code",
   "execution_count": 11,
   "metadata": {},
   "outputs": [
    {
     "data": {
      "text/plain": [
       "{'=g': parsing_goal(parsed_word= , stack_bottom= =x, stack_top= =y, task= retrieving), '=retrieval': word(cat= =y, form= =w1), '=imaginal': sentence(word1= =w1, word2= =w2, word3= =w3)}\n",
       "==>\n",
       "{'=g': parsing_goal(parsed_word= =w1, stack_bottom= None, stack_top= =x, task= printing), '=imaginal': sentence(word1= =w2, word2= =w3, word3= None), '~retrieval': None}"
      ]
     },
     "execution_count": 11,
     "metadata": {},
     "output_type": "execute_result"
    }
   ],
   "source": [
    "parser.productionstring(name=\"scan: word\", string=\"\"\"\n",
    "    =g>\n",
    "    isa parsing_goal\n",
    "    task retrieving\n",
    "    stack_top =y\n",
    "    stack_bottom =x\n",
    "    =retrieval>\n",
    "    isa word\n",
    "    form =w1\n",
    "    cat =y\n",
    "    =imaginal>\n",
    "    isa sentence\n",
    "    word1 =w1\n",
    "    word2 =w2\n",
    "    word3 =w3\n",
    "    ==>\n",
    "    =g>\n",
    "    isa parsing_goal\n",
    "    task printing\n",
    "    stack_top =x\n",
    "    stack_bottom None\n",
    "    parsed_word =w1\n",
    "    =imaginal>\n",
    "    isa sentence\n",
    "    word1 =w2\n",
    "    word2 =w3\n",
    "    word3 None\n",
    "    ~retrieval>\n",
    "\"\"\")"
   ]
  },
  {
   "cell_type": "markdown",
   "metadata": {},
   "source": [
    "- on lines 20-21, the top of the stack is popped, so the symbol on the bottom of the stack is promoted to the top of the stack\n",
    "- similarly, the imaginal buffer is updated on lines 23-27:\n",
    "    - the word ```=w1``` that we just parsed is deleted from the sentence\n",
    "    - the new sentence / word string that we still need to parse contains only words ```=w2``` and ```=w3```, which are promoted to the ```word1``` and ```word2``` positions\n",
    "- we also clear the retrieval buffer (```~retrieval>``` on line 28)\n",
    "- as a convenience:\n",
    "    - the parsed word ```=w1``` is stored in the ```parsed_word``` slot of the parsing goal chunk (line 22)\n",
    "    - we enter a new ```printing``` state (line 19) that will enable us to print a message reporting which word was just parsed"
   ]
  },
  {
   "cell_type": "markdown",
   "metadata": {},
   "source": [
    "This printing action, performed by the rule below, is helpful to us as modelers, but it should not be part of our final processing model:"
   ]
  },
  {
   "cell_type": "code",
   "execution_count": 12,
   "metadata": {},
   "outputs": [
    {
     "data": {
      "text/plain": [
       "{'=g': parsing_goal(parsed_word= , stack_bottom= , stack_top= , task= printing), '=imaginal': sentence(word1= ~None, word2= , word3= )}\n",
       "==>\n",
       "{'!g': ([(['show', 'parsed_word'], {})], {}), '=g': parsing_goal(parsed_word= None, stack_bottom= , stack_top= , task= parsing)}"
      ]
     },
     "execution_count": 12,
     "metadata": {},
     "output_type": "execute_result"
    }
   ],
   "source": [
    "parser.productionstring(name=\"print parsed word\", string=\"\"\"\n",
    "    =g>\n",
    "    isa parsing_goal\n",
    "    task printing\n",
    "    =imaginal>\n",
    "    isa sentence\n",
    "    word1 ~None\n",
    "    ==>\n",
    "    !g>\n",
    "    show parsed_word\n",
    "    =g>\n",
    "    isa parsing_goal\n",
    "    task parsing\n",
    "    parsed_word None\n",
    "\"\"\")"
   ]
  },
  {
   "cell_type": "markdown",
   "metadata": {},
   "source": [
    "The rule above says:\n",
    "\n",
    "IF:\n",
    "- the current parsing goal is in a ```printing``` state (line 4)\n",
    "- the slot ```word1``` in the imaginal buffer is not empty (the squiggle ```~``` on line 7 is negation)\n",
    "    - that is, we still have words to parse\n",
    "    \n",
    "THEN:\n",
    "- we should print the ```parsed_word``` in the ```goal``` buffer (lines 9-10)\n",
    "    - line 9 ```!g>``` indicates that our python interpreter should execute an action that involves the goal buffer\n",
    "    - the action is specified on line 10: call the method ```show```, which will print the value of the ```parsed_word``` slot\n",
    "- when we're done printing, we delete the contents of the ```parsed_word``` slot and re-enter an active state of ```parsing``` (lines 11-14)"
   ]
  },
  {
   "cell_type": "markdown",
   "metadata": {},
   "source": [
    "The last production we have to consider is the `wrap-up' production we trigger at the end of the parsing process, provided below.\n",
    "- the parsing process ends when the ```word1``` slot in the imaginal buffer chunk has the value ```None``` (line 7)\n",
    "- the task is ```printing``` (line 4)\n",
    "- we therefore print the final word of the sentence which was just parsed (lines 9-10)\n",
    "- we declare the parsing process done by clearing the ```imaginal``` and ```goal``` buffers (lines 11-12)"
   ]
  },
  {
   "cell_type": "code",
   "execution_count": 13,
   "metadata": {},
   "outputs": [
    {
     "data": {
      "text/plain": [
       "{'=g': parsing_goal(parsed_word= , stack_bottom= , stack_top= , task= printing), '=imaginal': sentence(word1= None, word2= , word3= )}\n",
       "==>\n",
       "{'!g': ([(['show', 'parsed_word'], {})], {}), '~imaginal': None, '~g': None}"
      ]
     },
     "execution_count": 13,
     "metadata": {},
     "output_type": "execute_result"
    }
   ],
   "source": [
    "parser.productionstring(name=\"done\", string=\"\"\"\n",
    "    =g>\n",
    "    isa parsing_goal\n",
    "    task printing\n",
    "    =imaginal>\n",
    "    isa sentence\n",
    "    word1 None\n",
    "    ==>\n",
    "    !g>\n",
    "    show parsed_word\n",
    "    ~imaginal>\n",
    "    ~g>\n",
    "\"\"\")"
   ]
  },
  {
   "cell_type": "code",
   "execution_count": null,
   "metadata": {},
   "outputs": [],
   "source": []
  }
 ],
 "metadata": {
  "jupytext": {
   "cell_metadata_filter": "-all"
  },
  "kernelspec": {
   "display_name": "Python 3",
   "language": "python",
   "name": "python3"
  },
  "language_info": {
   "codemirror_mode": {
    "name": "ipython",
    "version": 3
   },
   "file_extension": ".py",
   "mimetype": "text/x-python",
   "name": "python",
   "nbconvert_exporter": "python",
   "pygments_lexer": "ipython3",
   "version": "3.8.5"
  },
  "toc": {
   "base_numbering": 1,
   "nav_menu": {},
   "number_sections": true,
   "sideBar": true,
   "skip_h1_title": false,
   "title_cell": "Table of Contents",
   "title_sidebar": "Contents",
   "toc_cell": false,
   "toc_position": {},
   "toc_section_display": true,
   "toc_window_display": false
  }
 },
 "nbformat": 4,
 "nbformat_minor": 4
}
