{
 "cells": [
  {
   "cell_type": "markdown",
   "metadata": {},
   "source": [
    "[![Open In Colab](./images/colab-badge.png)](https://colab.research.google.com/github/abrsvn/pyactr-book/blob/master/notebooks/28_subsymbolic_dec_mem_ebbinghaus_data_log_transform.ipynb)"
   ]
  },
  {
   "cell_type": "markdown",
   "metadata": {},
   "source": [
    "# Modeling linguistic performance"
   ]
  },
  {
   "cell_type": "markdown",
   "metadata": {},
   "source": [
    "The goal of ACT-R is to provide accurate cognitive models of learning and performance, as well as accurate neural mappings of cognitive activities.\n",
    "\n",
    "- in this notebook, we start introducing the 'subsymbolic' declarative memory components of ACT-R\n",
    "- these are essential to modeling performance, i.e., actual human behavior in experimental tasks\n",
    "- we then build end-to-end models for a variety of psycholinguistic tasks, e.g., list recall, lexical decision, (self-paced) reading, and evaluate how closely these models fit the actual data\n",
    "- the models we build are end-to-end in the sense that they include\n",
    "    - explicit linguistic analyses that are primarily encoded in the production rules (i.e., in procedural memory)\n",
    "    - a realistic model of declarative memory\n",
    "    - simple, but reasonably realistic, vision and motor modules\n",
    "- we won't discuss the 'subsymbolic' components associated with procedural memory (production utilities: learning them and using them in production selection)"
   ]
  },
  {
   "cell_type": "markdown",
   "metadata": {},
   "source": [
    "When studying performance, we are usually interested in two measures:\n",
    "\n",
    "- what response people choose given some stimulus\n",
    "- how much time it takes them to make that choice, known as reaction time (RT)\n",
    "\n",
    "In linguistics, the first measure often appears as the ''Accept--Reject'' response when people judge the grammatical or interpretational status of a sentence or a discourse.\n",
    "- other types of experimental tasks also fit here, for example, responses in forced-choice tasks, lexical decision tasks etc.\n",
    "\n",
    "The second measure often encodes how much time it takes to choose a particular response.\n",
    "- but other options also exist, e.g., how much time it takes to shift eye gaze, to move a mouse etc.\n",
    "\n",
    "In this notebook and the following ones, we introduce the components of ACT-R that enable us to make good predictions with respect to both kinds of measures with a cognitively plausible mechanism (we focus exclusively on declarative memory)."
   ]
  },
  {
   "cell_type": "markdown",
   "metadata": {},
   "source": [
    "## The power law of forgetting"
   ]
  },
  {
   "cell_type": "markdown",
   "metadata": {},
   "source": [
    "The main idea behind the ACT-R declarative memory architecture is that\n",
    "\n",
    "> ''human memory is behaving optimally with respect to the pattern of past information presentation. Each item in memory has had some history of past use. For instance, our memory for one person's name may not have been used in the past month but might have been used five times in the month previous to that. What is the probability that the memory will be needed (used) during the conceived current day? Memory would be behaving optimally if it made this memory less available than memories that were more likely to be used but made it more available than less likely memories.'' (Anderson, John R., and Lael J. Schooler. 1991. Reflections of the environment in memory.\n",
    "_Psychological Science_ 2, p. 396)"
   ]
  },
  {
   "cell_type": "markdown",
   "metadata": {},
   "source": [
    "The availability of a specific chunk stored in declarative memory, i.e., its **activation**, is a function of the past use of that memory chunk (among other things; more about other factors later).\n",
    "\n",
    "- chunk activation determines both the probability that it will be successfully retrieved and its retrieval time/latency"
   ]
  },
  {
   "cell_type": "markdown",
   "metadata": {},
   "source": [
    "To see how this is actually formalized in ACT-R, let's examine the well-known retention data presented in Chapter 7 of **Ebbinghaus, Hermann. 1913. _Memory: A contribution to experimental psychology_. New\n",
    "York: Teachers College, Columbia University**. (http://psychclassics.yorku.ca/Ebbinghaus/index.htm).\n",
    "\n",
    "The stimulus materials used by Ebbinghaus consisted of nonsense CVC syllables, about $2300$ in number.\n",
    "\n",
    "- they were mixed together and then syllables were randomly selected to construct series of different lengths\n",
    "- the method used was 'learning to criterion':\n",
    "    - the subject repeats the material as many times as necessary to reach a prespecified level of accuracy (e.g., one perfect reproduction)\n",
    "- the retention measure was 'savings':\n",
    "    - subtracting the number of repetitions required to relearn material to criterion at a later point from the number of repetitions originally required to learn the material to criterion\n",
    "    - let's say that initially, we need 10 repetitions to learn a series of CVC syllables to criterion\n",
    "    - 1 day later, we need only 7 repetitions to learn that same series to criterion\n",
    "    - the savings are the proportion $\\frac{10-7}{10} = 0.3$ of the original number of repetitions that we 'saved', i.e., we didn't have to do again\n",
    "    - the savings are expressed as percentages, not as proportions; in our example, our savings are $30$ (as in $30\\%$)"
   ]
  },
  {
   "cell_type": "code",
   "execution_count": 1,
   "metadata": {},
   "outputs": [
    {
     "data": {
      "text/html": [
       "<div>\n",
       "<style scoped>\n",
       "    .dataframe tbody tr th:only-of-type {\n",
       "        vertical-align: middle;\n",
       "    }\n",
       "\n",
       "    .dataframe tbody tr th {\n",
       "        vertical-align: top;\n",
       "    }\n",
       "\n",
       "    .dataframe thead th {\n",
       "        text-align: right;\n",
       "    }\n",
       "</style>\n",
       "<table border=\"1\" class=\"dataframe\">\n",
       "  <thead>\n",
       "    <tr style=\"text-align: right;\">\n",
       "      <th></th>\n",
       "      <th>delay_in_hours</th>\n",
       "      <th>percent_savings</th>\n",
       "    </tr>\n",
       "  </thead>\n",
       "  <tbody>\n",
       "    <tr>\n",
       "      <th>0</th>\n",
       "      <td>0.33</td>\n",
       "      <td>58.2</td>\n",
       "    </tr>\n",
       "    <tr>\n",
       "      <th>1</th>\n",
       "      <td>1.00</td>\n",
       "      <td>44.2</td>\n",
       "    </tr>\n",
       "    <tr>\n",
       "      <th>2</th>\n",
       "      <td>8.80</td>\n",
       "      <td>35.8</td>\n",
       "    </tr>\n",
       "    <tr>\n",
       "      <th>3</th>\n",
       "      <td>24.00</td>\n",
       "      <td>33.7</td>\n",
       "    </tr>\n",
       "    <tr>\n",
       "      <th>4</th>\n",
       "      <td>48.00</td>\n",
       "      <td>27.8</td>\n",
       "    </tr>\n",
       "    <tr>\n",
       "      <th>5</th>\n",
       "      <td>144.00</td>\n",
       "      <td>25.4</td>\n",
       "    </tr>\n",
       "    <tr>\n",
       "      <th>6</th>\n",
       "      <td>744.00</td>\n",
       "      <td>21.1</td>\n",
       "    </tr>\n",
       "  </tbody>\n",
       "</table>\n",
       "</div>"
      ],
      "text/plain": [
       "   delay_in_hours  percent_savings\n",
       "0            0.33             58.2\n",
       "1            1.00             44.2\n",
       "2            8.80             35.8\n",
       "3           24.00             33.7\n",
       "4           48.00             27.8\n",
       "5          144.00             25.4\n",
       "6          744.00             21.1"
      ]
     },
     "execution_count": 1,
     "metadata": {},
     "output_type": "execute_result"
    }
   ],
   "source": [
    "# loading the data\n",
    "import pandas as pd\n",
    "\n",
    "url = 'https://github.com/abrsvn/pyactr-book/blob/master/data/ebbinghaus_retention_data.csv?raw=true'\n",
    "ebbinghaus_data = pd.read_csv(url)\n",
    "ebbinghaus_data"
   ]
  },
  {
   "cell_type": "markdown",
   "metadata": {},
   "source": [
    "- there are 7 data points / observations (7 rows, numbered 0 through 6)\n",
    "- the first column in the data is the independent variable (time):\n",
    "    - it records the delay in hours that the relearning of the syllable series took place relative to the initial learning-to-criterion time\n",
    "- the second column is the dependent variable (activation in memory):\n",
    "    - it records the percent savings observed for the corresponding delay in hours, i.e., the (proportional) reduction in repetitions of the target series of syllables needed to relearn it to criterion"
   ]
  },
  {
   "cell_type": "markdown",
   "metadata": {},
   "source": [
    "For completeness, let's take a look at the summary of the Ebbinghaus data:\n",
    "\n",
    "- this gives us the total number of observations (7)\n",
    "- the means for the delay in hours and savings percentages ($138.59$ and $35.17$ respectively)\n",
    "- the standard deviation (a measure of dispersion) etc."
   ]
  },
  {
   "cell_type": "code",
   "execution_count": 2,
   "metadata": {},
   "outputs": [
    {
     "data": {
      "text/html": [
       "<div>\n",
       "<style scoped>\n",
       "    .dataframe tbody tr th:only-of-type {\n",
       "        vertical-align: middle;\n",
       "    }\n",
       "\n",
       "    .dataframe tbody tr th {\n",
       "        vertical-align: top;\n",
       "    }\n",
       "\n",
       "    .dataframe thead th {\n",
       "        text-align: right;\n",
       "    }\n",
       "</style>\n",
       "<table border=\"1\" class=\"dataframe\">\n",
       "  <thead>\n",
       "    <tr style=\"text-align: right;\">\n",
       "      <th></th>\n",
       "      <th>delay_in_hours</th>\n",
       "      <th>percent_savings</th>\n",
       "    </tr>\n",
       "  </thead>\n",
       "  <tbody>\n",
       "    <tr>\n",
       "      <th>count</th>\n",
       "      <td>7.00000</td>\n",
       "      <td>7.000000</td>\n",
       "    </tr>\n",
       "    <tr>\n",
       "      <th>mean</th>\n",
       "      <td>138.59000</td>\n",
       "      <td>35.171429</td>\n",
       "    </tr>\n",
       "    <tr>\n",
       "      <th>std</th>\n",
       "      <td>271.65549</td>\n",
       "      <td>12.663690</td>\n",
       "    </tr>\n",
       "    <tr>\n",
       "      <th>min</th>\n",
       "      <td>0.33000</td>\n",
       "      <td>21.100000</td>\n",
       "    </tr>\n",
       "    <tr>\n",
       "      <th>25%</th>\n",
       "      <td>4.90000</td>\n",
       "      <td>26.600000</td>\n",
       "    </tr>\n",
       "    <tr>\n",
       "      <th>50%</th>\n",
       "      <td>24.00000</td>\n",
       "      <td>33.700000</td>\n",
       "    </tr>\n",
       "    <tr>\n",
       "      <th>75%</th>\n",
       "      <td>96.00000</td>\n",
       "      <td>40.000000</td>\n",
       "    </tr>\n",
       "    <tr>\n",
       "      <th>max</th>\n",
       "      <td>744.00000</td>\n",
       "      <td>58.200000</td>\n",
       "    </tr>\n",
       "  </tbody>\n",
       "</table>\n",
       "</div>"
      ],
      "text/plain": [
       "       delay_in_hours  percent_savings\n",
       "count         7.00000         7.000000\n",
       "mean        138.59000        35.171429\n",
       "std         271.65549        12.663690\n",
       "min           0.33000        21.100000\n",
       "25%           4.90000        26.600000\n",
       "50%          24.00000        33.700000\n",
       "75%          96.00000        40.000000\n",
       "max         744.00000        58.200000"
      ]
     },
     "execution_count": 2,
     "metadata": {},
     "output_type": "execute_result"
    }
   ],
   "source": [
    "ebbinghaus_data.describe()"
   ]
  },
  {
   "cell_type": "markdown",
   "metadata": {},
   "source": [
    "A much better way to develop an intuitive understanding of this data is to plot it. Below, we load the visualization (plotting) libraries ```matplotlib``` and ```seaborn```, and plot the data in 3 different ways."
   ]
  },
  {
   "cell_type": "code",
   "execution_count": 3,
   "metadata": {},
   "outputs": [],
   "source": [
    "import matplotlib as mpl\n",
    "mpl.rcParams['figure.dpi'] = 400\n",
    "import matplotlib.pyplot as plt\n",
    "plt.style.use('seaborn')\n",
    "import seaborn as sns"
   ]
  },
  {
   "cell_type": "code",
   "execution_count": 4,
   "metadata": {
    "scrolled": false
   },
   "outputs": [
    {
     "data": {
      "image/png": "[encoded data removed]",
      "text/plain": [
       "<Figure size 612x669.6 with 3 Axes>"
      ]
     },
     "metadata": {},
     "output_type": "display_data"
    }
   ],
   "source": [
    "fig, (ax1, ax2, ax3) = plt.subplots(ncols=1, nrows=3)\n",
    "fig.set_size_inches(8.5, 9.3)\n",
    "\n",
    "# plot 1\n",
    "ax1.plot(ebbinghaus_data['delay_in_hours'],\n",
    "         ebbinghaus_data['percent_savings'],\n",
    "         marker='o', linestyle='--')\n",
    "ax1.set_title('a. Non-transformed data')\n",
    "ax1.set_xlabel('Delay (hours)')\n",
    "ax1.set_ylabel('Savings (%)')\n",
    "\n",
    "# plot 2\n",
    "ax2.plot(ebbinghaus_data['delay_in_hours'],\n",
    "        ebbinghaus_data['percent_savings'],\n",
    "        marker='o', linestyle='--')\n",
    "ax2.set_title('b. Log performance (log percent savings), base 10')\n",
    "ax2.set_xlabel('Delay (hours)')\n",
    "ax2.set_ylabel('Savings (log %)')\n",
    "ax2.set_yscale('log', base=10)\n",
    "ax2.grid(b=True, which='minor', color='w', linewidth=1.0)\n",
    "\n",
    "# plot 3\n",
    "ax3.plot(ebbinghaus_data['delay_in_hours'],\n",
    "        ebbinghaus_data['percent_savings'],\n",
    "        marker='o', linestyle='--')\n",
    "ax3.set_title('c. Log-log (log delay, log percent savings), base 10')\n",
    "ax3.set_xlabel('Delay (log hours)')\n",
    "ax3.set_xscale('log', base=10)\n",
    "ax3.set_ylabel('Savings (log %)')\n",
    "ax3.set_yscale('log', base=10)\n",
    "ax3.grid(b=True, which='minor', color='w', linewidth=1.0)\n",
    "# clean up\n",
    "plt.tight_layout(pad=0.5, w_pad=0.2, h_pad=0.7)"
   ]
  },
  {
   "cell_type": "markdown",
   "metadata": {},
   "source": [
    "The three panels in the figure above plot the retention data:\n",
    "\n",
    "- in its non-transformed form (panel a)\n",
    "- with a logarithmically compressed $y$ axis (panel b: we plot log percent savings)\n",
    "- with both axes logarithmically compressed (panel c)\n",
    "\n",
    "We see that a linear relation emerges in the final log-log plot, which indicates that forgetting (decay of chunk activation in declarative memory) has a particular functional form -- to which we now turn.\n",
    "\n",
    "- the log tick marks in the plots are in base 10 for readability, although we will always work with the natural logarithm, i.e., log base $e$"
   ]
  },
  {
   "cell_type": "markdown",
   "metadata": {},
   "source": [
    "The forgetting curve in plot (a) is sometimes taken to reflect an underlying negative exponential forgetting function of the form:\n",
    "\n",
    "- $P = \\alpha e^{-\\beta T}$, where:\n",
    "   - $P$ is the memory-related performance measure (percent savings in the Ebbinghaus data),\n",
    "   - $T$ is the time delay since presentation (since initial learning to criterion in our case), and\n",
    "   - $\\alpha, \\beta$ are the free parameters of the model, to be fit to the data."
   ]
  },
  {
   "cell_type": "markdown",
   "metadata": {},
   "source": [
    "But this predicts that performance should be a linear function of time if we log-transform the performance $P$:\n",
    "\n",
    "- $\\log(P) = \\log(\\alpha) - \\beta T$, i.e., a linear function of time $T$ with intercept $\\log(\\alpha)$ and negative slope $-\\beta$"
   ]
  },
  {
   "cell_type": "markdown",
   "metadata": {},
   "source": [
    "One way to intuitively think about logarithmic transformation / logarithmic compression is to think about a series of evenly / linearly spaced trees that you can see on the side of a long straight road as you look up the road:\n",
    "\n",
    "- the distances between the trees appear smaller and smaller as the trees are further and further away, until the trees basically become one tree as the gaze approaches the horizon\n",
    "\n",
    "This is shown in the figure below:\n",
    "\n",
    "![Log transformation in visual perception](./figures/avenue_modified.jpg)\n",
    "\n",
    "(Source: [pixabay](https://pixabay.com/en/avenue-tree-trees-away-road-196335/), retrieved April 10, 2017)"
   ]
  },
  {
   "cell_type": "markdown",
   "metadata": {},
   "source": [
    "- the further away two trees are from us, the distance between them appears smaller and smaller\n",
    "- similarly, the larger the numbers are, the difference between the numbers is compressed further and further: the difference between $4$ and $2$ is compressed much less than the difference between $14$ and $12$ under the log transform\n",
    "    - equivalently, the larger a number is, the higher its compression under the log transform\n",
    "    - this is shown on lines 3-4 below, as well as in the plot of the log transform (for $x\\geq 1$) below"
   ]
  },
  {
   "cell_type": "code",
   "execution_count": 5,
   "metadata": {},
   "outputs": [
    {
     "data": {
      "text/plain": [
       "0.15415067982725805"
      ]
     },
     "execution_count": 5,
     "metadata": {},
     "output_type": "execute_result"
    }
   ],
   "source": [
    "import numpy as np\n",
    "\n",
    "np.log(4) - np.log(2)\n",
    "np.log(14) - np.log(12)"
   ]
  },
  {
   "cell_type": "code",
   "execution_count": 6,
   "metadata": {},
   "outputs": [
    {
     "data": {
      "image/png": "[encoded data removed]",
      "text/plain": [
       "<Figure size 396x216 with 1 Axes>"
      ]
     },
     "metadata": {},
     "output_type": "display_data"
    }
   ],
   "source": [
    "fig, ax = plt.subplots(ncols=1, nrows=1)\n",
    "fig.set_size_inches(5.5, 3)\n",
    "x = np.arange(1, 15, 0.01)\n",
    "ax.plot(x, np.log(x), linestyle='-')\n",
    "#ax.set_xlim(left=1)\n",
    "ax.set_xlabel(r'$x$')\n",
    "ax.set_ylabel(r'$\\log(x)$')\n",
    "plt.tight_layout(pad=0.5, w_pad=0.2, h_pad=0.7)"
   ]
  },
  {
   "cell_type": "markdown",
   "metadata": {},
   "source": [
    "Whenever we use logarithm _simpliciter_ without explicitly specifying the base, we always mean the natural logarithm function, i.e., log base $e$.\n",
    "\n",
    "- we will therefore abbreviate the natural logarithm of a number $x$ simply as $\\log(x)$ or, dropping parentheses, $\\log x$ (rather than $\\mbox{ln}\\,x$ or $\\log_{e} x$)"
   ]
  },
  {
   "cell_type": "code",
   "execution_count": null,
   "metadata": {},
   "outputs": [],
   "source": []
  }
 ],
 "metadata": {
  "jupytext": {
   "cell_metadata_filter": "-all"
  },
  "kernelspec": {
   "display_name": "Python 3",
   "language": "python",
   "name": "python3"
  },
  "language_info": {
   "codemirror_mode": {
    "name": "ipython",
    "version": 3
   },
   "file_extension": ".py",
   "mimetype": "text/x-python",
   "name": "python",
   "nbconvert_exporter": "python",
   "pygments_lexer": "ipython3",
   "version": "3.8.5"
  },
  "toc": {
   "base_numbering": 1,
   "nav_menu": {},
   "number_sections": true,
   "sideBar": true,
   "skip_h1_title": false,
   "title_cell": "Table of Contents",
   "title_sidebar": "Contents",
   "toc_cell": false,
   "toc_position": {},
   "toc_section_display": true,
   "toc_window_display": false
  }
 },
 "nbformat": 4,
 "nbformat_minor": 4
}
