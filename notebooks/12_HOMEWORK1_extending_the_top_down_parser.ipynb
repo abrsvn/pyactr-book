{
 "cells": [
  {
   "cell_type": "markdown",
   "metadata": {},
   "source": [
    "[![Open In Colab](./images/colab-badge.png)](https://colab.research.google.com/github/abrsvn/pyactr-book/blob/master/notebooks/12_HOMEWORK1_extending_the_top_down_parser.ipynb)"
   ]
  },
  {
   "cell_type": "markdown",
   "metadata": {},
   "source": [
    "## Homework 1: extending the grammar and the top-down parser\n",
    "\n",
    "Consider extending our grammar and the top-down parser with intransitive verbs like _sleeps_, as well as sentential-complement taking verbs like _believe_.  That is, add the following phrase-structure and lexical-insertion rules to the grammar:\n",
    "\n",
    "$$\\begin{array}[t]{lcl}\n",
    "        \\mbox{VP}&\\rightarrow&\\mbox{V}\\\\\n",
    "        \\mbox{VP}&\\rightarrow&\\mbox{V } \\mbox{CP}\\\\\n",
    "        \\mbox{CP}&\\rightarrow&\\mbox{C } \\mbox{S}\\\\\n",
    "        \\mbox{V}&\\rightarrow&\\mbox{sleeps}\\\\\n",
    "        \\mbox{V}&\\rightarrow&\\mbox{believes}\\\\\n",
    "        \\mbox{C}&\\rightarrow&\\mbox{that}\n",
    "\\end{array}$$\n",
    "\n",
    "Add the new lexical items to declarative memory and add new production rules to procedural memory to encode the new phrase-structure rules.\n",
    "\n",
    "Once your model is in place, parse the sentence _Mary believes that Bill sleeps_.\n",
    "\n",
    "You can probably already see that the new parser might run into problems.\n",
    "\n",
    "For example, the parser might get stuck when parsing the target sentence _Mary believes that Bill sleeps_ if it decides to\n",
    "\n",
    "- expand the first (matrix-clause) VP into V and NP, i.e., if it incorrectly expects a transitive verb instead of a sentential-complement taking verb\n",
    "- or expand that same VP into just V, i.e., if it incorrectly expects an intransitive verb.\n",
    "\n",
    "As already discussed, this is a typical issue with top-down parsing: categories and structures are hypothesized / predicted before seeing any evidence for them.\n",
    "\n",
    "The extended top-down parser has several ways to expand VPs and it fails to parse the input if it uses a VP expansion rule that happens to be incompatible with the sentence to be parsed."
   ]
  },
  {
   "cell_type": "markdown",
   "metadata": {},
   "source": [
    "## Important hints"
   ]
  },
  {
   "cell_type": "markdown",
   "metadata": {},
   "source": [
    "To enable random rule selection so that we can see how the top-down parser runs into problems, we have to enable the subsymbolic component of ACT-R/`pyactr`. We will discuss this subsymbolic component later on, for now, just initialize your parser as shown below, and make sure you run the simulation for at least 2 seconds:"
   ]
  },
  {
   "cell_type": "code",
   "execution_count": null,
   "metadata": {},
   "outputs": [],
   "source": [
    "import pyactr as actr\n",
    "\n",
    "actr.chunktype(\"parsing_goal\", \"stack_top stack_bottom parsed_word task\")\n",
    "actr.chunktype(\"sentence\", \"word1 word2 word3 word4 word5\")\n",
    "actr.chunktype(\"word\", \"form, cat\")"
   ]
  },
  {
   "cell_type": "code",
   "execution_count": null,
   "metadata": {},
   "outputs": [],
   "source": [
    "parser = actr.ACTRModel(subsymbolic=True, utility_noise=0.1, retrieval_threshold=-10, decay=0.001)\n",
    "\n",
    "dm = parser.decmem\n",
    "g = parser.goal\n",
    "\n",
    "imaginal = parser.set_goal(name=\"imaginal\", delay=0.2)"
   ]
  },
  {
   "cell_type": "markdown",
   "metadata": {},
   "source": [
    "- now add:\n",
    "    - the necessary word chunks to declarative memory\n",
    "    - the necessary production rules to declarative memory\n",
    "    - the correct starting chunk to the goal buffer\n",
    "    - the correct starting chunk (that is, sentence) to the imaginal buffer\n",
    "- when you're done, run the simulation as shown below"
   ]
  },
  {
   "cell_type": "code",
   "execution_count": null,
   "metadata": {},
   "outputs": [],
   "source": [
    "parsing = parser.simulation()\n",
    "parsing.run(2)"
   ]
  },
  {
   "cell_type": "code",
   "execution_count": null,
   "metadata": {},
   "outputs": [],
   "source": []
  }
 ],
 "metadata": {
  "jupytext": {
   "cell_metadata_filter": "-all"
  },
  "kernelspec": {
   "display_name": "Python 3",
   "language": "python",
   "name": "python3"
  },
  "language_info": {
   "codemirror_mode": {
    "name": "ipython",
    "version": 3
   },
   "file_extension": ".py",
   "mimetype": "text/x-python",
   "name": "python",
   "nbconvert_exporter": "python",
   "pygments_lexer": "ipython3",
   "version": "3.8.5"
  },
  "toc": {
   "base_numbering": 1,
   "nav_menu": {},
   "number_sections": true,
   "sideBar": true,
   "skip_h1_title": false,
   "title_cell": "Table of Contents",
   "title_sidebar": "Contents",
   "toc_cell": false,
   "toc_position": {},
   "toc_section_display": true,
   "toc_window_display": false
  }
 },
 "nbformat": 4,
 "nbformat_minor": 4
}
