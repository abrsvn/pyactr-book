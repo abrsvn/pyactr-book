{
 "cells": [
  {
   "cell_type": "markdown",
   "metadata": {},
   "source": [
    "[![Open In Colab](https://colab.research.google.com/assets/colab-badge.svg)](https://colab.research.google.com/github/abrsvn/pyactr-book/blob/master/notebooks/0a_intro_to_jupyter.ipynb)"
   ]
  },
  {
   "cell_type": "markdown",
   "metadata": {},
   "source": [
    "# Intro to Jupyter notebooks"
   ]
  },
  {
   "cell_type": "markdown",
   "metadata": {},
   "source": [
    "**Sources**\n",
    "\n",
    "- This notebook is closely based on a notebook by [Todd M. Gureckis](http://gureckislab.org/~gureckis) introducing jupyter notebooks for psychology undergrads.\n",
    "- Several of the sections on how to use the Jupyter Interface were developed and shared by <a href=\"http://www.jesshamrick.com\">Jessica Hamrick</a> as part of a course developed at UC Berkeley.\n",
    "- The sections on Markdown also include materials based on <a href=\"https://www.datasciencecentral.com/profiles/blogs/all-about-using-jupyter-notebooks-and-google-colab\">this blog post</a>"
   ]
  },
  {
   "cell_type": "markdown",
   "metadata": {},
   "source": [
    "The \"notebook\" interface is an approach to a programming, data analysis, computational modeling etc. that combines code with text, images, and other multimedia in the same document.\n",
    "\n",
    "- The idea for computational notebooks has been around for a long time (e.g., [Mathematica](https://www.wolfram.com/mathematica/) is a commercial product that has long provided a notebook interface for data analysis and programming).\n",
    "\n",
    "However, Jupyter is now one of the leading tools that scientists, including computational (psycho)linguists and cognitive scientists, use to write code, analyze their data, model the results.\n",
    "\n",
    "Reasons for Jupyter's popularity:\n",
    "\n",
    "1. Jupyter is open source ('free as in speech') and free ('free as in beer'), just like Python\n",
    "    - it is not owned by any one person or company\n",
    "    - scientists and other programmers devote their time to improving Jupyter\n",
    "    - the code is readable by anyone, which means it is easier to catch bugs\n",
    "    - there is a large, thriving user base, so it's reliable\n",
    "2. Jupyter works with several different programming languages including R, Python, Matlab and others\n",
    "3. Jupyter runs in a standard web browser. \n",
    "4. Jupyter has many extensions that provide interactive widgets, animations, beautiful graphics, etc.\n",
    "5. Companies use Jupyter internally, and are looking to hire people with this skill.\n",
    "\n",
    "**Pretty much every lecture of this Advanced Psycholinguistics (Ling 158) course will be a jupyter notebook.**"
   ]
  },
  {
   "cell_type": "markdown",
   "metadata": {},
   "source": [
    "## The \"notebook\" and \"kernel\" concepts"
   ]
  },
  {
   "cell_type": "markdown",
   "metadata": {},
   "source": [
    "A Jupyter **computational notebook** is a document-based approach to structuring programming, modeling, data analysis etc. It is a form of [literate programming](https://en.wikipedia.org/wiki/Literate_programming).\n",
    "\n",
    "We will use the \"classic\" Jupyter Notebook interface, which consists of a single document that you interact with similar to the way you would interact with a word processor.\n",
    "\n",
    "- There is a newer interface called [JupyterLab](https://blog.jupyter.org/jupyterlab-is-ready-for-users-5a6f039b8906) which looks more like RStudio's or Matlab's interface allowing multiple windows and views of the running code.\n",
    "- We use the traditional interface here because it's simple and faciliates reading along."
   ]
  },
  {
   "cell_type": "markdown",
   "metadata": {},
   "source": [
    "A computational notebook is made up of a set of elements called **cells** that group little bits of information together. There are two main kinds of cells:\n",
    "\n",
    "- text cells, specifically, Markdown cells; we'll come back to Markdown\n",
    "- code cells, in our case, Python code cells"
   ]
  },
  {
   "cell_type": "markdown",
   "metadata": {},
   "source": [
    "The file extension of a notebook document has the `.ipynb` file extension.\n",
    "\n",
    "- `.ipynb` for 'IPython Notebook', the original version of Jupyter notebooks developed as a particular kind of interface for [IPython](https://en.wikipedia.org/wiki/IPython)"
   ]
  },
  {
   "cell_type": "markdown",
   "metadata": {},
   "source": [
    "A notebook is a list of cells arranged from the top of the document to the bottom. \n",
    "\n",
    "- cells can contain several types of information, including code, text, images and so forth.\n",
    "\n",
    "You develop your project by creating new cells, entering information, reordering cells, and saving the results."
   ]
  },
  {
   "cell_type": "markdown",
   "metadata": {},
   "source": [
    "The key element which makes a notebook \"computational\" is that it can be linked to a computing engine known as a \"kernel\", which can run on the same computer or another computer using the Internet.\n",
    "\n",
    "- The kernel is separate from the notebook and can be stopped and started independently from the program displaying the notebook itself\n",
    "- The magic happens when a code cell is \"executed\"\n",
    "    - you can also \"execute\" a text cell, which just renders the text from Markdown annotation to something easily readable by a human \n",
    "- When the code from the cell is executed, it is sent to the computational kernel, which runs the sequence of commands contained within the cell\n",
    "- The results of running the code, e.g., figures, printed messages, etc., are captured and sent back to the notebook from the kernel, where there will be inserted beneath the cell which was just executed"
   ]
  },
  {
   "cell_type": "markdown",
   "metadata": {},
   "source": [
    "**Example** text _cell_."
   ]
  },
  {
   "cell_type": "code",
   "execution_count": 1,
   "metadata": {},
   "outputs": [
    {
     "data": {
      "text/plain": [
       "4"
      ]
     },
     "execution_count": 1,
     "metadata": {},
     "output_type": "execute_result"
    }
   ],
   "source": [
    "# example code cell\n",
    "2 + 2"
   ]
  },
  {
   "cell_type": "markdown",
   "metadata": {},
   "source": [
    "## The Notebook State and Kernel State are not the Same"
   ]
  },
  {
   "cell_type": "markdown",
   "metadata": {},
   "source": [
    "The notebook is simply a way to organize information and the order of information in a notebook might be different from the order in which code has been executed on the kernel.\n",
    "\n",
    "For example, I can execute a code cell at the end of the document first, and then go back to the beginning of the document and run a cell there. This happens often when you develop your project.\n",
    "\n",
    "Thus, the order of the cells in the notebook document is really just for presentation, and it is up to you to \"run/execute\" the cells in whatever order you want.\n",
    "\n",
    "- for example, if you delete a cell after running it, it doesn't appear in the notebook anymore but its code has not been \"undone\" on the kernel\n",
    "- the kernel doesn't know anything about any edits you make to the notebook interface; all it does is receive code when you send it via the \"execute cell\" command, runs the code, sends back the outputs, and then it waits\n",
    "\n",
    "This can mean that the current state of the kernel can be different from what your cells or notebook look like, and the outputs captured in the notebook might be obsolete.\n",
    "\n",
    "If things get out of control, you can simply restart the kernel, which will erase its current state and set it back to a fresh start. You then need to re-execute all of the cells in your notebook to get back to where you were.\n",
    "\n",
    "This is like telling your friend how to cook a meal over the phone. You have the instructions in front of you (your notebook) and you tell your friend (the kernel) what to do. If you read the instructions out of order, your friend can't tell the difference. They just know -- and follow -- the steps in the order in which you communicated them.\n",
    "\n",
    "**For your final project, please make sure the notebook runs correctly in the linear order of the cells from top to bottom on a fresh (restarted) kernel.** You ensure this by selecting **Restart & Run All** from the **Kernel** menu above, and then carefully checking all the outputs from beginning to end.\n",
    "\n",
    "You **must** do this before submitting your homeworks or your final project for the class"
   ]
  },
  {
   "cell_type": "markdown",
   "metadata": {},
   "source": [
    "## Overview of the Jupyter Notebook"
   ]
  },
  {
   "cell_type": "markdown",
   "metadata": {},
   "source": [
    "We will now go over the basics of the Jupyter interface. Make sure you open this notebook on Google Colab (or on a local installation of Jupyter and Python3) and execute cells, experiment etc. after the class meeting is over."
   ]
  },
  {
   "cell_type": "markdown",
   "metadata": {},
   "source": [
    "Recall notebooks are made up of a series of *cells*, and the two main types of cells are text cells, like this one, or code cells, like the one below.\n",
    "\n",
    "- there are 2 other types of cell, but we don't need to talk about them "
   ]
  },
  {
   "cell_type": "code",
   "execution_count": 5,
   "metadata": {},
   "outputs": [
    {
     "name": "stdout",
     "output_type": "stream",
     "text": [
      "Hello world!\n",
      "This is a\tcode\tcell.\n"
     ]
    }
   ],
   "source": [
    "print(\"Hello world!\\nThis is a\\tcode\\tcell.\")"
   ]
  },
  {
   "cell_type": "markdown",
   "metadata": {},
   "source": [
    "You can tell what the type of a cell is by selecting the cell, and looking at the toolbar at the top of the page. For example, try clicking on this cell. You should see the cell type menu displaying \"Markdown\", like this:\n",
    "![](./images/cell-type-menu.png)"
   ]
  },
  {
   "cell_type": "markdown",
   "metadata": {},
   "source": [
    "## Command mode and edit mode"
   ]
  },
  {
   "cell_type": "markdown",
   "metadata": {},
   "source": [
    "When you interact with the notebook, there are two modes:\n",
    "\n",
    "- **edit mode**\n",
    "- **command mode**\n",
    "\n",
    "By default, the notebook starts in *command mode*. To edit a cell, you need to be in *edit mode*."
   ]
  },
  {
   "cell_type": "markdown",
   "metadata": {},
   "source": [
    "**When you are in command mode**, you can press **enter** to switch to edit mode.\n",
    "\n",
    "- The outline of the cell you currently have selected will turn green, and a cursor will appear."
   ]
  },
  {
   "cell_type": "markdown",
   "metadata": {},
   "source": [
    "**When you are in edit mode**, you can press **escape** to switch to command mode.\n",
    "\n",
    "- The outline of the cell you currently have selected will turn blue (by default), and the cursor will disappear."
   ]
  },
  {
   "cell_type": "markdown",
   "metadata": {},
   "source": [
    "### Markdown cells\n",
    "\n",
    "For example, a markdown cell might look like this in **command mode** (Note: the following few cells are not actually cells -- they are images and just look like cells! This is for demonstration purposes only.)\n",
    "![](./images/command-mode-markdown-rendered.png)"
   ]
  },
  {
   "cell_type": "markdown",
   "metadata": {},
   "source": [
    "Then, when you press enter, it will change to **edit mode**:\n",
    "![](./images/edit-mode-markdown.png)"
   ]
  },
  {
   "cell_type": "markdown",
   "metadata": {},
   "source": [
    "Now, when we press escape, it will change back to **command mode**:\n",
    "![](./images/command-mode-markdown-unrendered.png)"
   ]
  },
  {
   "cell_type": "markdown",
   "metadata": {},
   "source": [
    "However, you'll notice that the cell no longer looks like it did originally. This is because IPython will only *render* the markdown when you tell it to. To do this, we need to \"run\" the cell by pressing **`Ctrl-Enter`**, and then it will go back to looking like it did originally:\n",
    "![](./images/command-mode-markdown-rendered.png)"
   ]
  },
  {
   "cell_type": "markdown",
   "metadata": {},
   "source": [
    "You will use Markdown cells to give answers to homework questions, and for your final project/paper for this class, so let's learn a little bit of the Markdown syntax."
   ]
  },
  {
   "cell_type": "markdown",
   "metadata": {},
   "source": [
    "#### Italics and boldface"
   ]
  },
  {
   "cell_type": "markdown",
   "metadata": {},
   "source": [
    "Set a new cell to Markdown and then add the following text to the cell:\n",
    "![](./images/italics.png)"
   ]
  },
  {
   "cell_type": "markdown",
   "metadata": {},
   "source": [
    "When you run the cell, the output should look like this:\n",
    "![](./images/italics2.png)"
   ]
  },
  {
   "cell_type": "markdown",
   "metadata": {},
   "source": [
    "If you would prefer to bold your text, use a double underscore or double asterisk."
   ]
  },
  {
   "cell_type": "markdown",
   "metadata": {},
   "source": [
    "#### Headers\n",
    "\n",
    "Creating headers in Markdown is also quite simple. You just have to use the humble pound sign.\n",
    "The more pound signs you use, the smaller the header. Jupyter Notebook even kind of previews it for you:\n",
    "\n",
    "![](./images/headers.png)"
   ]
  },
  {
   "cell_type": "markdown",
   "metadata": {},
   "source": [
    "Then when you run the cell, you will end up with a nicely formatted header:\n",
    "![](./images/headers2.png)"
   ]
  },
  {
   "cell_type": "markdown",
   "metadata": {},
   "source": [
    "#### Creating Lists\n",
    "\n",
    "You can create a list (bullet points) by using dashes, plus signs, or asterisks. Here is an example:\n",
    "![](./images/lists.png)"
   ]
  },
  {
   "cell_type": "markdown",
   "metadata": {},
   "source": [
    "#### Code and Syntax Highlighting\n",
    "\n",
    "If you want to insert a code example that you don’t want your end user to actually run, you can use Markdown to insert it. For inline code highlighting, just surround the code with backticks. If you want to insert a block of code, you can use triple backticks and also specify the programming language:\n",
    "![](./images/code_in_markdown.png)"
   ]
  },
  {
   "cell_type": "markdown",
   "metadata": {},
   "source": [
    "### Code cells\n",
    "\n",
    "For code cells, it is pretty much the same thing. This is what a code cell looks like in command mode (again, the next few cells LOOK like cells, but are just images):\n",
    "\n",
    "- A code cell in command mode\n",
    "![](./images/command-mode-outline.png)"
   ]
  },
  {
   "cell_type": "markdown",
   "metadata": {},
   "source": [
    "- If we press enter, it will change to **edit mode**:\n",
    "![](./images/edit-mode-outline.png)"
   ]
  },
  {
   "cell_type": "markdown",
   "metadata": {},
   "source": [
    "- Pressing escape will make the cell go back to **command mode**:\n",
    "![](./images/command-mode-outline.png)"
   ]
  },
  {
   "cell_type": "markdown",
   "metadata": {},
   "source": [
    "- If we were to press **`Ctrl-Enter`** like we did for the markdown cell, this would actually *run* the code in the code cell:\n",
    "![](./images/code-cell-run.png)"
   ]
  },
  {
   "cell_type": "markdown",
   "metadata": {},
   "source": [
    "## Executing cells"
   ]
  },
  {
   "cell_type": "markdown",
   "metadata": {},
   "source": [
    "Code cells can contain any valid Python code in them. When you run the cell, the code is executed and the outputs (if any) are displayed."
   ]
  },
  {
   "cell_type": "markdown",
   "metadata": {},
   "source": [
    "- You can execute cells with **`Ctrl-Enter`**, which will keep the cell selected\n",
    "- You can also execute cells with **`Shift-Enter`**, which will select the next cell"
   ]
  },
  {
   "cell_type": "markdown",
   "metadata": {},
   "source": [
    "Try running the following cell and see what it prints out:"
   ]
  },
  {
   "cell_type": "code",
   "execution_count": 6,
   "metadata": {},
   "outputs": [
    {
     "name": "stdout",
     "output_type": "stream",
     "text": [
      "Printing cumulative sum from 1-10:\n",
      "Sum of 1 to 1 is: 1\n",
      "Sum of 1 to 2 is: 3\n",
      "Sum of 1 to 3 is: 6\n",
      "Sum of 1 to 4 is: 10\n",
      "Sum of 1 to 5 is: 15\n",
      "Sum of 1 to 6 is: 21\n",
      "Sum of 1 to 7 is: 28\n",
      "Sum of 1 to 8 is: 36\n",
      "Sum of 1 to 9 is: 45\n",
      "Sum of 1 to 10 is: 55\n",
      "Done printing numbers.\n"
     ]
    }
   ],
   "source": [
    "print(\"Printing cumulative sum from 1-10:\")\n",
    "total = 0\n",
    "for i in range(1, 11):\n",
    "    total += i\n",
    "    print(\"Sum of 1 to \" + str(i) + \" is: \" + str(total))\n",
    "print(\"Done printing numbers.\")"
   ]
  },
  {
   "cell_type": "markdown",
   "metadata": {},
   "source": [
    "You'll notice that the output beneath the cell corresponds to the `print` statements in the code."
   ]
  },
  {
   "cell_type": "markdown",
   "metadata": {},
   "source": [
    "Here is another example, which only prints out the final sum:"
   ]
  },
  {
   "cell_type": "code",
   "execution_count": 12,
   "metadata": {},
   "outputs": [
    {
     "name": "stdout",
     "output_type": "stream",
     "text": [
      "The total is: 55\n"
     ]
    }
   ],
   "source": [
    "total = 0\n",
    "for i in range(1, 11):\n",
    "    total += i\n",
    "print(f'The total is: {total}')"
   ]
  },
  {
   "cell_type": "markdown",
   "metadata": {},
   "source": [
    "Another way to print something out is to have that thing be the last line in the cell. For example, we could rewrite our example above to be:"
   ]
  },
  {
   "cell_type": "code",
   "execution_count": 8,
   "metadata": {},
   "outputs": [
    {
     "data": {
      "text/plain": [
       "55"
      ]
     },
     "execution_count": 8,
     "metadata": {},
     "output_type": "execute_result"
    }
   ],
   "source": [
    "total = 0\n",
    "for i in range(1, 11):\n",
    "    total += i\n",
    "total"
   ]
  },
  {
   "cell_type": "markdown",
   "metadata": {},
   "source": [
    "If you want to suppress the automatic printing of the output (if any) resulting from the last line of code in the cell, add a semicolon after it:"
   ]
  },
  {
   "cell_type": "code",
   "execution_count": 14,
   "metadata": {},
   "outputs": [],
   "source": [
    "total = 0\n",
    "for i in range(1, 11):\n",
    "    total += i\n",
    "total;"
   ]
  },
  {
   "cell_type": "markdown",
   "metadata": {},
   "source": [
    "Note that only the output (if any) of the last line is automatically displayed. For example, if we wanted to print the total sum and then a message after that, the code below will not do what we want:"
   ]
  },
  {
   "cell_type": "code",
   "execution_count": 9,
   "metadata": {},
   "outputs": [
    {
     "name": "stdout",
     "output_type": "stream",
     "text": [
      "Done computing total.\n"
     ]
    }
   ],
   "source": [
    "total = 0\n",
    "for i in range(1, 11):\n",
    "    total += i\n",
    "total\n",
    "print(\"Done computing total.\")"
   ]
  },
  {
   "cell_type": "markdown",
   "metadata": {},
   "source": [
    "If you want to print the total, you have to insert an explicit `print` command:"
   ]
  },
  {
   "cell_type": "code",
   "execution_count": 11,
   "metadata": {},
   "outputs": [
    {
     "name": "stdout",
     "output_type": "stream",
     "text": [
      "55\n",
      "Done computing total.\n"
     ]
    }
   ],
   "source": [
    "total = 0\n",
    "for i in range(1, 11):\n",
    "    total += i\n",
    "print(total)\n",
    "print(\"Done computing total.\")"
   ]
  },
  {
   "cell_type": "markdown",
   "metadata": {},
   "source": [
    "If you are accustomed to Python2, note that the parentheses are obligatory for the `print` function in Python3."
   ]
  },
  {
   "cell_type": "markdown",
   "metadata": {},
   "source": [
    "## The IPython kernel"
   ]
  },
  {
   "cell_type": "markdown",
   "metadata": {},
   "source": [
    "When you first start a notebook, you are also starting its associated Python3 *kernel*.\n",
    "\n",
    "- Technically speaking, it is not a stock Python3 kernel, it is an [IPython](https://en.wikipedia.org/wiki/IPython) kernel, which is an enhanced Python kernel with facilities for interactive scientific computing.  \n",
    "\n",
    "Whenever you run a code cell, you are telling the kernel to execute the code that is in the cell, and send back to the notebook the output (if any)."
   ]
  },
  {
   "cell_type": "markdown",
   "metadata": {},
   "source": [
    "Just like if you were typing code at the Python interpreter, you need to make sure your variables are declared before you can use them. What will happen when you run the following cell? Try it and see:"
   ]
  },
  {
   "cell_type": "code",
   "execution_count": 15,
   "metadata": {},
   "outputs": [
    {
     "ename": "NameError",
     "evalue": "name 'a' is not defined",
     "output_type": "error",
     "traceback": [
      "\u001b[0;31m---------------------------------------------------------------------------\u001b[0m",
      "\u001b[0;31mNameError\u001b[0m                                 Traceback (most recent call last)",
      "\u001b[0;32m<ipython-input-15-3f786850e387>\u001b[0m in \u001b[0;36m<module>\u001b[0;34m\u001b[0m\n\u001b[0;32m----> 1\u001b[0;31m \u001b[0ma\u001b[0m\u001b[0;34m\u001b[0m\u001b[0;34m\u001b[0m\u001b[0m\n\u001b[0m",
      "\u001b[0;31mNameError\u001b[0m: name 'a' is not defined"
     ]
    }
   ],
   "source": [
    "a"
   ]
  },
  {
   "cell_type": "markdown",
   "metadata": {},
   "source": [
    "The issue is that the variable `a` does not exist. Modify the cell above so that `a` is declared first:\n",
    "\n",
    "- for example, you could set the value of `a` to 42 like so: `a = 42`; insert this line of code before you ask what the value of `a` is"
   ]
  },
  {
   "cell_type": "markdown",
   "metadata": {},
   "source": [
    "Once you have modified the above cell, you should be able to run the following cell (if you haven't modified the above cell, you'll get the same error!):"
   ]
  },
  {
   "cell_type": "code",
   "execution_count": 17,
   "metadata": {},
   "outputs": [
    {
     "name": "stdout",
     "output_type": "stream",
     "text": [
      "The value of 'a' is: 42\n"
     ]
    }
   ],
   "source": [
    "print(\"The value of 'a' is: \" + str(a))"
   ]
  },
  {
   "cell_type": "markdown",
   "metadata": {},
   "source": [
    "Running the above cell should work, because `a` has now been declared. To see what variables have been declared, you can use the `%whos` command:"
   ]
  },
  {
   "cell_type": "code",
   "execution_count": 18,
   "metadata": {},
   "outputs": [
    {
     "name": "stdout",
     "output_type": "stream",
     "text": [
      "Variable        Type        Data/Info\n",
      "-------------------------------------\n",
      "a               int         42\n",
      "i               int         10\n",
      "json            module      <module 'json' from '/usr<...>hon3.8/json/__init__.py'>\n",
      "total           int         55\n",
      "yapf_reformat   function    <function yapf_reformat at 0x7f1868192040>\n"
     ]
    }
   ],
   "source": [
    "%whos"
   ]
  },
  {
   "cell_type": "markdown",
   "metadata": {},
   "source": [
    "If you ran the summing examples from the previous section, you'll notice that `total` and `i` are listed under the `%whos` command. That is because when we ran the code for those examples, they also modified the kernel state."
   ]
  },
  {
   "cell_type": "markdown",
   "metadata": {},
   "source": [
    "Note that commands beginning with a percent (%) or double percent (%%) are special IPython commands called *magics*. They will **only** work in IPython.\n",
    "\n",
    "Similarly, commands starting with an exclamation mark (!) are commands that can be run on the background operating system (in the system shell/terminal), and they will only work in IPython."
   ]
  },
  {
   "cell_type": "markdown",
   "metadata": {},
   "source": [
    "### Restarting the kernel"
   ]
  },
  {
   "cell_type": "markdown",
   "metadata": {},
   "source": [
    "It is generally a good idea to periodically restart the kernel and start fresh, because you may be using some variables that you declared at some point, but at a later point deleted or updated that declaration. "
   ]
  },
  {
   "cell_type": "markdown",
   "metadata": {},
   "source": [
    "**Your code should ALWAYS be able to work if you run every cell in the notebook, in order, starting from a new kernel.**\n",
    "\n",
    "Again, you can check this in one go by selecting **Restart & Run All** from the **Kernel** menu above. Alternatively, you can first restart the kernel by clicking the restart button:\n",
    "![](./images/restart-kernel-button.png)"
   ]
  },
  {
   "cell_type": "markdown",
   "metadata": {},
   "source": [
    "Then, run all cells in the notebook in order by choosing **Cell$\\rightarrow$Run All** from the menu above."
   ]
  },
  {
   "cell_type": "markdown",
   "metadata": {},
   "source": [
    "There are many keyboard shortcuts for the notebook. To see a full list of these, go to **Help$\\rightarrow$Keyboard Shortcuts**."
   ]
  },
  {
   "cell_type": "markdown",
   "metadata": {},
   "source": [
    "To take the IPython Notebook user interface tour, go to **Help$\\rightarrow$User Interface Tour**."
   ]
  },
  {
   "cell_type": "markdown",
   "metadata": {},
   "source": [
    "Importantly, **Google Colab notebooks are not 'classic' Jupyter notebooks**. They provide most of the same facilities, but:\n",
    "\n",
    "- the keyboard shortcuts might be different\n",
    "- some facilities might be missing\n",
    "- some parts of the interface might be different, e.g., the colors for Command/Edit modes, the way code cells in Command/Edit mode are displayed, etc.\n",
    "\n",
    "\n",
    "But these are minor differences. Most of the time, you can save a Colab notebook as a Jupyter (`.ipynb`) notebook and run it on a different Jupyter & Python installation without issues, and vice-versa."
   ]
  },
  {
   "cell_type": "markdown",
   "metadata": {},
   "source": [
    "And if you run into problems -- related to Jupyter, Colab, or Python/Ipython -- the web is your friend. A little effort searching around will probably give you a quick solution -- or let you know there isn't one, so you can move on (or solve the problem yourself for everyone's benefit)."
   ]
  },
  {
   "cell_type": "markdown",
   "metadata": {},
   "source": [
    "## Markdown cheatsheet"
   ]
  },
  {
   "cell_type": "markdown",
   "metadata": {},
   "source": [
    "Here's a Markdown reference website: [https://help.github.com/articles/markdown-basics](https://help.github.com/articles/markdown-basics)\n",
    "\n",
    "Recall:\n",
    "\n",
    "- after editing the Markdown, you will need to run the cell so that the formatting appears.\n",
    "- try selecting *this* cell so you can see what the Markdown looks like when you're editing it\n",
    "- remember to run the cell again to see what it looks like when it is formatted."
   ]
  },
  {
   "cell_type": "markdown",
   "metadata": {},
   "source": [
    "## Additional Resources\n",
    "\n",
    "- [What is Jupyter Notebook? (youtube)](https://www.youtube.com/watch?v=q_BzsPxwLOE)\n",
    "- [Jupyter Notebook: An Introduction (Mike Driscoll, RealPython.com)](https://realpython.com/jupyter-notebook-introduction/)\n",
    "- [Project Jupyter homepage](https://jupyter.org)\n",
    "- [List of other programming languages/kernels you can use with Jupyter](https://github.com/jupyter/jupyter/wiki/Jupyter-kernels)\n"
   ]
  },
  {
   "cell_type": "code",
   "execution_count": null,
   "metadata": {},
   "outputs": [],
   "source": []
  }
 ],
 "metadata": {
  "kernel_info": {
   "name": "python3"
  },
  "kernelspec": {
   "display_name": "Python 3",
   "language": "python",
   "name": "python3"
  },
  "language_info": {
   "codemirror_mode": {
    "name": "ipython",
    "version": 3
   },
   "file_extension": ".py",
   "mimetype": "text/x-python",
   "name": "python",
   "nbconvert_exporter": "python",
   "pygments_lexer": "ipython3",
   "version": "3.8.5"
  },
  "nteract": {
   "version": "0.15.0"
  },
  "toc": {
   "base_numbering": 1,
   "nav_menu": {},
   "number_sections": true,
   "sideBar": true,
   "skip_h1_title": false,
   "title_cell": "Table of Contents",
   "title_sidebar": "Contents",
   "toc_cell": false,
   "toc_position": {
    "height": "calc(100% - 180px)",
    "left": "10px",
    "top": "150px",
    "width": "261.59375px"
   },
   "toc_section_display": true,
   "toc_window_display": false
  }
 },
 "nbformat": 4,
 "nbformat_minor": 1
}
