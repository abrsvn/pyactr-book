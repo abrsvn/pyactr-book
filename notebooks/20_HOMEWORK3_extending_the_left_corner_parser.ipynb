{
 "cells": [
  {
   "cell_type": "markdown",
   "metadata": {},
   "source": [
    "[![Open In Colab](./images/colab-badge.png)](https://colab.research.google.com/github/abrsvn/pyactr-book/blob/master/notebooks/20_HOMEWORK3_extending_the_left_corner_parser.ipynb)"
   ]
  },
  {
   "cell_type": "markdown",
   "metadata": {},
   "source": [
    "## Homework 3: extending the grammar and the left-corner parser\n",
    "\n",
    "Exted our grammar left-corner parser in the same way you extended the top-down parser:\n",
    "\n",
    "- with intransitive verbs like _sleeps_\n",
    "- with sentential-complement taking verbs like _believe_\n",
    "\n",
    "That is, add the following phrase-structure and lexical-insertion rules to the grammar:\n",
    "\n",
    "$$\\begin{array}[t]{lcl}\n",
    "        \\mbox{VP}&\\rightarrow&\\mbox{V}\\\\\n",
    "        \\mbox{VP}&\\rightarrow&\\mbox{V } \\mbox{CP}\\\\\n",
    "        \\mbox{CP}&\\rightarrow&\\mbox{C } \\mbox{S}\\\\\n",
    "        \\mbox{V}&\\rightarrow&\\mbox{sleeps}\\\\\n",
    "        \\mbox{V}&\\rightarrow&\\mbox{believes}\\\\\n",
    "        \\mbox{C}&\\rightarrow&\\mbox{that}\n",
    "\\end{array}$$\n",
    "\n",
    "Add the new lexical items to declarative memory and add new production rules to procedural memory to encode the new phrase-structure rules.\n",
    "\n",
    "Once your model is in place, parse the sentence _Mary believes that Bill sleeps_.\n",
    "\n",
    "Also, parse the sentence _Mary likes Bill_, to show that you can still parse the original example we used."
   ]
  },
  {
   "cell_type": "code",
   "execution_count": null,
   "metadata": {},
   "outputs": [],
   "source": []
  }
 ],
 "metadata": {
  "jupytext": {
   "cell_metadata_filter": "-all"
  },
  "kernelspec": {
   "display_name": "Python 3",
   "language": "python",
   "name": "python3"
  },
  "language_info": {
   "codemirror_mode": {
    "name": "ipython",
    "version": 3
   },
   "file_extension": ".py",
   "mimetype": "text/x-python",
   "name": "python",
   "nbconvert_exporter": "python",
   "pygments_lexer": "ipython3",
   "version": "3.8.5"
  },
  "toc": {
   "base_numbering": 1,
   "nav_menu": {},
   "number_sections": true,
   "sideBar": true,
   "skip_h1_title": false,
   "title_cell": "Table of Contents",
   "title_sidebar": "Contents",
   "toc_cell": false,
   "toc_position": {},
   "toc_section_display": true,
   "toc_window_display": false
  }
 },
 "nbformat": 4,
 "nbformat_minor": 4
}
