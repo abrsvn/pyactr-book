{
 "cells": [
  {
   "cell_type": "markdown",
   "metadata": {},
   "source": [
    "[![Open In Colab](./images/colab-badge.png)](https://colab.research.google.com/github/abrsvn/pyactr-book/blob/master/notebooks/25_posterior_beliefs_and_answering_the_theoretical_question.ipynb)"
   ]
  },
  {
   "cell_type": "markdown",
   "metadata": {},
   "source": [
    "The code so far:"
   ]
  },
  {
   "cell_type": "code",
   "execution_count": 1,
   "metadata": {},
   "outputs": [],
   "source": [
    "# uncomment the lines below to install the correct version of pymc3 and dependencies\n",
    "# !pip3 install --upgrade 'arviz==0.11.1'\n",
    "# !pip3 install --upgrade 'pymc3==3.9.3'"
   ]
  },
  {
   "cell_type": "code",
   "execution_count": 2,
   "metadata": {},
   "outputs": [],
   "source": [
    "import numpy as np\n",
    "\n",
    "%matplotlib inline\n",
    "import matplotlib.pyplot as plt\n",
    "plt.style.use('seaborn')\n",
    "import seaborn as sns\n",
    "\n",
    "import pandas as pd\n",
    "import pymc3 as pm"
   ]
  },
  {
   "cell_type": "code",
   "execution_count": 3,
   "metadata": {},
   "outputs": [
    {
     "data": {
      "text/plain": [
       "(347, 2)"
      ]
     },
     "execution_count": 3,
     "metadata": {},
     "output_type": "execute_result"
    }
   ],
   "source": [
    "url = 'https://github.com/abrsvn/pyactr-book/blob/master/data/every_each.csv?raw=true'\n",
    "every_each = pd.read_csv(url)\n",
    "every_each[\"quant\"] = every_each[\"quant\"].astype('category')\n",
    "every_each.shape"
   ]
  },
  {
   "cell_type": "code",
   "execution_count": 4,
   "metadata": {},
   "outputs": [],
   "source": [
    "every_each[\"dummy_quant\"] = (every_each[\"quant\"]==\"each\").astype(\"int\")"
   ]
  },
  {
   "cell_type": "code",
   "execution_count": 5,
   "metadata": {
    "scrolled": true
   },
   "outputs": [],
   "source": [
    "quant = np.array(every_each[\"dummy_quant\"])\n",
    "RTs = np.array(every_each[\"logRTresid\"])"
   ]
  },
  {
   "cell_type": "markdown",
   "metadata": {},
   "source": [
    "## Posterior beliefs: estimating the model parameters and answering the theoretical question"
   ]
  },
  {
   "cell_type": "markdown",
   "metadata": {},
   "source": [
    "With the priors and likelihood in hand, we can finally ask ```pymc3``` to give us the posterior distributions for the quantities of interest, namely ```mean_every``` and ```mean_difference```.\n",
    "\n",
    "We specify the full model as shown below:"
   ]
  },
  {
   "cell_type": "code",
   "execution_count": 6,
   "metadata": {},
   "outputs": [
    {
     "name": "stderr",
     "output_type": "stream",
     "text": [
      "Auto-assigning NUTS sampler...\n",
      "Initializing NUTS using jitter+adapt_diag...\n",
      "Multiprocess sampling (4 chains in 4 jobs)\n",
      "NUTS: [sigma, mean_difference, mean_every]\n"
     ]
    },
    {
     "data": {
      "text/html": [
       "\n",
       "    <div>\n",
       "        <style>\n",
       "            /* Turns off some styling */\n",
       "            progress {\n",
       "                /* gets rid of default border in Firefox and Opera. */\n",
       "                border: none;\n",
       "                /* Needs to be in here for Safari polyfill so background images work as expected. */\n",
       "                background-size: auto;\n",
       "            }\n",
       "            .progress-bar-interrupted, .progress-bar-interrupted::-webkit-progress-bar {\n",
       "                background: #F44336;\n",
       "            }\n",
       "        </style>\n",
       "      <progress value='220000' class='' max='220000' style='width:300px; height:20px; vertical-align: middle;'></progress>\n",
       "      100.00% [220000/220000 00:36<00:00 Sampling 4 chains, 0 divergences]\n",
       "    </div>\n",
       "    "
      ],
      "text/plain": [
       "<IPython.core.display.HTML object>"
      ]
     },
     "metadata": {},
     "output_type": "display_data"
    },
    {
     "name": "stderr",
     "output_type": "stream",
     "text": [
      "Sampling 4 chains for 50_000 tune and 5_000 draw iterations (200_000 + 20_000 draws total) took 37 seconds.\n",
      "The acceptance probability does not match the target. It is 0.5714099997964891, but should be close to 0.8. Try to increase the number of tuning steps.\n"
     ]
    }
   ],
   "source": [
    "every_each_model = pm.Model()\n",
    "\n",
    "with every_each_model:\n",
    "    # priors\n",
    "    mean_every = pm.Normal('mean_every', mu=0, sd=10)\n",
    "    mean_difference = pm.Normal('mean_difference', mu=0, sd=10)\n",
    "    sigma = pm.HalfNormal('sigma', sd=10)\n",
    "    # likelihood\n",
    "    observed_RTs = pm.Normal('observed_RTs',\n",
    "                   mu=mean_every + quant*mean_difference,\n",
    "                   sd=sigma,\n",
    "                   observed=RTs)\n",
    "\n",
    "with every_each_model:\n",
    "    trace = pm.sample(draws=5000, tune=50000, cores=4)"
   ]
  },
  {
   "cell_type": "markdown",
   "metadata": {},
   "source": [
    "Our assumptions for this model - and for Bayesian models in general - fall into two classes:\n",
    "\n",
    "- the assumptions we need to specify the priors\n",
    "- the assumptions we need to specify the likelihood (how the data is generated)\n",
    "\n",
    "We discuss them in turn."
   ]
  },
  {
   "cell_type": "markdown",
   "metadata": {},
   "source": [
    "The priors for our model are specified on lines 5-7 above.\n",
    "\n",
    "- our prior for the mean RT for _every_ is very weak / low information, as already discussed\n",
    "- our prior for the difference in RT between _each_ and _every_ is similarly weak / low information\n",
    "- finally, the prior for our noise distribution on line 6 allows for values anywhere between $0$ and $30$; this is a very non-committal range since the standard deviation of log RT residuals is at most 1, generating a range of log RT residuals between $-3$ and $3$ if these RTs are centered around $0$ and normally distributed"
   ]
  },
  {
   "cell_type": "markdown",
   "metadata": {},
   "source": [
    "The likelihood (the data generation part of the model) is specified on lines 9-12 above.\n",
    "\n",
    "- we indicate that we model the observed data by explicitly indicating on line 12 that these values are observed, and providing the variable that stores these observed values\n",
    "- in this case, the observed values are stored in the variable ```RTs```, which we introduced before\n",
    "\n",
    "- on line 10 of our model specification, we say that each RT is somewhere near the mean RT for the corresponding quantifier\n",
    "    - if the RT is associated with the quantifier _every_, our dummy variable ```quant``` takes the value $0$, so line 10 reduces to ```mu = mean_every```\n",
    "    - if the RT is associated with the quantifier _each_, the dummy variable ```quant``` takes the value $1$, so line 10 reduces to ```mu = mean_every + mean_difference```, that is, the mean RT for _each_\n",
    "    \n",
    "- as we already discussed, each RT is an imperfect, noisy reflection of the mean RT for the corresponding quantifier, so we add some normally distributed noise to that mean RT to obtain the actual RT\n",
    "- this normal distribution for the noise has a standard deviation ```sigma``` (line 11)\n",
    "- we do not know how large the noise is, so this will be the third parameter we estimate from the data"
   ]
  },
  {
   "cell_type": "markdown",
   "metadata": {},
   "source": [
    "At the end of the day, our assumptions about the priors and the likelihood lead us to using two types of probability distributions:\n",
    "\n",
    "- normal distributions, which come with two parameters / `knobs' (the mean and the standard deviation) that we can tweak to rearrange the way the probability mass is spread over the entire real line\n",
    "- half-normal distributions, which are by default assumed to cover the entire positive part of the real line, and which come with only one parameter / `knob' (the standard deviation) that can be dialed in to manipulate the spread of probability mass over the positive real numbers"
   ]
  },
  {
   "cell_type": "markdown",
   "metadata": {},
   "source": [
    "To summarize, we have three parameters we want to learn about from the data:\n",
    "\n",
    "- the mean RT for _every_ (```mean_every```)\n",
    "- the mean difference in RT between _each_ and _every_ (```mean_difference```)\n",
    "- the magnitude of the noise / dispersion of the actual RTs around the mean RT for the corresponding quantifier (```sigma```)\n",
    "\n",
    "All these three parameters contribute in essential ways to the likelihood, i.e., to the way we think the observed RTs data was generated (lines 9-12 in ```every-each-model```).\n",
    "\n",
    "And we need prior distributions for each of these three parameters (lines 5-7 in ```every-each-model```) so that we have can update them with our observed RT data.\n",
    "\n",
    "- these prior distributions have a total of five hyperparameters / `knobs' (two means and three standard deviations) that we need to set, and we have set them all at values that are very non-committal\n",
    "- this is why we called them weak, low information priors"
   ]
  },
  {
   "cell_type": "markdown",
   "metadata": {},
   "source": [
    "On lines 14-15 above, we finally run the model.\n",
    "\n",
    "- this means that we ask ```pymc3``` to compute for us the posterior distributions for the two quantities that are of primary interest to us, namely ```mean_every``` and ```mean_difference```"
   ]
  },
  {
   "cell_type": "markdown",
   "metadata": {},
   "source": [
    "We can now plot the resulting posterior distributions.\n",
    "\n",
    "- the posterior distributions below are much more constrained than the very 'loose' prior distributions we specified, which indicates that we learned a lot from the data\n",
    "- that is, these posterior distributions mostly reflect the data and not our priors (which were very weak)"
   ]
  },
  {
   "cell_type": "code",
   "execution_count": 7,
   "metadata": {},
   "outputs": [
    {
     "data": {
      "image/png": "[encoded data removed]",
      "text/plain": [
       "<Figure size 432x288 with 2 Axes>"
      ]
     },
     "metadata": {},
     "output_type": "display_data"
    }
   ],
   "source": [
    "fig, (ax1, ax2) = plt.subplots(ncols=2, nrows=1)\n",
    "fig.set_size_inches(6, 4)\n",
    "plot1 = sns.histplot(trace['mean_every'], kde=True, bins=50,\n",
    "                     element='step', ax=ax1)\n",
    "plot1.set_xlim(-0.2, 0.1)\n",
    "ax1.set_xlabel(r\"Mean RT 'every'\")\n",
    "plot2 = sns.histplot(trace['mean_difference'], kde=True,\n",
    "                     element='step', bins=50, ax=ax2)\n",
    "plot2.set_xlim(-0.1, 0.2)\n",
    "ax2.set_xlabel(r'Mean RT difference');"
   ]
  },
  {
   "cell_type": "markdown",
   "metadata": {},
   "source": [
    "We can also compute the means and standard deviations (a.k.a. standard errors) of these posterior distributions:"
   ]
  },
  {
   "cell_type": "code",
   "execution_count": 8,
   "metadata": {},
   "outputs": [
    {
     "data": {
      "text/plain": [
       "(-0.05, 0.02)"
      ]
     },
     "execution_count": 8,
     "metadata": {},
     "output_type": "execute_result"
    }
   ],
   "source": [
    "mean_every = trace['mean_every']\n",
    "mean_every.mean().round(2), mean_every.std().round(2)"
   ]
  },
  {
   "cell_type": "code",
   "execution_count": 9,
   "metadata": {},
   "outputs": [
    {
     "data": {
      "text/plain": [
       "(0.07, 0.03)"
      ]
     },
     "execution_count": 9,
     "metadata": {},
     "output_type": "execute_result"
    }
   ],
   "source": [
    "mean_difference = trace['mean_difference']\n",
    "mean_difference.mean().round(2), mean_difference.std().round(2)"
   ]
  },
  {
   "cell_type": "markdown",
   "metadata": {},
   "source": [
    "We see that the difference between _each_ and _every_ is positive, and significantly different from $0$ (most of the probability mass in the second plot above is to the right of $0$).\n",
    "\n",
    "This provides evidence for Tunstall's hypothesis that _each_ contributes an event-differentiation requirement. Recall how we started our discussion of this dataset:\n",
    "\n",
    "- if _each_ contributes an event-differentiation requirement, but not _every_, we expect it to have a higher preference for inverse scope than _every_\n",
    "- and since inverse scope is known to lead to processing difficulties, which manifest themselves as increased reading times (RTs), we expect to see higher RTs for the _each_ sentence relative to _every_"
   ]
  },
  {
   "cell_type": "markdown",
   "metadata": {},
   "source": [
    "## Conclusion"
   ]
  },
  {
   "cell_type": "markdown",
   "metadata": {},
   "source": [
    "Bayesian methods for data analysis and cognitive modeling have two advantages, one theoretical and one computational.\n",
    "\n",
    "- the theoretical one is that Bayesian methods are very intuitive:\n",
    "    - they mathematically encode the common-sense idea that we have beliefs about what is plausible and (un)likely to happen in the world, and that we learn from experience\n",
    "    - that is, experience / data updates these prior beliefs\n",
    "- to do statistical inference or predictions boils down to computing posterior beliefs (i.e., prior beliefs updated with data) and examining these posterior beliefs in various ways.\n",
    "\n",
    "Computationally, Bayesian methods in general and ```pymc3``` in particular give us access to a very powerful and flexible way of empirically evaluating linguistic theories.\n",
    "\n",
    "- these theories can be faithfully and fairly directly encoded in specific structures for the priors and for the way we think the data is generated (the likelihood)\n",
    "- we are not required to take our independently motivated linguistic theories and force them (or parts of them) into a pre-specified statistical inference mold\n",
    "- the opposite actually happens: we take our theory in all its complex and articulated glory and embed it in a fairly direct fashion in a Bayesian model\n",
    "- this in turn enables us to empirically evaluate it and do statistical inference about the parameters of the theory in a straightforward way\n",
    "\n",
    "Being able to take mathematically specified cognitive models and embed them in a Bayesian model to empirically evaluate them will become essential in the next notebooks, when we start introducing the subsymbolic components of ACT-R\n",
    "\n",
    "- the subsymbolic components of ACT-R come with a good number of real-valued parameters / 'knobs', and the Bayesian inference framework introduced in this chapter will enable us to learn the best settings for these parameters from the data rather than relying on default values that seem to be pulled out of thin air\n",
    "\n",
    "- equally importantly, embedding rich cognitive theories in Bayesian models also enables us to do empirically-driven theory comparison\n",
    "    - we can take two competing theories for the same phenomenon, collect experimental data, identify the best parameter settings for the two theories as well as our uncertainty about these parameter settings, and then compare how well the predictions made by these parameters settings fit the data\n",
    "    \n",
    "- we will in fact do this very soon, where we compare an exponential and a power-law model of forgetting"
   ]
  },
  {
   "cell_type": "code",
   "execution_count": null,
   "metadata": {},
   "outputs": [],
   "source": []
  }
 ],
 "metadata": {
  "jupytext": {
   "cell_metadata_filter": "-all"
  },
  "kernelspec": {
   "display_name": "Python 3",
   "language": "python",
   "name": "python3"
  },
  "language_info": {
   "codemirror_mode": {
    "name": "ipython",
    "version": 3
   },
   "file_extension": ".py",
   "mimetype": "text/x-python",
   "name": "python",
   "nbconvert_exporter": "python",
   "pygments_lexer": "ipython3",
   "version": "3.8.5"
  },
  "toc": {
   "base_numbering": 1,
   "nav_menu": {},
   "number_sections": true,
   "sideBar": true,
   "skip_h1_title": false,
   "title_cell": "Table of Contents",
   "title_sidebar": "Contents",
   "toc_cell": false,
   "toc_position": {},
   "toc_section_display": true,
   "toc_window_display": false
  }
 },
 "nbformat": 4,
 "nbformat_minor": 4
}
