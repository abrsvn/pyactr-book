{
 "cells": [
  {
   "cell_type": "markdown",
   "metadata": {},
   "source": [
    "[![Open In Colab](./images/colab-badge.png)](https://colab.research.google.com/github/abrsvn/pyactr-book/blob/master/notebooks/34_log_freq_model_of_lex_dec.ipynb)"
   ]
  },
  {
   "cell_type": "markdown",
   "metadata": {},
   "source": [
    "## The log-frequency model of lexical decision\n",
    "\n",
    "In previous notebooks, we introduced a model for participant in a simple lexical decision task. That model was sufficient introduce how we simulate interaction with the environment, but it was too simplistic in its assumptions about memory since memory retrievals were not dependent on any parameters of the retrieved word.\n",
    "\n",
    "In this and following notebooks, we improve on that model by incorporating the ACT-R model of declarative memory we just introduced.\n",
    "\n",
    "We start with the discussion of basic properties of word frequency and the way to model lexical decision while keeping these properties in mind. We then construct several ACT-R models that simulate lexical-decision tasks and whose retrieval is dependent on parameters of the retrieved word."
   ]
  },
  {
   "cell_type": "markdown",
   "metadata": {},
   "source": [
    "One very robust parameter affecting latencies and accuracies in lexical decision tasks is frequency (Whaley, Charles P. 1978. Word-nonword classification time. _Journal of Verbal Learning and Verbal Behavior_ 17:143–154). \n",
    "\n",
    "Frequency effects have been found not just in lexical decision tasks, but in many if not all tasks that involve some kind of lexical processing:\n",
    "\n",
    "- Forster, Kenneth I. 1990. _Lexical processing_. The MIT Press.\n",
    "- Monsell, Stephen. 1991. The nature and locus of word frequency effects in reading. In _Basic processes in reading: Visual word recognition_, ed. D. Besner and G. W. Humphreys, 148–197. Hillsdale, NJ: Erlbaum.\n",
    "\n",
    "These frequency effects have a specific functional form: since Howes, Davis H, and Richard L Solomon (1951) (Visual duration threshold as a function of word-probability. _Journal of experimental psychology_ 41), it is accepted that lexical access can be well approximated as a log-function of frequency.\n",
    "\n",
    "Modeling lexical access in terms of log-frequency provides a good, but not perfect, fit to the data.\n",
    "\n",
    "**Murray, Wayne S, and Kenneth I Forster. 2004. Serial mechanisms in lexical access: the rank hypothesis. _Psychological Review_ 111:3, 721-756** studied the role of frequency in detail and identified various issues with the log-frequency model. The data consisted of collected responses and response times in a lexical decision task using words from 16 frequency bands, summarized in the table below.\n",
    "\n",
    "- example words in the table are based on the _Corpus of Contemporary American English_ (COCA; [http://corpus.byu.edu/coca/](http://corpus.byu.edu/coca/), specifically the list available at [http://www.wordfrequency.info/files/entriesWithoutCollocates.txt](http://www.wordfrequency.info/files/entriesWithoutCollocates.txt), which lists frequencies of words of $450$ million words total (as of March 7, 2017).\n",
    "- the chosen example word was one of the closest one to the mean frequency listed in the same row, but these were not the words used in the actual experiment: Murray & Forster (2004) controlled for other parameters, e.g., word length, while manipulating word frequency."
   ]
  },
  {
   "cell_type": "markdown",
   "metadata": {},
   "source": [
    "**Frequency bands of words used in Murray and Forster (2004) (Exp. 1); frequency reported in number of tokens per 1 million words**:\n",
    "\n",
    "| Group | Frequency range | Mean frequency | Latency (ms) | Accuracy (%) | Example word |\n",
    "|:-----:|----------------:|---------------:|-------------:|-------------:|-------------:|\n",
    "|   1   |         315–197 |          242.0 |          542 |        97.22 |          guy |\n",
    "|   2   |          100–85 |           92.8 |          555 |        95.56 |     somebody |\n",
    "|   3   |           60–55 |           57.7 |          566 |        95.56 |       extend |\n",
    "|   4   |           42–39 |           40.5 |          562 |         96.3 |        dance |\n",
    "|   5   |           32–30 |           30.6 |          570 |        96.11 |        shape |\n",
    "|   6   |           24–23 |           23.4 |          569 |        94.26 |      besides |\n",
    "|   7   |              19 |           19.0 |          577 |           95 |          fit |\n",
    "|   8   |              16 |           16.0 |          587 |        92.41 |     dedicate |\n",
    "|   9   |           14-13 |           13.4 |          592 |        91.67 |        robot |\n",
    "|  10   |           12–11 |           11.5 |          605 |        93.52 |         tile |\n",
    "|  11   |              10 |           10.0 |          603 |        91.85 |      between |\n",
    "|  12   |               9 |            9.0 |          575 |        93.52 |    precedent |\n",
    "|  13   |               7 |            7.0 |          620 |        91.48 |      wrestle |\n",
    "|  14   |               5 |            5.0 |          607 |        90.93 |     resonate |\n",
    "|  15   |               3 |            3.0 |          622 |        84.44 |       seated |\n",
    "|  16   |               1 |            1.0 |          674 |        74.63 |   habitually |\n",
    "\n"
   ]
  },
  {
   "cell_type": "markdown",
   "metadata": {},
   "source": [
    "Using the RT latencies from Murray & Forster (2004), let us build a log-frequency model and evaluate the discrepancies between the predictions of the model and the data.\n",
    "\n",
    "- we first store the data in two variables ```freq``` (mean frequency) and ```rt``` (reaction time / latency; measured in s)."
   ]
  },
  {
   "cell_type": "code",
   "execution_count": 1,
   "metadata": {},
   "outputs": [],
   "source": [
    "import matplotlib.pyplot as plt\n",
    "plt.style.use('seaborn')\n",
    "import seaborn as sns\n",
    "\n",
    "import numpy as np\n",
    "import pandas as pd\n",
    "\n",
    "import pymc3 as pm"
   ]
  },
  {
   "cell_type": "code",
   "execution_count": 2,
   "metadata": {},
   "outputs": [],
   "source": [
    "freq = np.array([242, 92.8, 57.7, 40.5, 30.6, 23.4, 19,\n",
    "                 16, 13.4, 11.5, 10, 9, 7, 5, 3, 1])\n",
    "rt = np.array([542, 555, 566, 562, 570, 569, 577, 587,\n",
    "               592, 605, 603, 575, 620, 607, 622, 674])/1000\n",
    "accuracy = np.array([97.22, 95.56, 95.56, 96.3, 96.11, 94.26,\n",
    "                     95, 92.41, 91.67, 93.52, 91.85, 93.52,\n",
    "                     91.48, 90.93, 84.44, 74.63])/100"
   ]
  },
  {
   "cell_type": "markdown",
   "metadata": {},
   "source": [
    "We can now build a Bayesian model, very similar to the one for the exponential model of forgetting we built before:"
   ]
  },
  {
   "cell_type": "code",
   "execution_count": 3,
   "metadata": {},
   "outputs": [
    {
     "name": "stderr",
     "output_type": "stream",
     "text": [
      "INFO (theano.gof.compilelock): Waiting for existing lock by process '3682' (I am process '45872')\n",
      "INFO (theano.gof.compilelock): To manually release the lock, delete /home/ady/.theano/compiledir_Linux-5.8--generic-x86_64-with-glibc2.29-x86_64-3.8.5-64/lock_dir\n"
     ]
    }
   ],
   "source": [
    "log_freq_model = pm.Model()\n",
    "with log_freq_model:\n",
    "    # priors\n",
    "    intercept = pm.Normal('intercept', mu=0, sd=300)\n",
    "    slope = pm.Normal('slope', mu=0, sd=300)\n",
    "    sigma = pm.HalfNormal('sigma', sd=300)\n",
    "    # likelihood\n",
    "    mu = pm.Deterministic('mu', intercept + slope*np.log(freq))\n",
    "    observed_rt = pm.Normal('observed_rt', mu=mu, sd=sigma, observed=rt)"
   ]
  },
  {
   "cell_type": "code",
   "execution_count": 4,
   "metadata": {},
   "outputs": [
    {
     "name": "stderr",
     "output_type": "stream",
     "text": [
      "Auto-assigning NUTS sampler...\n",
      "Initializing NUTS using jitter+adapt_diag...\n",
      "Multiprocess sampling (4 chains in 4 jobs)\n",
      "NUTS: [sigma, slope, intercept]\n"
     ]
    },
    {
     "data": {
      "text/html": [
       "\n",
       "    <div>\n",
       "        <style>\n",
       "            /* Turns off some styling */\n",
       "            progress {\n",
       "                /* gets rid of default border in Firefox and Opera. */\n",
       "                border: none;\n",
       "                /* Needs to be in here for Safari polyfill so background images work as expected. */\n",
       "                background-size: auto;\n",
       "            }\n",
       "            .progress-bar-interrupted, .progress-bar-interrupted::-webkit-progress-bar {\n",
       "                background: #F44336;\n",
       "            }\n",
       "        </style>\n",
       "      <progress value='80000' class='' max='80000' style='width:300px; height:20px; vertical-align: middle;'></progress>\n",
       "      100.00% [80000/80000 00:18<00:00 Sampling 4 chains, 0 divergences]\n",
       "    </div>\n",
       "    "
      ],
      "text/plain": [
       "<IPython.core.display.HTML object>"
      ]
     },
     "metadata": {},
     "output_type": "display_data"
    },
    {
     "name": "stderr",
     "output_type": "stream",
     "text": [
      "Sampling 4 chains for 15_000 tune and 5_000 draw iterations (60_000 + 20_000 draws total) took 19 seconds.\n"
     ]
    }
   ],
   "source": [
    "with log_freq_model:\n",
    "    trace = pm.sample(draws=5000, tune=15000, n_init=200000, cores=4)"
   ]
  },
  {
   "cell_type": "markdown",
   "metadata": {},
   "source": [
    "We can now plot the estimates of the log-frequency model:"
   ]
  },
  {
   "cell_type": "code",
   "execution_count": 5,
   "metadata": {},
   "outputs": [],
   "source": [
    "mu = trace[\"mu\"]"
   ]
  },
  {
   "cell_type": "code",
   "execution_count": 6,
   "metadata": {},
   "outputs": [],
   "source": [
    "import arviz as az"
   ]
  },
  {
   "cell_type": "code",
   "execution_count": 7,
   "metadata": {},
   "outputs": [
    {
     "name": "stderr",
     "output_type": "stream",
     "text": [
      "/usr/local/lib/python3.8/dist-packages/arviz/stats/stats.py:493: FutureWarning: hdi currently interprets 2d data as (draw, shape) but this will change in a future release to (chain, draw) for coherence with other functions\n",
      "  warnings.warn(\n"
     ]
    },
    {
     "data": {
      "image/png": "[encoded data removed]",
      "text/plain": [
       "<Figure size 396x396 with 2 Axes>"
      ]
     },
     "metadata": {},
     "output_type": "display_data"
    }
   ],
   "source": [
    "fig, (ax1, ax2) = plt.subplots(ncols=1, nrows=2)\n",
    "fig.set_size_inches(5.5, 5.5)\n",
    "\n",
    "# plot 1\n",
    "ax1.plot(freq, rt, marker='o', linestyle='')\n",
    "ax1.plot(freq, mu.mean(axis=0), color='red', linestyle='-')\n",
    "ax1.set_title('Observed (blue) & predicted (red) RTs against log frequency')\n",
    "ax1.set_xlabel('Log frequency (log of # tokens/1 million words)')\n",
    "ax1.set_xscale('log', base=10) # or just ax1.set_xscale('log')\n",
    "ax1.set_ylabel('RTs (s)')\n",
    "ax1.grid(b=True, which='minor', color='w', linewidth=1.0)\n",
    "\n",
    "# plot 2\n",
    "yerr=[mu.mean(axis=0)-az.hdi(mu)[:,0],\n",
    "      az.hdi(mu)[:,1]-mu.mean(axis=0)]\n",
    "\n",
    "ax2.errorbar(rt, mu.mean(axis=0), yerr=yerr, marker='o', linestyle='')\n",
    "ax2.plot(np.linspace(0.5, 0.7, 10), np.linspace(0.5, 0.7, 10),\n",
    "         color='red', linestyle=':')\n",
    "ax2.set_title('Log frequency model: Observed vs. predicted RTs')\n",
    "ax2.set_xlabel('Observed RTs (s)')\n",
    "ax2.set_ylabel('Predicted RTs (s)')\n",
    "ax2.grid(b=True, which='minor', color='w', linewidth=1.0)\n",
    "\n",
    "plt.tight_layout(pad=0.5, w_pad=0.2, h_pad=1.9);"
   ]
  },
  {
   "cell_type": "markdown",
   "metadata": {},
   "source": [
    "- the log-frequency model gets the middle values right, but it tends to underestimate the amount of time needed to access words in the extreme frequency bands,\n",
    "    - both low frequency (associated with high RTs)\n",
    "    - and high frequency (associated with low RTs)\n",
    "    \n",
    "Next, we model frequency effects in ACT-R as practiced memory retrieval, which is commonly assumed to be a power function of time in the same way that memory performance is."
   ]
  },
  {
   "cell_type": "code",
   "execution_count": null,
   "metadata": {},
   "outputs": [],
   "source": []
  }
 ],
 "metadata": {
  "jupytext": {
   "cell_metadata_filter": "-all"
  },
  "kernelspec": {
   "display_name": "Python 3",
   "language": "python",
   "name": "python3"
  },
  "language_info": {
   "codemirror_mode": {
    "name": "ipython",
    "version": 3
   },
   "file_extension": ".py",
   "mimetype": "text/x-python",
   "name": "python",
   "nbconvert_exporter": "python",
   "pygments_lexer": "ipython3",
   "version": "3.8.5"
  },
  "toc": {
   "base_numbering": 1,
   "nav_menu": {},
   "number_sections": true,
   "sideBar": true,
   "skip_h1_title": false,
   "title_cell": "Table of Contents",
   "title_sidebar": "Contents",
   "toc_cell": false,
   "toc_position": {},
   "toc_section_display": true,
   "toc_window_display": false
  }
 },
 "nbformat": 4,
 "nbformat_minor": 4
}
