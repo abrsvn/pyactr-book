{
 "cells": [
  {
   "cell_type": "markdown",
   "metadata": {},
   "source": [
    "[![Open In Colab](./images/colab-badge.png)](https://colab.research.google.com/github/abrsvn/pyactr-book/blob/master/notebooks/1_ACTR_cognitive_architecture_in_cog_sci_and_ling.ipynb)"
   ]
  },
  {
   "cell_type": "markdown",
   "metadata": {},
   "source": [
    "# The ACT-R cognitive architecture in cognitive science and linguistics"
   ]
  },
  {
   "cell_type": "markdown",
   "metadata": {},
   "source": [
    "## Cognitive architectures and ACT-R\n",
    "\n",
    "Adaptive Control of Thought -- Rational (ACT-R, pronounced like the verb 'act' followed by the letter 'r') is a cognitive architecture.\n",
    "\n",
    "- 'Control of thought' is used here in a descriptive way, similar to the sense of 'control' in the notion of 'control flow' in imperative programming languages: it determines the order in which programming statements -- or cognitive actions -- are executed / evaluated, and thus captures essential properties of an algorithm and its specific implementation in a program -- or a cognitive system. 'Control of thought' is definitely not used in a prescriptive way roughly equivalent to 'mind control' / indoctrination.\n",
    "\n",
    "Cognitive architectures are commonly used in cognitive science to integrate empirical results into a unified cognitive framework, which establishes their consistency and provides a comprehensive formal foundation for future research. They are also used to make fully explicit and compute predictions of abstract and complex theoretical claims. For the same reasons, using a cognitive architecture can be very useful for the working linguist and psycholinguist. This book shows how the ACT-R cognitive architecture can be used to shed light on the cognitive mechanisms underlying a variety of linguistic phenomena, and to quantitatively and qualitatively capture the behavioral patterns observed in a variety of psycholinguistic tasks."
   ]
  },
  {
   "cell_type": "markdown",
   "metadata": {},
   "source": [
    "The term 'cognitive architecture' was first introduced by **Bell, C Gordon, and Allen Newell. 1971. *Computer Structures: Readings and Examples*. New York: McGraw-Hill**. A cognitive architecture specifies the general structure of the human mind at a level of abstraction that is sufficient to capture how the mind achieves its goals. Various cognitive architectures exist. They differ in many respects, but their defining characteristic is the level of abstractness that the architecture presupposes. As John R. Anderson, the founder of ACT-R, puts it:\n",
    "\n",
    "> In science, choosing the best level of abstraction for developing a theory is a strategic decision. In the case of connectionist elements or symbolic structures in ACT-R, the question is which level will provide the best bridge between brain and mind [...]. In both cases, the units are a significant abstraction from neurons and real brain processes, but the gap is probably smaller from the connectionist units to the brain. Similarly, in both cases the units are a significant distance from functions of the mind, but probably the gap is smaller in the case of ACT-R units. In both cases, the units are being proposed to provide a useful island to support a bridge from brain to mind. The same level of description might not be best for all applications. Connectionist models have enjoyed their greatest success in describing perceptual processing, while ACT-R models have enjoyed their greatest success in describing higher level processes such as equation solving. [...] I believe ACT-R has found the best level of abstraction for understanding those aspects of the human mind that separate it from the minds of other species.\n",
    ">\n",
    "> (**Anderson, John R. 2007. *How Can the Human Mind Occur in the Physical Universe?* Oxford University Press, pp. 38-39**)"
   ]
  },
  {
   "cell_type": "markdown",
   "metadata": {},
   "source": [
    "If nothing else, the preceding quote should sound intriguing to a theoretical linguist or psycholinguist, who often works on higher-level processes involved in language production or comprehension and the competence-level representations that these processes operate on. Thus, theoretical linguists and psycholinguists are likely to see ACT-R as providing the right level of abstraction for their  scientific enterprise. We hope that this book will provide enough details to show that this is not just an empty promise: ACT-R can be enlightening in formalizing theoretical linguistic claims, and making precise the ways in which these claims connect to processing mechanisms underlying linguistic behavior."
   ]
  },
  {
   "cell_type": "markdown",
   "metadata": {},
   "source": [
    "But being intrigued by the idea of cognitive architectures is not enough to justify why cognitive scientists in general, and linguists in particular, should care about cognitive architectures in their daily research. A better justification is that linguistics is part of the larger field of cognitive science, where _process_ models of the kind cognitive architectures enable us to formulate are the proper scientific target to aim for. The term 'process models' is taken from chapter 1 of **Lewandowsky, S., and S. Farrell. 2010. *Computational Modeling in Cognition: Principles and Practice*. Thousand Oaks, CA, USA: SAGE Publications**, who discuss why this type of models -- roughly, models of human language performance -- provide a higher scientific standard in cognitive science than _characterization_ models -- roughly, models of human language competence. Both process and characterization models are better than simply _descriptive_ models,"
   ]
  },
  {
   "cell_type": "markdown",
   "metadata": {},
   "source": [
    "> whose sole purpose is to replace the intricacies of a full data set with a simpler representation in terms of the model's parameters. Although those models themselves have no psychological content, they may well have compelling psychological implications. [In contrast, both characterization and process models] seek to illuminate the workings of the mind, rather than data, but do so to a greatly varying extent. Models that characterize processes identify and measure cognitive stages, but they are neutral with respect to the exact mechanics of those stages. [Process] models, by contrast, describe all cognitive processes in great detail and leave nothing within their scope unspecified.\n",
    ">\n",
    "> Other distinctions between models are possible and have been proposed [...], and we make no claim that our classification is better than other accounts. Unlike other accounts, however, our three classes of models [descriptive, characterization and process models] map into three distinct tasks that confront cognitive scientists. Do we want to describe data? Do we want to identify and characterize broad stages of processing? Do we want to explain how exactly a set of postulated cognitive processes interact to produce the behavior of interest?\n",
    ">\n",
    "> (**Lewandowsky & Farrell 2010, p. 25**)"
   ]
  },
  {
   "cell_type": "markdown",
   "metadata": {},
   "source": [
    "The advantages and disadvantages of process (performance) models relative to characterization (competence) models can be summarized as follows:\n",
    "\n",
    "> Like characterization models, [the power of process models] rests on hypothetical cognitive constructs, but [they provide] a detailed explanation of those constructs [...] One might wonder why not every model belongs to this class. After all, if one can specify a process, why not do that rather than just identify and characterize it? The answer is twofold.\n",
    ">\n",
    "> First, it is not always possible to specify a presumed process at the level of detail required for [a process] model [...] Second, there are cases in which a coarse characterization may be preferable to a detailed specification. For example, it is vastly more important for a weatherman to know whether it is raining or snowing, rather than being confronted with the exact details of the water molecules' Brownian motion.\n",
    ">\n",
    "> Likewise, in psychology [and linguistics!], modeling at this level has allowed theorists to identify common principles across seemingly disparate areas. That said, we believe that in most instances, cognitive scientists would ultimately prefer an explanatory process model over mere characterization.\n",
    ">\n",
    "> (**Lewandowsky & Farrell 2010, p. 19**)"
   ]
  },
  {
   "cell_type": "markdown",
   "metadata": {},
   "source": [
    "However, there is a more basic reason why linguists should consider process / performance models -- and the cognitive architectures that enable us to formulate them -- in addition to and at the same time as characterization / competence models. The reason is that _a priori_, we cannot know whether the best analysis of a linguistic phenomenon is exclusively a matter of competence or performance or both, in much the same way that we do not know in advance whether certain phenomena are best analyzed in syntactic terms or semantic terms or both.\n",
    "\n",
    "- We selected syntax and semantics only as a convenient example, since issues at the syntax/semantics interface are by now a staple of (generative) linguistics. Any other linguistic subdisciplines and their interfaces, e.g., phonology or pragmatics, would serve equally well to make the same point.\n",
    "\n",
    "Such determinations can only be done _a posteriori_: a variety of accounts need to be devised first, instantiating various points on the competence-performance theoretical spectrum. Once specified in sufficient detail, the accounts can be empirically and methodologically evaluated in systematic ways. Our goal in this book is to provide a framework for building process models, i.e., integrated competence-performance theories, for formal linguistics in general and semantics in particular."
   ]
  },
  {
   "cell_type": "markdown",
   "metadata": {},
   "source": [
    "Characterization / competence models have been the focus of theorizing in formal linguistics, and will rightly continue to be one of its main foci for the foreseeable future. However, we believe that the field of linguistics in general -- and formal semantics in particular -- is now mature enough to start considering process / performance models in a more systematic fashion.\n",
    "\n",
    "The main goal of these series of notebooks, which follow the open-access book\n",
    "\n",
    "[**Computational Cognitive Modeling and Linguistic Theory**, Adrian Brasoveanu & Jakub Dotlačil](https://link.springer.com/book/10.1007/978-3-030-31846-8)\n",
    "\n",
    "is to enable linguists to substantially and productively engage with performance questions related to the linguistic phenomena they investigate.\n",
    "\n",
    "We do this by making it possible and relatively easy for researchers to build integrated competence/performance linguistic models that formalize explicit (quantitative) connections between theoretical constructs and experimental data."
   ]
  },
  {
   "cell_type": "markdown",
   "metadata": {},
   "source": [
    "## ACT-R in cognitive science and linguistics\n",
    "\n",
    "This book and the cognitive models we build and discuss are not intended as a comprehensive introduction and/or reference manual for ACT-R. To become acquainted with ACT-R's theoretical foundations in their full glory, as well as its plethora of applications in cognitive psychology, consider:\n",
    "\n",
    "- **Anderson, John R. 1990. *The Adaptive Character of Thought*. Hillsdale, NJ: Lawrence Erlbaum Associates**\n",
    "- **Anderson, John R., and Christian Lebiere. 1998. *The Atomic Components of Thought*. Hillsdale, NJ: Lawrence Erlbaum Associates**\n",
    "- **Anderson, John R., Daniel Bothell, and Michael D. Byrne. 2004. “An Integrated Theory of the Mind.” *Psychological Review* 111 (4): 1036–60**\n",
    "- **Anderson, John R. 2007. *How Can the Human Mind Occur in the Physical Universe?* Oxford University Press**\n",
    "- [the ACT-R website](http://act-r.psy.cmu.edu/).\n",
    "\n",
    "A quick introduction to the motivation and ideas behind cognitive architectures can be obtained by:\n",
    "\n",
    "1. skimming through **Newell, Alan. 1973a. “Production Systems: Models of Control Structures.” In *Visual Information Processing*, edited by W.G. Chase and others, 463–526. New York: Academic Press.**\n",
    "2. watching Allen Newell's 1991 address _Desires and Diversions_, which is an approximately 1-hour long movie available on youtube; search for it or go directly to this link [https://www.youtube.com/watch?v=_sD42h9d1pk](https://www.youtube.com/watch?v=_sD42h9d1pk))\n",
    "3. reading the first two chapters in **Anderson, John R. 2007. *How Can the Human Mind Occur in the Physical Universe?* Oxford University Press**, Ch. 1 (_Cognitive Architecture_) and Ch. 2 (_The Modular Organization of the Mind_), which are beginner-friendly."
   ]
  },
  {
   "cell_type": "markdown",
   "metadata": {},
   "source": [
    "ACT-R is probably the most popular cognitive architecture in linguistics. Its predecessor (ACT) has been used in **Anderson, John R. 1976. *Language, Memory, and Thought*. Hillsdale, NJ: Erlbaum** to derive facts about language and grammar.\n",
    "\n",
    "This attempt was criticized in linguistics (**Wexler, Kenneth. 1978. “A Review of John R. Anderson’s Language, Memory, and Thought.” _Cognition_ 6 (4): 327–51**) and this particular research line of using ACT to model language phenomena was abandoned."
   ]
  },
  {
   "cell_type": "markdown",
   "metadata": {},
   "source": [
    "Renewed interest in integrating ACT-R and linguistics was sparked by the publication of\n",
    "\n",
    "**Lewis, Richard, and Shravan Vasishth. 2005. “An Activation-Based Model of Sentence Processing as Skilled Memory Retrieval.” *Cognitive Science* 29: 1–45**\n",
    "\n",
    "while the contemporary and excellent\n",
    "\n",
    "**Budiu, Raluca, and John R. Anderson. 2004. “Interpretation-Based Processing: A Unified Theory of Semantic Sentence Processing.” *Cognitive Science* 28: 1–44**\n",
    "\n",
    "**Budiu, R., and J. R. Anderson. 2005. “Negation in Nonliteral Sentences.” In *Proceedings of the 27th Annual Conference of the Cognitive Science Society*, edited by B. Bara, L. Barsalou, and M. Bucciarelli, 354–59. Lawrence Erlbaum Associates**\n",
    "\n",
    "remained largely unknown in the (psycho)linguistic community."
   ]
  },
  {
   "cell_type": "markdown",
   "metadata": {},
   "source": [
    "**Lewis & Vasishth 2005** show that left-corner parsers\n",
    "\n",
    "- originally developed in computational linguistics, but with the aim of having cognitively plausible properties\n",
    "    - **Johnson-Laird, Philip N. 1983. *Mental Models: Towards a Cognitive Science of Language, Inference, and Consciousness*. Harvard University Press**\n",
    "    - **Resnik, Philip. 1992. “Left-Corner Parsing and Psychological Plausibility.” In *Proceedings of the Fourteenth International Conference on Computational Linguistics*. Nantes, France**\n",
    "\n",
    "can be implemented in ACT-R.\n",
    "\n",
    "Lewis & Vasishth's models were created by hand-crafting parsing rules and interweaving these rules and memory retrievals. Memory retrievals are needed in parsing to connect various language elements that depend on each other for their interpretation, e.g., verbs and their arguments, or reflexives and their antecedents.\n",
    "\n",
    "The models made precise quantitative predictions for reaction times in eye-tracking while reading and self-paced reading experiments. In particular, the models were successful in simulating effects of interference and distance on memory retrieval (as observable in reaction times)."
   ]
  },
  {
   "cell_type": "markdown",
   "metadata": {},
   "source": [
    "ACT-R models of real-time language comprehension have since been used to predict:\n",
    "\n",
    "- the effects of frequency and priming in language production\n",
    "    - **Reitter, David, Frank Keller, and Johanna D Moore. 2011. “A Computational Cognitive Model of Syntactic Priming.” *Cognitive Science* 35 (4): 587–637**\n",
    "- the interaction of parsing and oculomotor control\n",
    "    - **Engelmann, Felix, Shravan Vasishth, Ralf Engbert, and Reinhold Kliegl. 2013. “A Framework for Modeling the Interaction of Syntactic Processing and Eye Movement Control.” *Topics in Cognitive Science* 5 (3): 452–74. <https://doi.org/10.1111/tops.12026>**\n",
    "    - **Dotlačil, Jakub. 2018. “Building an Act-R Reader for Eye-Tracking Corpus Data.” *Topics in Cognitive Science* 10 (1): 144–60**\n",
    "- the interaction of predictability/surprisal and memory retrieval\n",
    "    - **Boston, Marisa Ferrara, John T Hale, Shravan Vasishth, and Reinhold Kliegl. 2011. “Parallel Processing and Sentence Comprehension Difficulty.” *Language and Cognitive Processes* 26 (3): 301–49**\n",
    "- interference effects in the recall of structural information\n",
    "    - **Wagers, Matthew W, Ellen F Lau, and Colin Phillips. 2009. “Agreement Attraction in Comprehension: Representations and Processes.” *Journal of Memory and Language* 61 (2): 206–37**\n",
    "    - **Dillon, Brian, Alan Mishler, Shayne Sloggett, and Colin Phillips. 2013. “Contrasting Intrusion Profiles for Agreement and Anaphora: Experimental and Modeling Evidence.” *Journal of Memory and Language* 69 (2): 85–103**\n",
    "    - **Kush, Dave, Jeffrey Lidz, and Colin Phillips. 2015. “Relation-Sensitive Retrieval: Evidence from Bound Variable Pronouns.” *Journal of Memory and Language* 82: 18–40**\n",
    "    - **Jäger, Lena A, Lena Benz, Jens Roeser, Brian W Dillon, and Shravan Vasishth. 2015. “Teasing Apart Retrieval and Encoding Interference in the Processing of Anaphors.” *Frontiers in Psychology* 6**\n",
    "    - **Jäger, Lena A, Felix Engelmann, and Shravan Vasishth. 2017. “Similarity-Based Interference in Sentence Comprehension: Literature Review and Bayesian Meta-Analysis.” *Journal of Memory and Language* 94: 316–39**\n",
    "    - **Nicenboim, Bruno, and Shravan Vasishth. 2018. “Models of Retrieval in Sentence Comprehension: A Computational Evaluation Using Bayesian Hierarchical Modeling.” *Journal of Memory and Language* 99: 1–34. <https://doi.org/https://doi.org/10.1016/j.jml.2017.08.004>**"
   ]
  },
  {
   "cell_type": "markdown",
   "metadata": {},
   "source": [
    "ACT-R language modeling has also been successful in explaining:\n",
    "\n",
    "- the acquisition of past-tense verb morphology\n",
    "    - **Taatgen, Niels A., and John R. Anderson. 2002. “Why Do Children Learn to Say ‘Broke’? A Model of Learning the Past Tense Without Feedback.” *Cognition* 86 (2): 123–55**\n",
    "- the semantic processing of metaphors\n",
    "    - **Budiu, Raluca, and John R. Anderson. 2004. “Interpretation-Based Processing: A Unified Theory of Semantic Sentence Processing.” *Cognitive Science* 28: 1–44**\n",
    "- the semantic processing of negation\n",
    "    - **Budiu, R., and J. R. Anderson. 2005. “Negation in Nonliteral Sentences.” In *Proceedings of the 27th Annual Conference of the Cognitive Science Society*, edited by B. Bara, L. Barsalou, and M. Bucciarelli, 354–59. Lawrence Erlbaum Associates**\n",
    "- impaired processing in individuals with aphasia\n",
    "    - **Mätzig, Paul, Shravan Vasishth, Felix Engelmann, David Caplan, and Frank Burchert. 2018. “A Computational Investigation of Sources of Variability in Sentence Comprehension Difficulty in Aphasia.” *Topics in Cognitive Science* 10 (1): 161–74**"
   ]
  },
  {
   "cell_type": "markdown",
   "metadata": {},
   "source": [
    "ACT-R's success in modeling linguistic phenomena is to a large extent attributable to the fact that ACT-R is a so-called hybrid cognitive architecture. The 'hybrid' qualification refers to the fact that ACT-R combines symbolic and subsymbolic components.\n",
    "\n",
    "- the symbolic components enable us to incorporate formal linguistics theories, i.e., theories describing human language competence, in a fairly transparent way\n",
    "- the subsymbolic components enable the resulting ACT-R models to make quantitative predictions for human language _performance_ that can be checked against experimental data\n",
    "\n",
    "Thus, the hybrid architecture is useful in bridging the gap between competence and performance while retaining the essential features of current theorizing in linguistics. This is one of the main reasons it resonated with researchers in (computational) psycholinguistics.\n",
    "\n",
    "In what follows, we won't focus on one particular phenomenon or model, but instead show how ACT-R can be used to model a variety of lexical, syntactic and semantic phenomena.\n",
    "\n",
    "We hope that the variety of applications and the precise (and largely correct) predictions of the models will help researchers assess the usefulness of computational cognitive modeling in general, and ACT-R modeling in particular, for linguistic and psycholinguistic theorizing."
   ]
  }
 ],
 "metadata": {
  "jupytext": {
   "cell_metadata_filter": "-all"
  },
  "kernelspec": {
   "display_name": "Python 3",
   "language": "python",
   "name": "python3"
  },
  "language_info": {
   "codemirror_mode": {
    "name": "ipython",
    "version": 3
   },
   "file_extension": ".py",
   "mimetype": "text/x-python",
   "name": "python",
   "nbconvert_exporter": "python",
   "pygments_lexer": "ipython3",
   "version": "3.8.5"
  },
  "toc": {
   "base_numbering": 1,
   "nav_menu": {},
   "number_sections": true,
   "sideBar": true,
   "skip_h1_title": false,
   "title_cell": "Table of Contents",
   "title_sidebar": "Contents",
   "toc_cell": false,
   "toc_position": {},
   "toc_section_display": true,
   "toc_window_display": false
  }
 },
 "nbformat": 4,
 "nbformat_minor": 4
}
