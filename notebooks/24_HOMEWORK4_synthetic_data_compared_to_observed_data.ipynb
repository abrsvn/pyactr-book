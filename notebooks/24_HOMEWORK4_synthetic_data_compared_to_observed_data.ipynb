{
 "cells": [
  {
   "cell_type": "markdown",
   "metadata": {},
   "source": [
    "[![Open In Colab](./images/colab-badge.png)](https://colab.research.google.com/github/abrsvn/pyactr-book/blob/master/notebooks/24_HOMEWORK4_synthetic_data_compared_to_observed_data)"
   ]
  },
  {
   "cell_type": "markdown",
   "metadata": {},
   "source": [
    "## Homework 4\n",
    "\n",
    "Select 5 different sets of values for the three parameters `mean_every`, `mean_difference`, and `sigma`.\n",
    "\n",
    "For each of the 5 different sets of values, generate 5 synthetic datasets the same way we did in the 'likelihood function' notebook.\n",
    "\n",
    "- just like in the notebook, these synthetic datasets should have the same structure as the actual/observed/provided dataset containing the (residualized log) RTs for the 'every' and 'each' conditions\n",
    "\n",
    "Plot the synthetic datasets just like we plotted the actual dataset in the notebook.\n",
    "\n",
    "- you should have 5 groups of 5 plots each \n",
    "    - 25 plots total\n",
    "    - each group of 5 plots corresponds to one set of parameter values\n",
    "    \n",
    "After plotting the 5 synthetic datasets in each group, compare them with the actual dataset and briefly discuss how close you think the synthetic datasets are to the (plot of) the actual dataset.\n",
    "\n",
    "Please organize your notebooks in 5 sections (recall that `#` or `##` or `###` create sections or subsections in markdown), one for each group of plots / each set of parameter values."
   ]
  },
  {
   "cell_type": "code",
   "execution_count": null,
   "metadata": {},
   "outputs": [],
   "source": []
  }
 ],
 "metadata": {
  "jupytext": {
   "cell_metadata_filter": "-all"
  },
  "kernelspec": {
   "display_name": "Python 3",
   "language": "python",
   "name": "python3"
  },
  "language_info": {
   "codemirror_mode": {
    "name": "ipython",
    "version": 3
   },
   "file_extension": ".py",
   "mimetype": "text/x-python",
   "name": "python",
   "nbconvert_exporter": "python",
   "pygments_lexer": "ipython3",
   "version": "3.8.5"
  },
  "toc": {
   "base_numbering": 1,
   "nav_menu": {},
   "number_sections": true,
   "sideBar": true,
   "skip_h1_title": false,
   "title_cell": "Table of Contents",
   "title_sidebar": "Contents",
   "toc_cell": false,
   "toc_position": {},
   "toc_section_display": true,
   "toc_window_display": false
  }
 },
 "nbformat": 4,
 "nbformat_minor": 4
}
